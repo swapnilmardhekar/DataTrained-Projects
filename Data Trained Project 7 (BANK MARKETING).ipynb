{
 "cells": [
  {
   "cell_type": "code",
   "execution_count": 270,
   "id": "393573ba",
   "metadata": {},
   "outputs": [],
   "source": [
    "import pandas as pd\n",
    "import numpy as np\n",
    "import matplotlib.pyplot as plt\n",
    "import seaborn as sns\n",
    "import scipy.stats as st\n",
    "import sklearn\n",
    "\n",
    "from sklearn.preprocessing import LabelEncoder\n",
    "from statsmodels.stats.outliers_influence import variance_inflation_factor\n",
    "from scipy.stats import zscore\n",
    "from scipy.stats import boxcox\n",
    "from sklearn.preprocessing import StandardScaler\n",
    "from imblearn.over_sampling import SMOTE\n",
    "\n",
    "from sklearn.model_selection import train_test_split,GridSearchCV,cross_val_score\n",
    "from sklearn.metrics import accuracy_score,confusion_matrix,classification_report\n",
    "\n",
    "from sklearn.linear_model import LogisticRegression\n",
    "from sklearn.neighbors import KNeighborsClassifier\n",
    "from sklearn.tree import DecisionTreeClassifier\n",
    "from sklearn.svm import SVC\n",
    "\n",
    "from sklearn.ensemble import RandomForestClassifier,GradientBoostingClassifier,AdaBoostClassifier,VotingClassifier\n",
    "\n",
    "import joblib"
   ]
  },
  {
   "cell_type": "code",
   "execution_count": 212,
   "id": "691a32de",
   "metadata": {},
   "outputs": [],
   "source": [
    "file=pd.read_csv('https://raw.githubusercontent.com/dsrscientist/dataset5/main/termdeposit_train.csv')"
   ]
  },
  {
   "cell_type": "code",
   "execution_count": 213,
   "id": "6b9521cb",
   "metadata": {},
   "outputs": [],
   "source": [
    "df=pd.DataFrame(file)"
   ]
  },
  {
   "cell_type": "code",
   "execution_count": 214,
   "id": "29bf66dd",
   "metadata": {},
   "outputs": [
    {
     "data": {
      "text/html": [
       "<div>\n",
       "<style scoped>\n",
       "    .dataframe tbody tr th:only-of-type {\n",
       "        vertical-align: middle;\n",
       "    }\n",
       "\n",
       "    .dataframe tbody tr th {\n",
       "        vertical-align: top;\n",
       "    }\n",
       "\n",
       "    .dataframe thead th {\n",
       "        text-align: right;\n",
       "    }\n",
       "</style>\n",
       "<table border=\"1\" class=\"dataframe\">\n",
       "  <thead>\n",
       "    <tr style=\"text-align: right;\">\n",
       "      <th></th>\n",
       "      <th>ID</th>\n",
       "      <th>age</th>\n",
       "      <th>job</th>\n",
       "      <th>marital</th>\n",
       "      <th>education</th>\n",
       "      <th>default</th>\n",
       "      <th>balance</th>\n",
       "      <th>housing</th>\n",
       "      <th>loan</th>\n",
       "      <th>contact</th>\n",
       "      <th>day</th>\n",
       "      <th>month</th>\n",
       "      <th>duration</th>\n",
       "      <th>campaign</th>\n",
       "      <th>pdays</th>\n",
       "      <th>previous</th>\n",
       "      <th>poutcome</th>\n",
       "      <th>subscribed</th>\n",
       "    </tr>\n",
       "  </thead>\n",
       "  <tbody>\n",
       "    <tr>\n",
       "      <th>0</th>\n",
       "      <td>26110</td>\n",
       "      <td>56</td>\n",
       "      <td>admin.</td>\n",
       "      <td>married</td>\n",
       "      <td>unknown</td>\n",
       "      <td>no</td>\n",
       "      <td>1933</td>\n",
       "      <td>no</td>\n",
       "      <td>no</td>\n",
       "      <td>telephone</td>\n",
       "      <td>19</td>\n",
       "      <td>nov</td>\n",
       "      <td>44</td>\n",
       "      <td>2</td>\n",
       "      <td>-1</td>\n",
       "      <td>0</td>\n",
       "      <td>unknown</td>\n",
       "      <td>no</td>\n",
       "    </tr>\n",
       "    <tr>\n",
       "      <th>1</th>\n",
       "      <td>40576</td>\n",
       "      <td>31</td>\n",
       "      <td>unknown</td>\n",
       "      <td>married</td>\n",
       "      <td>secondary</td>\n",
       "      <td>no</td>\n",
       "      <td>3</td>\n",
       "      <td>no</td>\n",
       "      <td>no</td>\n",
       "      <td>cellular</td>\n",
       "      <td>20</td>\n",
       "      <td>jul</td>\n",
       "      <td>91</td>\n",
       "      <td>2</td>\n",
       "      <td>-1</td>\n",
       "      <td>0</td>\n",
       "      <td>unknown</td>\n",
       "      <td>no</td>\n",
       "    </tr>\n",
       "    <tr>\n",
       "      <th>2</th>\n",
       "      <td>15320</td>\n",
       "      <td>27</td>\n",
       "      <td>services</td>\n",
       "      <td>married</td>\n",
       "      <td>secondary</td>\n",
       "      <td>no</td>\n",
       "      <td>891</td>\n",
       "      <td>yes</td>\n",
       "      <td>no</td>\n",
       "      <td>cellular</td>\n",
       "      <td>18</td>\n",
       "      <td>jul</td>\n",
       "      <td>240</td>\n",
       "      <td>1</td>\n",
       "      <td>-1</td>\n",
       "      <td>0</td>\n",
       "      <td>unknown</td>\n",
       "      <td>no</td>\n",
       "    </tr>\n",
       "    <tr>\n",
       "      <th>3</th>\n",
       "      <td>43962</td>\n",
       "      <td>57</td>\n",
       "      <td>management</td>\n",
       "      <td>divorced</td>\n",
       "      <td>tertiary</td>\n",
       "      <td>no</td>\n",
       "      <td>3287</td>\n",
       "      <td>no</td>\n",
       "      <td>no</td>\n",
       "      <td>cellular</td>\n",
       "      <td>22</td>\n",
       "      <td>jun</td>\n",
       "      <td>867</td>\n",
       "      <td>1</td>\n",
       "      <td>84</td>\n",
       "      <td>3</td>\n",
       "      <td>success</td>\n",
       "      <td>yes</td>\n",
       "    </tr>\n",
       "    <tr>\n",
       "      <th>4</th>\n",
       "      <td>29842</td>\n",
       "      <td>31</td>\n",
       "      <td>technician</td>\n",
       "      <td>married</td>\n",
       "      <td>secondary</td>\n",
       "      <td>no</td>\n",
       "      <td>119</td>\n",
       "      <td>yes</td>\n",
       "      <td>no</td>\n",
       "      <td>cellular</td>\n",
       "      <td>4</td>\n",
       "      <td>feb</td>\n",
       "      <td>380</td>\n",
       "      <td>1</td>\n",
       "      <td>-1</td>\n",
       "      <td>0</td>\n",
       "      <td>unknown</td>\n",
       "      <td>no</td>\n",
       "    </tr>\n",
       "  </tbody>\n",
       "</table>\n",
       "</div>"
      ],
      "text/plain": [
       "      ID  age         job   marital  education default  balance housing loan  \\\n",
       "0  26110   56      admin.   married    unknown      no     1933      no   no   \n",
       "1  40576   31     unknown   married  secondary      no        3      no   no   \n",
       "2  15320   27    services   married  secondary      no      891     yes   no   \n",
       "3  43962   57  management  divorced   tertiary      no     3287      no   no   \n",
       "4  29842   31  technician   married  secondary      no      119     yes   no   \n",
       "\n",
       "     contact  day month  duration  campaign  pdays  previous poutcome  \\\n",
       "0  telephone   19   nov        44         2     -1         0  unknown   \n",
       "1   cellular   20   jul        91         2     -1         0  unknown   \n",
       "2   cellular   18   jul       240         1     -1         0  unknown   \n",
       "3   cellular   22   jun       867         1     84         3  success   \n",
       "4   cellular    4   feb       380         1     -1         0  unknown   \n",
       "\n",
       "  subscribed  \n",
       "0         no  \n",
       "1         no  \n",
       "2         no  \n",
       "3        yes  \n",
       "4         no  "
      ]
     },
     "execution_count": 214,
     "metadata": {},
     "output_type": "execute_result"
    }
   ],
   "source": [
    "df.head()"
   ]
  },
  {
   "cell_type": "code",
   "execution_count": 215,
   "id": "ffe57ed7",
   "metadata": {
    "scrolled": true
   },
   "outputs": [
    {
     "data": {
      "text/plain": [
       "array(['admin.', 'unknown', 'services', 'management', 'technician',\n",
       "       'retired', 'blue-collar', 'housemaid', 'self-employed', 'student',\n",
       "       'entrepreneur', 'unemployed'], dtype=object)"
      ]
     },
     "execution_count": 215,
     "metadata": {},
     "output_type": "execute_result"
    }
   ],
   "source": [
    "df['job'].unique()"
   ]
  },
  {
   "cell_type": "code",
   "execution_count": 216,
   "id": "26f789ad",
   "metadata": {
    "scrolled": true
   },
   "outputs": [
    {
     "name": "stdout",
     "output_type": "stream",
     "text": [
      "<class 'pandas.core.frame.DataFrame'>\n",
      "RangeIndex: 31647 entries, 0 to 31646\n",
      "Data columns (total 18 columns):\n",
      " #   Column      Non-Null Count  Dtype \n",
      "---  ------      --------------  ----- \n",
      " 0   ID          31647 non-null  int64 \n",
      " 1   age         31647 non-null  int64 \n",
      " 2   job         31647 non-null  object\n",
      " 3   marital     31647 non-null  object\n",
      " 4   education   31647 non-null  object\n",
      " 5   default     31647 non-null  object\n",
      " 6   balance     31647 non-null  int64 \n",
      " 7   housing     31647 non-null  object\n",
      " 8   loan        31647 non-null  object\n",
      " 9   contact     31647 non-null  object\n",
      " 10  day         31647 non-null  int64 \n",
      " 11  month       31647 non-null  object\n",
      " 12  duration    31647 non-null  int64 \n",
      " 13  campaign    31647 non-null  int64 \n",
      " 14  pdays       31647 non-null  int64 \n",
      " 15  previous    31647 non-null  int64 \n",
      " 16  poutcome    31647 non-null  object\n",
      " 17  subscribed  31647 non-null  object\n",
      "dtypes: int64(8), object(10)\n",
      "memory usage: 4.3+ MB\n"
     ]
    }
   ],
   "source": [
    "df.info()"
   ]
  },
  {
   "cell_type": "code",
   "execution_count": 217,
   "id": "330f2bcc",
   "metadata": {},
   "outputs": [
    {
     "data": {
      "text/plain": [
       "(31647, 18)"
      ]
     },
     "execution_count": 217,
     "metadata": {},
     "output_type": "execute_result"
    }
   ],
   "source": [
    "df.shape"
   ]
  },
  {
   "cell_type": "code",
   "execution_count": 218,
   "id": "a0e294da",
   "metadata": {},
   "outputs": [
    {
     "data": {
      "text/plain": [
       "Index(['ID', 'age', 'job', 'marital', 'education', 'default', 'balance',\n",
       "       'housing', 'loan', 'contact', 'day', 'month', 'duration', 'campaign',\n",
       "       'pdays', 'previous', 'poutcome', 'subscribed'],\n",
       "      dtype='object')"
      ]
     },
     "execution_count": 218,
     "metadata": {},
     "output_type": "execute_result"
    }
   ],
   "source": [
    "df.columns"
   ]
  },
  {
   "cell_type": "markdown",
   "id": "11de6c0d",
   "metadata": {},
   "source": [
    "# EDA"
   ]
  },
  {
   "cell_type": "markdown",
   "id": "8ee3276e",
   "metadata": {},
   "source": [
    "## null values"
   ]
  },
  {
   "cell_type": "code",
   "execution_count": 219,
   "id": "0bc070af",
   "metadata": {
    "scrolled": false
   },
   "outputs": [
    {
     "data": {
      "text/plain": [
       "ID            0\n",
       "age           0\n",
       "job           0\n",
       "marital       0\n",
       "education     0\n",
       "default       0\n",
       "balance       0\n",
       "housing       0\n",
       "loan          0\n",
       "contact       0\n",
       "day           0\n",
       "month         0\n",
       "duration      0\n",
       "campaign      0\n",
       "pdays         0\n",
       "previous      0\n",
       "poutcome      0\n",
       "subscribed    0\n",
       "dtype: int64"
      ]
     },
     "execution_count": 219,
     "metadata": {},
     "output_type": "execute_result"
    }
   ],
   "source": [
    "df.isnull().sum()"
   ]
  },
  {
   "cell_type": "markdown",
   "id": "47be5590",
   "metadata": {},
   "source": [
    "## Label Encoding"
   ]
  },
  {
   "cell_type": "code",
   "execution_count": 220,
   "id": "26ea09a7",
   "metadata": {
    "scrolled": true
   },
   "outputs": [
    {
     "data": {
      "text/plain": [
       "ID             int64\n",
       "age            int64\n",
       "job           object\n",
       "marital       object\n",
       "education     object\n",
       "default       object\n",
       "balance        int64\n",
       "housing       object\n",
       "loan          object\n",
       "contact       object\n",
       "day            int64\n",
       "month         object\n",
       "duration       int64\n",
       "campaign       int64\n",
       "pdays          int64\n",
       "previous       int64\n",
       "poutcome      object\n",
       "subscribed    object\n",
       "dtype: object"
      ]
     },
     "execution_count": 220,
     "metadata": {},
     "output_type": "execute_result"
    }
   ],
   "source": [
    "df.dtypes"
   ]
  },
  {
   "cell_type": "code",
   "execution_count": 221,
   "id": "e29542d5",
   "metadata": {},
   "outputs": [],
   "source": [
    "encoder= LabelEncoder()"
   ]
  },
  {
   "cell_type": "code",
   "execution_count": 222,
   "id": "8ce17e35",
   "metadata": {},
   "outputs": [],
   "source": [
    "obj_var = df.select_dtypes(include='object')"
   ]
  },
  {
   "cell_type": "code",
   "execution_count": 223,
   "id": "2b843cbb",
   "metadata": {
    "scrolled": true
   },
   "outputs": [
    {
     "name": "stdout",
     "output_type": "stream",
     "text": [
      "Value counts before label encoding for column :  job\n",
      "blue-collar      6842\n",
      "management       6639\n",
      "technician       5307\n",
      "admin.           3631\n",
      "services         2903\n",
      "retired          1574\n",
      "self-employed    1123\n",
      "entrepreneur     1008\n",
      "unemployed        905\n",
      "housemaid         874\n",
      "student           635\n",
      "unknown           206\n",
      "Name: job, dtype: int64\n",
      "Value counts after label encoding for column :  job\n",
      "1     6842\n",
      "4     6639\n",
      "9     5307\n",
      "0     3631\n",
      "7     2903\n",
      "5     1574\n",
      "6     1123\n",
      "2     1008\n",
      "10     905\n",
      "3      874\n",
      "8      635\n",
      "11     206\n",
      "Name: job, dtype: int64\n",
      "Value counts before label encoding for column :  marital\n",
      "married     19095\n",
      "single       8922\n",
      "divorced     3630\n",
      "Name: marital, dtype: int64\n",
      "Value counts after label encoding for column :  marital\n",
      "1    19095\n",
      "2     8922\n",
      "0     3630\n",
      "Name: marital, dtype: int64\n",
      "Value counts before label encoding for column :  education\n",
      "secondary    16224\n",
      "tertiary      9301\n",
      "primary       4808\n",
      "unknown       1314\n",
      "Name: education, dtype: int64\n",
      "Value counts after label encoding for column :  education\n",
      "1    16224\n",
      "2     9301\n",
      "0     4808\n",
      "3     1314\n",
      "Name: education, dtype: int64\n",
      "Value counts before label encoding for column :  default\n",
      "no     31062\n",
      "yes      585\n",
      "Name: default, dtype: int64\n",
      "Value counts after label encoding for column :  default\n",
      "0    31062\n",
      "1      585\n",
      "Name: default, dtype: int64\n",
      "Value counts before label encoding for column :  housing\n",
      "yes    17584\n",
      "no     14063\n",
      "Name: housing, dtype: int64\n",
      "Value counts after label encoding for column :  housing\n",
      "1    17584\n",
      "0    14063\n",
      "Name: housing, dtype: int64\n",
      "Value counts before label encoding for column :  loan\n",
      "no     26516\n",
      "yes     5131\n",
      "Name: loan, dtype: int64\n",
      "Value counts after label encoding for column :  loan\n",
      "0    26516\n",
      "1     5131\n",
      "Name: loan, dtype: int64\n",
      "Value counts before label encoding for column :  contact\n",
      "cellular     20423\n",
      "unknown       9177\n",
      "telephone     2047\n",
      "Name: contact, dtype: int64\n",
      "Value counts after label encoding for column :  contact\n",
      "0    20423\n",
      "2     9177\n",
      "1     2047\n",
      "Name: contact, dtype: int64\n",
      "Value counts before label encoding for column :  month\n",
      "may    9669\n",
      "jul    4844\n",
      "aug    4333\n",
      "jun    3738\n",
      "nov    2783\n",
      "apr    2055\n",
      "feb    1827\n",
      "jan     977\n",
      "oct     512\n",
      "sep     410\n",
      "mar     342\n",
      "dec     157\n",
      "Name: month, dtype: int64\n",
      "Value counts after label encoding for column :  month\n",
      "8     9669\n",
      "5     4844\n",
      "1     4333\n",
      "6     3738\n",
      "9     2783\n",
      "0     2055\n",
      "3     1827\n",
      "4      977\n",
      "10     512\n",
      "11     410\n",
      "7      342\n",
      "2      157\n",
      "Name: month, dtype: int64\n",
      "Value counts before label encoding for column :  poutcome\n",
      "unknown    25929\n",
      "failure     3362\n",
      "other       1288\n",
      "success     1068\n",
      "Name: poutcome, dtype: int64\n",
      "Value counts after label encoding for column :  poutcome\n",
      "3    25929\n",
      "0     3362\n",
      "1     1288\n",
      "2     1068\n",
      "Name: poutcome, dtype: int64\n",
      "Value counts before label encoding for column :  subscribed\n",
      "no     27932\n",
      "yes     3715\n",
      "Name: subscribed, dtype: int64\n",
      "Value counts after label encoding for column :  subscribed\n",
      "0    27932\n",
      "1     3715\n",
      "Name: subscribed, dtype: int64\n"
     ]
    }
   ],
   "source": [
    "for col in df.select_dtypes(include='object'):\n",
    "    print(\"Value counts before label encoding for column : \",col)\n",
    "    print(df[col].value_counts())\n",
    "    # Perform label encoding\n",
    "    le = LabelEncoder()\n",
    "    df[col] = le.fit_transform(df[col])\n",
    "\n",
    "    # Print the value counts after label encoding\n",
    "    print(\"Value counts after label encoding for column : \",col)\n",
    "    print(df[col].value_counts())"
   ]
  },
  {
   "cell_type": "code",
   "execution_count": 224,
   "id": "c3b8947c",
   "metadata": {
    "scrolled": true
   },
   "outputs": [
    {
     "data": {
      "text/plain": [
       "ID            int64\n",
       "age           int64\n",
       "job           int32\n",
       "marital       int32\n",
       "education     int32\n",
       "default       int32\n",
       "balance       int64\n",
       "housing       int32\n",
       "loan          int32\n",
       "contact       int32\n",
       "day           int64\n",
       "month         int32\n",
       "duration      int64\n",
       "campaign      int64\n",
       "pdays         int64\n",
       "previous      int64\n",
       "poutcome      int32\n",
       "subscribed    int32\n",
       "dtype: object"
      ]
     },
     "execution_count": 224,
     "metadata": {},
     "output_type": "execute_result"
    }
   ],
   "source": [
    "df.dtypes"
   ]
  },
  {
   "cell_type": "code",
   "execution_count": 225,
   "id": "a2ef88c9",
   "metadata": {
    "scrolled": false
   },
   "outputs": [
    {
     "data": {
      "text/html": [
       "<div>\n",
       "<style scoped>\n",
       "    .dataframe tbody tr th:only-of-type {\n",
       "        vertical-align: middle;\n",
       "    }\n",
       "\n",
       "    .dataframe tbody tr th {\n",
       "        vertical-align: top;\n",
       "    }\n",
       "\n",
       "    .dataframe thead th {\n",
       "        text-align: right;\n",
       "    }\n",
       "</style>\n",
       "<table border=\"1\" class=\"dataframe\">\n",
       "  <thead>\n",
       "    <tr style=\"text-align: right;\">\n",
       "      <th></th>\n",
       "      <th>ID</th>\n",
       "      <th>age</th>\n",
       "      <th>job</th>\n",
       "      <th>marital</th>\n",
       "      <th>education</th>\n",
       "      <th>default</th>\n",
       "      <th>balance</th>\n",
       "      <th>housing</th>\n",
       "      <th>loan</th>\n",
       "      <th>contact</th>\n",
       "      <th>day</th>\n",
       "      <th>month</th>\n",
       "      <th>duration</th>\n",
       "      <th>campaign</th>\n",
       "      <th>pdays</th>\n",
       "      <th>previous</th>\n",
       "      <th>poutcome</th>\n",
       "      <th>subscribed</th>\n",
       "    </tr>\n",
       "  </thead>\n",
       "  <tbody>\n",
       "    <tr>\n",
       "      <th>26741</th>\n",
       "      <td>19968</td>\n",
       "      <td>46</td>\n",
       "      <td>1</td>\n",
       "      <td>1</td>\n",
       "      <td>1</td>\n",
       "      <td>0</td>\n",
       "      <td>723</td>\n",
       "      <td>0</td>\n",
       "      <td>0</td>\n",
       "      <td>0</td>\n",
       "      <td>8</td>\n",
       "      <td>1</td>\n",
       "      <td>63</td>\n",
       "      <td>2</td>\n",
       "      <td>-1</td>\n",
       "      <td>0</td>\n",
       "      <td>3</td>\n",
       "      <td>0</td>\n",
       "    </tr>\n",
       "    <tr>\n",
       "      <th>26291</th>\n",
       "      <td>39786</td>\n",
       "      <td>58</td>\n",
       "      <td>4</td>\n",
       "      <td>1</td>\n",
       "      <td>2</td>\n",
       "      <td>0</td>\n",
       "      <td>2764</td>\n",
       "      <td>0</td>\n",
       "      <td>0</td>\n",
       "      <td>0</td>\n",
       "      <td>1</td>\n",
       "      <td>6</td>\n",
       "      <td>459</td>\n",
       "      <td>1</td>\n",
       "      <td>196</td>\n",
       "      <td>1</td>\n",
       "      <td>0</td>\n",
       "      <td>0</td>\n",
       "    </tr>\n",
       "    <tr>\n",
       "      <th>28434</th>\n",
       "      <td>20427</td>\n",
       "      <td>31</td>\n",
       "      <td>4</td>\n",
       "      <td>2</td>\n",
       "      <td>2</td>\n",
       "      <td>0</td>\n",
       "      <td>30</td>\n",
       "      <td>0</td>\n",
       "      <td>0</td>\n",
       "      <td>0</td>\n",
       "      <td>12</td>\n",
       "      <td>1</td>\n",
       "      <td>348</td>\n",
       "      <td>2</td>\n",
       "      <td>-1</td>\n",
       "      <td>0</td>\n",
       "      <td>3</td>\n",
       "      <td>0</td>\n",
       "    </tr>\n",
       "    <tr>\n",
       "      <th>14836</th>\n",
       "      <td>2099</td>\n",
       "      <td>31</td>\n",
       "      <td>7</td>\n",
       "      <td>2</td>\n",
       "      <td>1</td>\n",
       "      <td>0</td>\n",
       "      <td>2963</td>\n",
       "      <td>1</td>\n",
       "      <td>0</td>\n",
       "      <td>2</td>\n",
       "      <td>12</td>\n",
       "      <td>8</td>\n",
       "      <td>124</td>\n",
       "      <td>1</td>\n",
       "      <td>-1</td>\n",
       "      <td>0</td>\n",
       "      <td>3</td>\n",
       "      <td>0</td>\n",
       "    </tr>\n",
       "    <tr>\n",
       "      <th>11682</th>\n",
       "      <td>13316</td>\n",
       "      <td>59</td>\n",
       "      <td>4</td>\n",
       "      <td>1</td>\n",
       "      <td>2</td>\n",
       "      <td>0</td>\n",
       "      <td>1726</td>\n",
       "      <td>0</td>\n",
       "      <td>1</td>\n",
       "      <td>0</td>\n",
       "      <td>8</td>\n",
       "      <td>5</td>\n",
       "      <td>137</td>\n",
       "      <td>3</td>\n",
       "      <td>-1</td>\n",
       "      <td>0</td>\n",
       "      <td>3</td>\n",
       "      <td>0</td>\n",
       "    </tr>\n",
       "  </tbody>\n",
       "</table>\n",
       "</div>"
      ],
      "text/plain": [
       "          ID  age  job  marital  education  default  balance  housing  loan  \\\n",
       "26741  19968   46    1        1          1        0      723        0     0   \n",
       "26291  39786   58    4        1          2        0     2764        0     0   \n",
       "28434  20427   31    4        2          2        0       30        0     0   \n",
       "14836   2099   31    7        2          1        0     2963        1     0   \n",
       "11682  13316   59    4        1          2        0     1726        0     1   \n",
       "\n",
       "       contact  day  month  duration  campaign  pdays  previous  poutcome  \\\n",
       "26741        0    8      1        63         2     -1         0         3   \n",
       "26291        0    1      6       459         1    196         1         0   \n",
       "28434        0   12      1       348         2     -1         0         3   \n",
       "14836        2   12      8       124         1     -1         0         3   \n",
       "11682        0    8      5       137         3     -1         0         3   \n",
       "\n",
       "       subscribed  \n",
       "26741           0  \n",
       "26291           0  \n",
       "28434           0  \n",
       "14836           0  \n",
       "11682           0  "
      ]
     },
     "execution_count": 225,
     "metadata": {},
     "output_type": "execute_result"
    }
   ],
   "source": [
    "df.sample(5)"
   ]
  },
  {
   "cell_type": "markdown",
   "id": "0377d514",
   "metadata": {},
   "source": [
    "### data visualization"
   ]
  },
  {
   "cell_type": "code",
   "execution_count": 320,
   "id": "bac63496",
   "metadata": {
    "scrolled": true
   },
   "outputs": [
    {
     "data": {
      "image/png": "[encoded data removed]",
      "text/plain": [
       "<Figure size 432x288 with 1 Axes>"
      ]
     },
     "metadata": {
      "needs_background": "light"
     },
     "output_type": "display_data"
    },
    {
     "data": {
      "image/png": "[encoded data removed]",
      "text/plain": [
       "<Figure size 432x288 with 1 Axes>"
      ]
     },
     "metadata": {
      "needs_background": "light"
     },
     "output_type": "display_data"
    },
    {
     "data": {
      "image/png": "[encoded data removed]",
      "text/plain": [
       "<Figure size 432x288 with 1 Axes>"
      ]
     },
     "metadata": {
      "needs_background": "light"
     },
     "output_type": "display_data"
    },
    {
     "data": {
      "image/png": "[encoded data removed]",
      "text/plain": [
       "<Figure size 432x288 with 1 Axes>"
      ]
     },
     "metadata": {
      "needs_background": "light"
     },
     "output_type": "display_data"
    },
    {
     "data": {
      "image/png": "[encoded data removed]",
      "text/plain": [
       "<Figure size 432x288 with 1 Axes>"
      ]
     },
     "metadata": {
      "needs_background": "light"
     },
     "output_type": "display_data"
    },
    {
     "data": {
      "image/png": "[encoded data removed]",
      "text/plain": [
       "<Figure size 432x288 with 1 Axes>"
      ]
     },
     "metadata": {
      "needs_background": "light"
     },
     "output_type": "display_data"
    },
    {
     "data": {
      "image/png": "[encoded data removed]",
      "text/plain": [
       "<Figure size 432x288 with 1 Axes>"
      ]
     },
     "metadata": {
      "needs_background": "light"
     },
     "output_type": "display_data"
    },
    {
     "data": {
      "image/png": "[encoded data removed]",
      "text/plain": [
       "<Figure size 432x288 with 1 Axes>"
      ]
     },
     "metadata": {
      "needs_background": "light"
     },
     "output_type": "display_data"
    },
    {
     "data": {
      "image/png": "[encoded data removed]",
      "text/plain": [
       "<Figure size 432x288 with 1 Axes>"
      ]
     },
     "metadata": {
      "needs_background": "light"
     },
     "output_type": "display_data"
    },
    {
     "data": {
      "image/png": "[encoded data removed]",
      "text/plain": [
       "<Figure size 432x288 with 1 Axes>"
      ]
     },
     "metadata": {
      "needs_background": "light"
     },
     "output_type": "display_data"
    },
    {
     "data": {
      "image/png": "[encoded data removed]",
      "text/plain": [
       "<Figure size 432x288 with 1 Axes>"
      ]
     },
     "metadata": {
      "needs_background": "light"
     },
     "output_type": "display_data"
    },
    {
     "data": {
      "image/png": "[encoded data removed]",
      "text/plain": [
       "<Figure size 432x288 with 1 Axes>"
      ]
     },
     "metadata": {
      "needs_background": "light"
     },
     "output_type": "display_data"
    },
    {
     "data": {
      "image/png": "[encoded data removed]",
      "text/plain": [
       "<Figure size 432x288 with 1 Axes>"
      ]
     },
     "metadata": {
      "needs_background": "light"
     },
     "output_type": "display_data"
    },
    {
     "data": {
      "image/png": "[encoded data removed]",
      "text/plain": [
       "<Figure size 432x288 with 1 Axes>"
      ]
     },
     "metadata": {
      "needs_background": "light"
     },
     "output_type": "display_data"
    },
    {
     "data": {
      "image/png": "[encoded data removed]",
      "text/plain": [
       "<Figure size 432x288 with 1 Axes>"
      ]
     },
     "metadata": {
      "needs_background": "light"
     },
     "output_type": "display_data"
    },
    {
     "data": {
      "image/png": "[encoded data removed]",
      "text/plain": [
       "<Figure size 432x288 with 1 Axes>"
      ]
     },
     "metadata": {
      "needs_background": "light"
     },
     "output_type": "display_data"
    },
    {
     "data": {
      "image/png": "[encoded data removed]",
      "text/plain": [
       "<Figure size 432x288 with 1 Axes>"
      ]
     },
     "metadata": {
      "needs_background": "light"
     },
     "output_type": "display_data"
    },
    {
     "data": {
      "image/png": "[encoded data removed]",
      "text/plain": [
       "<Figure size 432x288 with 1 Axes>"
      ]
     },
     "metadata": {
      "needs_background": "light"
     },
     "output_type": "display_data"
    }
   ],
   "source": [
    "for column in df.columns:\n",
    "    sns.countplot(x=column, data=df)\n",
    "    plt.xlabel(column)\n",
    "    plt.ylabel('subscribed')\n",
    "    plt.show()"
   ]
  },
  {
   "cell_type": "code",
   "execution_count": 327,
   "id": "c6382588",
   "metadata": {
    "scrolled": true
   },
   "outputs": [
    {
     "data": {
      "image/png": "[encoded data removed]",
      "text/plain": [
       "<Figure size 432x288 with 1 Axes>"
      ]
     },
     "metadata": {
      "needs_background": "light"
     },
     "output_type": "display_data"
    },
    {
     "data": {
      "image/png": "[encoded data removed]",
      "text/plain": [
       "<Figure size 432x288 with 1 Axes>"
      ]
     },
     "metadata": {
      "needs_background": "light"
     },
     "output_type": "display_data"
    },
    {
     "data": {
      "image/png": "[encoded data removed]",
      "text/plain": [
       "<Figure size 432x288 with 1 Axes>"
      ]
     },
     "metadata": {
      "needs_background": "light"
     },
     "output_type": "display_data"
    },
    {
     "data": {
      "image/png": "[encoded data removed]",
      "text/plain": [
       "<Figure size 432x288 with 1 Axes>"
      ]
     },
     "metadata": {
      "needs_background": "light"
     },
     "output_type": "display_data"
    },
    {
     "data": {
      "image/png": "[encoded data removed]",
      "text/plain": [
       "<Figure size 432x288 with 1 Axes>"
      ]
     },
     "metadata": {
      "needs_background": "light"
     },
     "output_type": "display_data"
    },
    {
     "data": {
      "image/png": "[encoded data removed]",
      "text/plain": [
       "<Figure size 432x288 with 1 Axes>"
      ]
     },
     "metadata": {
      "needs_background": "light"
     },
     "output_type": "display_data"
    },
    {
     "data": {
      "image/png": "[encoded data removed]",
      "text/plain": [
       "<Figure size 432x288 with 1 Axes>"
      ]
     },
     "metadata": {
      "needs_background": "light"
     },
     "output_type": "display_data"
    },
    {
     "data": {
      "image/png": "[encoded data removed]",
      "text/plain": [
       "<Figure size 432x288 with 1 Axes>"
      ]
     },
     "metadata": {
      "needs_background": "light"
     },
     "output_type": "display_data"
    },
    {
     "data": {
      "image/png": "[encoded data removed]",
      "text/plain": [
       "<Figure size 432x288 with 1 Axes>"
      ]
     },
     "metadata": {
      "needs_background": "light"
     },
     "output_type": "display_data"
    },
    {
     "data": {
      "image/png": "[encoded data removed]",
      "text/plain": [
       "<Figure size 432x288 with 1 Axes>"
      ]
     },
     "metadata": {
      "needs_background": "light"
     },
     "output_type": "display_data"
    },
    {
     "data": {
      "image/png": "[encoded data removed]",
      "text/plain": [
       "<Figure size 432x288 with 1 Axes>"
      ]
     },
     "metadata": {
      "needs_background": "light"
     },
     "output_type": "display_data"
    },
    {
     "data": {
      "image/png": "[encoded data removed]",
      "text/plain": [
       "<Figure size 432x288 with 1 Axes>"
      ]
     },
     "metadata": {
      "needs_background": "light"
     },
     "output_type": "display_data"
    },
    {
     "data": {
      "image/png": "[encoded data removed]",
      "text/plain": [
       "<Figure size 432x288 with 1 Axes>"
      ]
     },
     "metadata": {
      "needs_background": "light"
     },
     "output_type": "display_data"
    },
    {
     "data": {
      "image/png": "[encoded data removed]",
      "text/plain": [
       "<Figure size 432x288 with 1 Axes>"
      ]
     },
     "metadata": {
      "needs_background": "light"
     },
     "output_type": "display_data"
    },
    {
     "data": {
      "image/png": "[encoded data removed]",
      "text/plain": [
       "<Figure size 432x288 with 1 Axes>"
      ]
     },
     "metadata": {
      "needs_background": "light"
     },
     "output_type": "display_data"
    },
    {
     "data": {
      "image/png": "[encoded data removed]",
      "text/plain": [
       "<Figure size 432x288 with 1 Axes>"
      ]
     },
     "metadata": {
      "needs_background": "light"
     },
     "output_type": "display_data"
    },
    {
     "data": {
      "image/png": "[encoded data removed]",
      "text/plain": [
       "<Figure size 432x288 with 1 Axes>"
      ]
     },
     "metadata": {
      "needs_background": "light"
     },
     "output_type": "display_data"
    },
    {
     "data": {
      "image/png": "[encoded data removed]",
      "text/plain": [
       "<Figure size 432x288 with 1 Axes>"
      ]
     },
     "metadata": {
      "needs_background": "light"
     },
     "output_type": "display_data"
    }
   ],
   "source": [
    "for column in df.columns:\n",
    "    sns.barplot(x=column, y='subscribed', data=df)\n",
    "    plt.xlabel(column)\n",
    "    plt.show()"
   ]
  },
  {
   "cell_type": "code",
   "execution_count": 328,
   "id": "3f5012fa",
   "metadata": {},
   "outputs": [
    {
     "data": {
      "image/png": "[encoded data removed]",
      "text/plain": [
       "<Figure size 432x288 with 1 Axes>"
      ]
     },
     "metadata": {
      "needs_background": "light"
     },
     "output_type": "display_data"
    },
    {
     "data": {
      "image/png": "[encoded data removed]",
      "text/plain": [
       "<Figure size 432x288 with 1 Axes>"
      ]
     },
     "metadata": {
      "needs_background": "light"
     },
     "output_type": "display_data"
    },
    {
     "data": {
      "image/png": "[encoded data removed]",
      "text/plain": [
       "<Figure size 432x288 with 1 Axes>"
      ]
     },
     "metadata": {
      "needs_background": "light"
     },
     "output_type": "display_data"
    },
    {
     "data": {
      "image/png": "[encoded data removed]",
      "text/plain": [
       "<Figure size 432x288 with 1 Axes>"
      ]
     },
     "metadata": {
      "needs_background": "light"
     },
     "output_type": "display_data"
    },
    {
     "data": {
      "image/png": "[encoded data removed]",
      "text/plain": [
       "<Figure size 432x288 with 1 Axes>"
      ]
     },
     "metadata": {
      "needs_background": "light"
     },
     "output_type": "display_data"
    },
    {
     "data": {
      "image/png": "[encoded data removed]",
      "text/plain": [
       "<Figure size 432x288 with 1 Axes>"
      ]
     },
     "metadata": {
      "needs_background": "light"
     },
     "output_type": "display_data"
    },
    {
     "data": {
      "image/png": "[encoded data removed]",
      "text/plain": [
       "<Figure size 432x288 with 1 Axes>"
      ]
     },
     "metadata": {
      "needs_background": "light"
     },
     "output_type": "display_data"
    },
    {
     "data": {
      "image/png": "[encoded data removed]",
      "text/plain": [
       "<Figure size 432x288 with 1 Axes>"
      ]
     },
     "metadata": {
      "needs_background": "light"
     },
     "output_type": "display_data"
    },
    {
     "data": {
      "image/png": "[encoded data removed]",
      "text/plain": [
       "<Figure size 432x288 with 1 Axes>"
      ]
     },
     "metadata": {
      "needs_background": "light"
     },
     "output_type": "display_data"
    },
    {
     "data": {
      "image/png": "[encoded data removed]",
      "text/plain": [
       "<Figure size 432x288 with 1 Axes>"
      ]
     },
     "metadata": {
      "needs_background": "light"
     },
     "output_type": "display_data"
    },
    {
     "data": {
      "image/png": "[encoded data removed]",
      "text/plain": [
       "<Figure size 432x288 with 1 Axes>"
      ]
     },
     "metadata": {
      "needs_background": "light"
     },
     "output_type": "display_data"
    },
    {
     "data": {
      "image/png": "[encoded data removed]",
      "text/plain": [
       "<Figure size 432x288 with 1 Axes>"
      ]
     },
     "metadata": {
      "needs_background": "light"
     },
     "output_type": "display_data"
    },
    {
     "data": {
      "image/png": "[encoded data removed]",
      "text/plain": [
       "<Figure size 432x288 with 1 Axes>"
      ]
     },
     "metadata": {
      "needs_background": "light"
     },
     "output_type": "display_data"
    },
    {
     "data": {
      "image/png": "[encoded data removed]",
      "text/plain": [
       "<Figure size 432x288 with 1 Axes>"
      ]
     },
     "metadata": {
      "needs_background": "light"
     },
     "output_type": "display_data"
    },
    {
     "data": {
      "image/png": "[encoded data removed]",
      "text/plain": [
       "<Figure size 432x288 with 1 Axes>"
      ]
     },
     "metadata": {
      "needs_background": "light"
     },
     "output_type": "display_data"
    },
    {
     "data": {
      "image/png": "[encoded data removed]",
      "text/plain": [
       "<Figure size 432x288 with 1 Axes>"
      ]
     },
     "metadata": {
      "needs_background": "light"
     },
     "output_type": "display_data"
    },
    {
     "data": {
      "image/png": "[encoded data removed]",
      "text/plain": [
       "<Figure size 432x288 with 1 Axes>"
      ]
     },
     "metadata": {
      "needs_background": "light"
     },
     "output_type": "display_data"
    },
    {
     "data": {
      "image/png": "[encoded data removed]",
      "text/plain": [
       "<Figure size 432x288 with 1 Axes>"
      ]
     },
     "metadata": {
      "needs_background": "light"
     },
     "output_type": "display_data"
    }
   ],
   "source": [
    "for column in df.columns:\n",
    "    sns.violinplot(x=column, data=df)\n",
    "    plt.xlabel(column)\n",
    "    plt.show()"
   ]
  },
  {
   "cell_type": "markdown",
   "id": "21e7b7c5",
   "metadata": {},
   "source": [
    "### summary stats"
   ]
  },
  {
   "cell_type": "code",
   "execution_count": 227,
   "id": "70fb4128",
   "metadata": {
    "scrolled": true
   },
   "outputs": [
    {
     "data": {
      "text/html": [
       "<div>\n",
       "<style scoped>\n",
       "    .dataframe tbody tr th:only-of-type {\n",
       "        vertical-align: middle;\n",
       "    }\n",
       "\n",
       "    .dataframe tbody tr th {\n",
       "        vertical-align: top;\n",
       "    }\n",
       "\n",
       "    .dataframe thead th {\n",
       "        text-align: right;\n",
       "    }\n",
       "</style>\n",
       "<table border=\"1\" class=\"dataframe\">\n",
       "  <thead>\n",
       "    <tr style=\"text-align: right;\">\n",
       "      <th></th>\n",
       "      <th>ID</th>\n",
       "      <th>age</th>\n",
       "      <th>job</th>\n",
       "      <th>marital</th>\n",
       "      <th>education</th>\n",
       "      <th>default</th>\n",
       "      <th>balance</th>\n",
       "      <th>housing</th>\n",
       "      <th>loan</th>\n",
       "      <th>contact</th>\n",
       "      <th>day</th>\n",
       "      <th>month</th>\n",
       "      <th>duration</th>\n",
       "      <th>campaign</th>\n",
       "      <th>pdays</th>\n",
       "      <th>previous</th>\n",
       "      <th>poutcome</th>\n",
       "      <th>subscribed</th>\n",
       "    </tr>\n",
       "  </thead>\n",
       "  <tbody>\n",
       "    <tr>\n",
       "      <th>count</th>\n",
       "      <td>31647.000000</td>\n",
       "      <td>31647.000000</td>\n",
       "      <td>31647.000000</td>\n",
       "      <td>31647.000000</td>\n",
       "      <td>31647.000000</td>\n",
       "      <td>31647.000000</td>\n",
       "      <td>31647.000000</td>\n",
       "      <td>31647.000000</td>\n",
       "      <td>31647.000000</td>\n",
       "      <td>31647.000000</td>\n",
       "      <td>31647.000000</td>\n",
       "      <td>31647.000000</td>\n",
       "      <td>31647.000000</td>\n",
       "      <td>31647.000000</td>\n",
       "      <td>31647.000000</td>\n",
       "      <td>31647.000000</td>\n",
       "      <td>31647.000000</td>\n",
       "      <td>31647.000000</td>\n",
       "    </tr>\n",
       "    <tr>\n",
       "      <th>mean</th>\n",
       "      <td>22563.972162</td>\n",
       "      <td>40.957247</td>\n",
       "      <td>4.332923</td>\n",
       "      <td>1.167220</td>\n",
       "      <td>1.225013</td>\n",
       "      <td>0.018485</td>\n",
       "      <td>1363.890258</td>\n",
       "      <td>0.555629</td>\n",
       "      <td>0.162132</td>\n",
       "      <td>0.644642</td>\n",
       "      <td>15.835466</td>\n",
       "      <td>5.533131</td>\n",
       "      <td>258.113534</td>\n",
       "      <td>2.765697</td>\n",
       "      <td>39.576042</td>\n",
       "      <td>0.574272</td>\n",
       "      <td>2.566152</td>\n",
       "      <td>0.117389</td>\n",
       "    </tr>\n",
       "    <tr>\n",
       "      <th>std</th>\n",
       "      <td>13075.936990</td>\n",
       "      <td>10.625134</td>\n",
       "      <td>3.271868</td>\n",
       "      <td>0.607186</td>\n",
       "      <td>0.749195</td>\n",
       "      <td>0.134700</td>\n",
       "      <td>3028.304293</td>\n",
       "      <td>0.496904</td>\n",
       "      <td>0.368578</td>\n",
       "      <td>0.899480</td>\n",
       "      <td>8.337097</td>\n",
       "      <td>3.004247</td>\n",
       "      <td>257.118973</td>\n",
       "      <td>3.113830</td>\n",
       "      <td>99.317592</td>\n",
       "      <td>2.422529</td>\n",
       "      <td>0.982069</td>\n",
       "      <td>0.321888</td>\n",
       "    </tr>\n",
       "    <tr>\n",
       "      <th>min</th>\n",
       "      <td>2.000000</td>\n",
       "      <td>18.000000</td>\n",
       "      <td>0.000000</td>\n",
       "      <td>0.000000</td>\n",
       "      <td>0.000000</td>\n",
       "      <td>0.000000</td>\n",
       "      <td>-8019.000000</td>\n",
       "      <td>0.000000</td>\n",
       "      <td>0.000000</td>\n",
       "      <td>0.000000</td>\n",
       "      <td>1.000000</td>\n",
       "      <td>0.000000</td>\n",
       "      <td>0.000000</td>\n",
       "      <td>1.000000</td>\n",
       "      <td>-1.000000</td>\n",
       "      <td>0.000000</td>\n",
       "      <td>0.000000</td>\n",
       "      <td>0.000000</td>\n",
       "    </tr>\n",
       "    <tr>\n",
       "      <th>25%</th>\n",
       "      <td>11218.000000</td>\n",
       "      <td>33.000000</td>\n",
       "      <td>1.000000</td>\n",
       "      <td>1.000000</td>\n",
       "      <td>1.000000</td>\n",
       "      <td>0.000000</td>\n",
       "      <td>73.000000</td>\n",
       "      <td>0.000000</td>\n",
       "      <td>0.000000</td>\n",
       "      <td>0.000000</td>\n",
       "      <td>8.000000</td>\n",
       "      <td>3.000000</td>\n",
       "      <td>104.000000</td>\n",
       "      <td>1.000000</td>\n",
       "      <td>-1.000000</td>\n",
       "      <td>0.000000</td>\n",
       "      <td>3.000000</td>\n",
       "      <td>0.000000</td>\n",
       "    </tr>\n",
       "    <tr>\n",
       "      <th>50%</th>\n",
       "      <td>22519.000000</td>\n",
       "      <td>39.000000</td>\n",
       "      <td>4.000000</td>\n",
       "      <td>1.000000</td>\n",
       "      <td>1.000000</td>\n",
       "      <td>0.000000</td>\n",
       "      <td>450.000000</td>\n",
       "      <td>1.000000</td>\n",
       "      <td>0.000000</td>\n",
       "      <td>0.000000</td>\n",
       "      <td>16.000000</td>\n",
       "      <td>6.000000</td>\n",
       "      <td>180.000000</td>\n",
       "      <td>2.000000</td>\n",
       "      <td>-1.000000</td>\n",
       "      <td>0.000000</td>\n",
       "      <td>3.000000</td>\n",
       "      <td>0.000000</td>\n",
       "    </tr>\n",
       "    <tr>\n",
       "      <th>75%</th>\n",
       "      <td>33879.500000</td>\n",
       "      <td>48.000000</td>\n",
       "      <td>7.000000</td>\n",
       "      <td>2.000000</td>\n",
       "      <td>2.000000</td>\n",
       "      <td>0.000000</td>\n",
       "      <td>1431.000000</td>\n",
       "      <td>1.000000</td>\n",
       "      <td>0.000000</td>\n",
       "      <td>2.000000</td>\n",
       "      <td>21.000000</td>\n",
       "      <td>8.000000</td>\n",
       "      <td>318.500000</td>\n",
       "      <td>3.000000</td>\n",
       "      <td>-1.000000</td>\n",
       "      <td>0.000000</td>\n",
       "      <td>3.000000</td>\n",
       "      <td>0.000000</td>\n",
       "    </tr>\n",
       "    <tr>\n",
       "      <th>max</th>\n",
       "      <td>45211.000000</td>\n",
       "      <td>95.000000</td>\n",
       "      <td>11.000000</td>\n",
       "      <td>2.000000</td>\n",
       "      <td>3.000000</td>\n",
       "      <td>1.000000</td>\n",
       "      <td>102127.000000</td>\n",
       "      <td>1.000000</td>\n",
       "      <td>1.000000</td>\n",
       "      <td>2.000000</td>\n",
       "      <td>31.000000</td>\n",
       "      <td>11.000000</td>\n",
       "      <td>4918.000000</td>\n",
       "      <td>63.000000</td>\n",
       "      <td>871.000000</td>\n",
       "      <td>275.000000</td>\n",
       "      <td>3.000000</td>\n",
       "      <td>1.000000</td>\n",
       "    </tr>\n",
       "  </tbody>\n",
       "</table>\n",
       "</div>"
      ],
      "text/plain": [
       "                 ID           age           job       marital     education  \\\n",
       "count  31647.000000  31647.000000  31647.000000  31647.000000  31647.000000   \n",
       "mean   22563.972162     40.957247      4.332923      1.167220      1.225013   \n",
       "std    13075.936990     10.625134      3.271868      0.607186      0.749195   \n",
       "min        2.000000     18.000000      0.000000      0.000000      0.000000   \n",
       "25%    11218.000000     33.000000      1.000000      1.000000      1.000000   \n",
       "50%    22519.000000     39.000000      4.000000      1.000000      1.000000   \n",
       "75%    33879.500000     48.000000      7.000000      2.000000      2.000000   \n",
       "max    45211.000000     95.000000     11.000000      2.000000      3.000000   \n",
       "\n",
       "            default        balance       housing          loan       contact  \\\n",
       "count  31647.000000   31647.000000  31647.000000  31647.000000  31647.000000   \n",
       "mean       0.018485    1363.890258      0.555629      0.162132      0.644642   \n",
       "std        0.134700    3028.304293      0.496904      0.368578      0.899480   \n",
       "min        0.000000   -8019.000000      0.000000      0.000000      0.000000   \n",
       "25%        0.000000      73.000000      0.000000      0.000000      0.000000   \n",
       "50%        0.000000     450.000000      1.000000      0.000000      0.000000   \n",
       "75%        0.000000    1431.000000      1.000000      0.000000      2.000000   \n",
       "max        1.000000  102127.000000      1.000000      1.000000      2.000000   \n",
       "\n",
       "                day         month      duration      campaign         pdays  \\\n",
       "count  31647.000000  31647.000000  31647.000000  31647.000000  31647.000000   \n",
       "mean      15.835466      5.533131    258.113534      2.765697     39.576042   \n",
       "std        8.337097      3.004247    257.118973      3.113830     99.317592   \n",
       "min        1.000000      0.000000      0.000000      1.000000     -1.000000   \n",
       "25%        8.000000      3.000000    104.000000      1.000000     -1.000000   \n",
       "50%       16.000000      6.000000    180.000000      2.000000     -1.000000   \n",
       "75%       21.000000      8.000000    318.500000      3.000000     -1.000000   \n",
       "max       31.000000     11.000000   4918.000000     63.000000    871.000000   \n",
       "\n",
       "           previous      poutcome    subscribed  \n",
       "count  31647.000000  31647.000000  31647.000000  \n",
       "mean       0.574272      2.566152      0.117389  \n",
       "std        2.422529      0.982069      0.321888  \n",
       "min        0.000000      0.000000      0.000000  \n",
       "25%        0.000000      3.000000      0.000000  \n",
       "50%        0.000000      3.000000      0.000000  \n",
       "75%        0.000000      3.000000      0.000000  \n",
       "max      275.000000      3.000000      1.000000  "
      ]
     },
     "execution_count": 227,
     "metadata": {},
     "output_type": "execute_result"
    }
   ],
   "source": [
    "df.describe()"
   ]
  },
  {
   "cell_type": "raw",
   "id": "b24c3d0a",
   "metadata": {},
   "source": [
    "1. mean > median therefore it is right skewed data\n",
    "2. std is just abnormal in balance\n",
    "3. abnormal diffrence between max and 75th% of balance column."
   ]
  },
  {
   "cell_type": "markdown",
   "id": "c50bc633",
   "metadata": {},
   "source": [
    "## Skewness"
   ]
  },
  {
   "cell_type": "code",
   "execution_count": 228,
   "id": "7c7181d1",
   "metadata": {
    "scrolled": true
   },
   "outputs": [
    {
     "data": {
      "text/plain": [
       "ID             0.005851\n",
       "age            0.681607\n",
       "job            0.264817\n",
       "marital       -0.100071\n",
       "education      0.199441\n",
       "default        7.149903\n",
       "balance        7.995696\n",
       "housing       -0.223918\n",
       "loan           1.833474\n",
       "contact        0.758602\n",
       "day            0.087185\n",
       "month         -0.486498\n",
       "duration       3.199766\n",
       "campaign       4.873935\n",
       "pdays          2.642374\n",
       "previous      49.302348\n",
       "poutcome      -1.996421\n",
       "subscribed     2.377445\n",
       "dtype: float64"
      ]
     },
     "execution_count": 228,
     "metadata": {},
     "output_type": "execute_result"
    }
   ],
   "source": [
    "df.skew()"
   ]
  },
  {
   "cell_type": "code",
   "execution_count": 229,
   "id": "d4c28e55",
   "metadata": {},
   "outputs": [],
   "source": [
    "df['previous']=np.sqrt(df['previous'])"
   ]
  },
  {
   "cell_type": "code",
   "execution_count": 230,
   "id": "14cf511f",
   "metadata": {
    "scrolled": true
   },
   "outputs": [
    {
     "data": {
      "text/plain": [
       "<AxesSubplot:xlabel='previous', ylabel='Density'>"
      ]
     },
     "execution_count": 230,
     "metadata": {},
     "output_type": "execute_result"
    },
    {
     "data": {
      "image/png": "[encoded data removed]",
      "text/plain": [
       "<Figure size 432x288 with 1 Axes>"
      ]
     },
     "metadata": {
      "needs_background": "light"
     },
     "output_type": "display_data"
    }
   ],
   "source": [
    "sns.kdeplot(df['previous'])"
   ]
  },
  {
   "cell_type": "code",
   "execution_count": 231,
   "id": "c53b424a",
   "metadata": {},
   "outputs": [
    {
     "data": {
      "text/plain": [
       "16.583123951777"
      ]
     },
     "execution_count": 231,
     "metadata": {},
     "output_type": "execute_result"
    }
   ],
   "source": [
    "df['previous'].max()"
   ]
  },
  {
   "cell_type": "code",
   "execution_count": 232,
   "id": "7adcb7eb",
   "metadata": {},
   "outputs": [
    {
     "data": {
      "text/plain": [
       "0.0"
      ]
     },
     "execution_count": 232,
     "metadata": {},
     "output_type": "execute_result"
    }
   ],
   "source": [
    "df['previous'].min()"
   ]
  },
  {
   "cell_type": "code",
   "execution_count": 233,
   "id": "457a762d",
   "metadata": {},
   "outputs": [
    {
     "data": {
      "text/html": [
       "<div>\n",
       "<style scoped>\n",
       "    .dataframe tbody tr th:only-of-type {\n",
       "        vertical-align: middle;\n",
       "    }\n",
       "\n",
       "    .dataframe tbody tr th {\n",
       "        vertical-align: top;\n",
       "    }\n",
       "\n",
       "    .dataframe thead th {\n",
       "        text-align: right;\n",
       "    }\n",
       "</style>\n",
       "<table border=\"1\" class=\"dataframe\">\n",
       "  <thead>\n",
       "    <tr style=\"text-align: right;\">\n",
       "      <th></th>\n",
       "      <th>ID</th>\n",
       "      <th>age</th>\n",
       "      <th>job</th>\n",
       "      <th>marital</th>\n",
       "      <th>education</th>\n",
       "      <th>default</th>\n",
       "      <th>balance</th>\n",
       "      <th>housing</th>\n",
       "      <th>loan</th>\n",
       "      <th>contact</th>\n",
       "      <th>day</th>\n",
       "      <th>month</th>\n",
       "      <th>duration</th>\n",
       "      <th>campaign</th>\n",
       "      <th>pdays</th>\n",
       "      <th>previous</th>\n",
       "      <th>poutcome</th>\n",
       "      <th>subscribed</th>\n",
       "    </tr>\n",
       "  </thead>\n",
       "  <tbody>\n",
       "    <tr>\n",
       "      <th>0</th>\n",
       "      <td>26110</td>\n",
       "      <td>56</td>\n",
       "      <td>0</td>\n",
       "      <td>1</td>\n",
       "      <td>3</td>\n",
       "      <td>0</td>\n",
       "      <td>1933</td>\n",
       "      <td>0</td>\n",
       "      <td>0</td>\n",
       "      <td>1</td>\n",
       "      <td>19</td>\n",
       "      <td>9</td>\n",
       "      <td>44</td>\n",
       "      <td>2</td>\n",
       "      <td>-1</td>\n",
       "      <td>0.000000</td>\n",
       "      <td>3</td>\n",
       "      <td>0</td>\n",
       "    </tr>\n",
       "    <tr>\n",
       "      <th>1</th>\n",
       "      <td>40576</td>\n",
       "      <td>31</td>\n",
       "      <td>11</td>\n",
       "      <td>1</td>\n",
       "      <td>1</td>\n",
       "      <td>0</td>\n",
       "      <td>3</td>\n",
       "      <td>0</td>\n",
       "      <td>0</td>\n",
       "      <td>0</td>\n",
       "      <td>20</td>\n",
       "      <td>5</td>\n",
       "      <td>91</td>\n",
       "      <td>2</td>\n",
       "      <td>-1</td>\n",
       "      <td>0.000000</td>\n",
       "      <td>3</td>\n",
       "      <td>0</td>\n",
       "    </tr>\n",
       "    <tr>\n",
       "      <th>2</th>\n",
       "      <td>15320</td>\n",
       "      <td>27</td>\n",
       "      <td>7</td>\n",
       "      <td>1</td>\n",
       "      <td>1</td>\n",
       "      <td>0</td>\n",
       "      <td>891</td>\n",
       "      <td>1</td>\n",
       "      <td>0</td>\n",
       "      <td>0</td>\n",
       "      <td>18</td>\n",
       "      <td>5</td>\n",
       "      <td>240</td>\n",
       "      <td>1</td>\n",
       "      <td>-1</td>\n",
       "      <td>0.000000</td>\n",
       "      <td>3</td>\n",
       "      <td>0</td>\n",
       "    </tr>\n",
       "    <tr>\n",
       "      <th>3</th>\n",
       "      <td>43962</td>\n",
       "      <td>57</td>\n",
       "      <td>4</td>\n",
       "      <td>0</td>\n",
       "      <td>2</td>\n",
       "      <td>0</td>\n",
       "      <td>3287</td>\n",
       "      <td>0</td>\n",
       "      <td>0</td>\n",
       "      <td>0</td>\n",
       "      <td>22</td>\n",
       "      <td>6</td>\n",
       "      <td>867</td>\n",
       "      <td>1</td>\n",
       "      <td>84</td>\n",
       "      <td>1.732051</td>\n",
       "      <td>2</td>\n",
       "      <td>1</td>\n",
       "    </tr>\n",
       "    <tr>\n",
       "      <th>4</th>\n",
       "      <td>29842</td>\n",
       "      <td>31</td>\n",
       "      <td>9</td>\n",
       "      <td>1</td>\n",
       "      <td>1</td>\n",
       "      <td>0</td>\n",
       "      <td>119</td>\n",
       "      <td>1</td>\n",
       "      <td>0</td>\n",
       "      <td>0</td>\n",
       "      <td>4</td>\n",
       "      <td>3</td>\n",
       "      <td>380</td>\n",
       "      <td>1</td>\n",
       "      <td>-1</td>\n",
       "      <td>0.000000</td>\n",
       "      <td>3</td>\n",
       "      <td>0</td>\n",
       "    </tr>\n",
       "  </tbody>\n",
       "</table>\n",
       "</div>"
      ],
      "text/plain": [
       "      ID  age  job  marital  education  default  balance  housing  loan  \\\n",
       "0  26110   56    0        1          3        0     1933        0     0   \n",
       "1  40576   31   11        1          1        0        3        0     0   \n",
       "2  15320   27    7        1          1        0      891        1     0   \n",
       "3  43962   57    4        0          2        0     3287        0     0   \n",
       "4  29842   31    9        1          1        0      119        1     0   \n",
       "\n",
       "   contact  day  month  duration  campaign  pdays  previous  poutcome  \\\n",
       "0        1   19      9        44         2     -1  0.000000         3   \n",
       "1        0   20      5        91         2     -1  0.000000         3   \n",
       "2        0   18      5       240         1     -1  0.000000         3   \n",
       "3        0   22      6       867         1     84  1.732051         2   \n",
       "4        0    4      3       380         1     -1  0.000000         3   \n",
       "\n",
       "   subscribed  \n",
       "0           0  \n",
       "1           0  \n",
       "2           0  \n",
       "3           1  \n",
       "4           0  "
      ]
     },
     "execution_count": 233,
     "metadata": {},
     "output_type": "execute_result"
    }
   ],
   "source": [
    "df.head()"
   ]
  },
  {
   "cell_type": "markdown",
   "id": "7c81e02d",
   "metadata": {},
   "source": [
    "## removing outlier "
   ]
  },
  {
   "cell_type": "code",
   "execution_count": 234,
   "id": "3b3d5ee4",
   "metadata": {},
   "outputs": [],
   "source": [
    "z= np.abs(zscore(df))"
   ]
  },
  {
   "cell_type": "code",
   "execution_count": 235,
   "id": "8148490a",
   "metadata": {
    "scrolled": true
   },
   "outputs": [
    {
     "data": {
      "text/html": [
       "<div>\n",
       "<style scoped>\n",
       "    .dataframe tbody tr th:only-of-type {\n",
       "        vertical-align: middle;\n",
       "    }\n",
       "\n",
       "    .dataframe tbody tr th {\n",
       "        vertical-align: top;\n",
       "    }\n",
       "\n",
       "    .dataframe thead th {\n",
       "        text-align: right;\n",
       "    }\n",
       "</style>\n",
       "<table border=\"1\" class=\"dataframe\">\n",
       "  <thead>\n",
       "    <tr style=\"text-align: right;\">\n",
       "      <th></th>\n",
       "      <th>ID</th>\n",
       "      <th>age</th>\n",
       "      <th>job</th>\n",
       "      <th>marital</th>\n",
       "      <th>education</th>\n",
       "      <th>default</th>\n",
       "      <th>balance</th>\n",
       "      <th>housing</th>\n",
       "      <th>loan</th>\n",
       "      <th>contact</th>\n",
       "      <th>day</th>\n",
       "      <th>month</th>\n",
       "      <th>duration</th>\n",
       "      <th>campaign</th>\n",
       "      <th>pdays</th>\n",
       "      <th>previous</th>\n",
       "      <th>poutcome</th>\n",
       "      <th>subscribed</th>\n",
       "    </tr>\n",
       "  </thead>\n",
       "  <tbody>\n",
       "    <tr>\n",
       "      <th>0</th>\n",
       "      <td>0.271192</td>\n",
       "      <td>1.415793</td>\n",
       "      <td>1.324317</td>\n",
       "      <td>0.275405</td>\n",
       "      <td>2.369229</td>\n",
       "      <td>0.137234</td>\n",
       "      <td>0.187933</td>\n",
       "      <td>1.118201</td>\n",
       "      <td>0.439893</td>\n",
       "      <td>0.395076</td>\n",
       "      <td>0.379579</td>\n",
       "      <td>1.154007</td>\n",
       "      <td>0.832754</td>\n",
       "      <td>0.245906</td>\n",
       "      <td>0.408555</td>\n",
       "      <td>0.420657</td>\n",
       "      <td>0.441777</td>\n",
       "      <td>0.364694</td>\n",
       "    </tr>\n",
       "    <tr>\n",
       "      <th>1</th>\n",
       "      <td>1.377516</td>\n",
       "      <td>0.937156</td>\n",
       "      <td>2.037729</td>\n",
       "      <td>0.275405</td>\n",
       "      <td>0.300345</td>\n",
       "      <td>0.137234</td>\n",
       "      <td>0.449397</td>\n",
       "      <td>1.118201</td>\n",
       "      <td>0.439893</td>\n",
       "      <td>0.716695</td>\n",
       "      <td>0.499526</td>\n",
       "      <td>0.177462</td>\n",
       "      <td>0.649957</td>\n",
       "      <td>0.245906</td>\n",
       "      <td>0.408555</td>\n",
       "      <td>0.420657</td>\n",
       "      <td>0.441777</td>\n",
       "      <td>0.364694</td>\n",
       "    </tr>\n",
       "    <tr>\n",
       "      <th>2</th>\n",
       "      <td>0.554001</td>\n",
       "      <td>1.313627</td>\n",
       "      <td>0.815167</td>\n",
       "      <td>0.275405</td>\n",
       "      <td>0.300345</td>\n",
       "      <td>0.137234</td>\n",
       "      <td>0.156159</td>\n",
       "      <td>0.894294</td>\n",
       "      <td>0.439893</td>\n",
       "      <td>0.716695</td>\n",
       "      <td>0.259631</td>\n",
       "      <td>0.177462</td>\n",
       "      <td>0.070449</td>\n",
       "      <td>0.567059</td>\n",
       "      <td>0.408555</td>\n",
       "      <td>0.420657</td>\n",
       "      <td>0.441777</td>\n",
       "      <td>0.364694</td>\n",
       "    </tr>\n",
       "    <tr>\n",
       "      <th>3</th>\n",
       "      <td>1.636469</td>\n",
       "      <td>1.509911</td>\n",
       "      <td>0.101755</td>\n",
       "      <td>1.922374</td>\n",
       "      <td>1.034442</td>\n",
       "      <td>0.137234</td>\n",
       "      <td>0.635055</td>\n",
       "      <td>1.118201</td>\n",
       "      <td>0.439893</td>\n",
       "      <td>0.716695</td>\n",
       "      <td>0.739422</td>\n",
       "      <td>0.155405</td>\n",
       "      <td>2.368149</td>\n",
       "      <td>0.567059</td>\n",
       "      <td>0.447299</td>\n",
       "      <td>2.058940</td>\n",
       "      <td>0.576498</td>\n",
       "      <td>2.742026</td>\n",
       "    </tr>\n",
       "    <tr>\n",
       "      <th>4</th>\n",
       "      <td>0.556606</td>\n",
       "      <td>0.937156</td>\n",
       "      <td>1.426448</td>\n",
       "      <td>0.275405</td>\n",
       "      <td>0.300345</td>\n",
       "      <td>0.137234</td>\n",
       "      <td>0.411091</td>\n",
       "      <td>0.894294</td>\n",
       "      <td>0.439893</td>\n",
       "      <td>0.716695</td>\n",
       "      <td>1.419637</td>\n",
       "      <td>0.843197</td>\n",
       "      <td>0.474054</td>\n",
       "      <td>0.567059</td>\n",
       "      <td>0.408555</td>\n",
       "      <td>0.420657</td>\n",
       "      <td>0.441777</td>\n",
       "      <td>0.364694</td>\n",
       "    </tr>\n",
       "    <tr>\n",
       "      <th>...</th>\n",
       "      <td>...</td>\n",
       "      <td>...</td>\n",
       "      <td>...</td>\n",
       "      <td>...</td>\n",
       "      <td>...</td>\n",
       "      <td>...</td>\n",
       "      <td>...</td>\n",
       "      <td>...</td>\n",
       "      <td>...</td>\n",
       "      <td>...</td>\n",
       "      <td>...</td>\n",
       "      <td>...</td>\n",
       "      <td>...</td>\n",
       "      <td>...</td>\n",
       "      <td>...</td>\n",
       "      <td>...</td>\n",
       "      <td>...</td>\n",
       "      <td>...</td>\n",
       "    </tr>\n",
       "    <tr>\n",
       "      <th>31642</th>\n",
       "      <td>1.064493</td>\n",
       "      <td>1.125392</td>\n",
       "      <td>0.101755</td>\n",
       "      <td>1.371563</td>\n",
       "      <td>1.034442</td>\n",
       "      <td>0.137234</td>\n",
       "      <td>0.450388</td>\n",
       "      <td>0.894294</td>\n",
       "      <td>0.439893</td>\n",
       "      <td>0.716695</td>\n",
       "      <td>0.460055</td>\n",
       "      <td>0.821140</td>\n",
       "      <td>0.552724</td>\n",
       "      <td>0.245906</td>\n",
       "      <td>0.408555</td>\n",
       "      <td>0.420657</td>\n",
       "      <td>0.441777</td>\n",
       "      <td>0.364694</td>\n",
       "    </tr>\n",
       "    <tr>\n",
       "      <th>31643</th>\n",
       "      <td>1.347078</td>\n",
       "      <td>1.133439</td>\n",
       "      <td>0.101755</td>\n",
       "      <td>1.922374</td>\n",
       "      <td>1.034442</td>\n",
       "      <td>0.137234</td>\n",
       "      <td>0.324903</td>\n",
       "      <td>1.118201</td>\n",
       "      <td>2.273280</td>\n",
       "      <td>0.716695</td>\n",
       "      <td>1.299690</td>\n",
       "      <td>0.155405</td>\n",
       "      <td>0.699635</td>\n",
       "      <td>0.245906</td>\n",
       "      <td>0.408555</td>\n",
       "      <td>0.420657</td>\n",
       "      <td>0.441777</td>\n",
       "      <td>2.742026</td>\n",
       "    </tr>\n",
       "    <tr>\n",
       "      <th>31644</th>\n",
       "      <td>0.218265</td>\n",
       "      <td>0.843038</td>\n",
       "      <td>0.101755</td>\n",
       "      <td>1.371563</td>\n",
       "      <td>1.034442</td>\n",
       "      <td>0.137234</td>\n",
       "      <td>0.347358</td>\n",
       "      <td>1.118201</td>\n",
       "      <td>0.439893</td>\n",
       "      <td>0.716695</td>\n",
       "      <td>1.059794</td>\n",
       "      <td>1.508931</td>\n",
       "      <td>0.859979</td>\n",
       "      <td>0.075247</td>\n",
       "      <td>0.408555</td>\n",
       "      <td>0.420657</td>\n",
       "      <td>0.441777</td>\n",
       "      <td>0.364694</td>\n",
       "    </tr>\n",
       "    <tr>\n",
       "      <th>31645</th>\n",
       "      <td>1.223031</td>\n",
       "      <td>1.509911</td>\n",
       "      <td>1.426448</td>\n",
       "      <td>0.275405</td>\n",
       "      <td>0.300345</td>\n",
       "      <td>0.137234</td>\n",
       "      <td>0.376088</td>\n",
       "      <td>0.894294</td>\n",
       "      <td>0.439893</td>\n",
       "      <td>0.395076</td>\n",
       "      <td>0.100212</td>\n",
       "      <td>0.821140</td>\n",
       "      <td>0.918319</td>\n",
       "      <td>1.359859</td>\n",
       "      <td>2.994723</td>\n",
       "      <td>4.538536</td>\n",
       "      <td>2.613048</td>\n",
       "      <td>0.364694</td>\n",
       "    </tr>\n",
       "    <tr>\n",
       "      <th>31646</th>\n",
       "      <td>0.643021</td>\n",
       "      <td>1.321675</td>\n",
       "      <td>0.101755</td>\n",
       "      <td>1.922374</td>\n",
       "      <td>0.300345</td>\n",
       "      <td>0.137234</td>\n",
       "      <td>0.383022</td>\n",
       "      <td>0.894294</td>\n",
       "      <td>0.439893</td>\n",
       "      <td>0.716695</td>\n",
       "      <td>0.580003</td>\n",
       "      <td>0.177462</td>\n",
       "      <td>6.669728</td>\n",
       "      <td>0.245906</td>\n",
       "      <td>0.408555</td>\n",
       "      <td>0.420657</td>\n",
       "      <td>0.441777</td>\n",
       "      <td>2.742026</td>\n",
       "    </tr>\n",
       "  </tbody>\n",
       "</table>\n",
       "<p>31647 rows × 18 columns</p>\n",
       "</div>"
      ],
      "text/plain": [
       "             ID       age       job   marital  education   default   balance  \\\n",
       "0      0.271192  1.415793  1.324317  0.275405   2.369229  0.137234  0.187933   \n",
       "1      1.377516  0.937156  2.037729  0.275405   0.300345  0.137234  0.449397   \n",
       "2      0.554001  1.313627  0.815167  0.275405   0.300345  0.137234  0.156159   \n",
       "3      1.636469  1.509911  0.101755  1.922374   1.034442  0.137234  0.635055   \n",
       "4      0.556606  0.937156  1.426448  0.275405   0.300345  0.137234  0.411091   \n",
       "...         ...       ...       ...       ...        ...       ...       ...   \n",
       "31642  1.064493  1.125392  0.101755  1.371563   1.034442  0.137234  0.450388   \n",
       "31643  1.347078  1.133439  0.101755  1.922374   1.034442  0.137234  0.324903   \n",
       "31644  0.218265  0.843038  0.101755  1.371563   1.034442  0.137234  0.347358   \n",
       "31645  1.223031  1.509911  1.426448  0.275405   0.300345  0.137234  0.376088   \n",
       "31646  0.643021  1.321675  0.101755  1.922374   0.300345  0.137234  0.383022   \n",
       "\n",
       "        housing      loan   contact       day     month  duration  campaign  \\\n",
       "0      1.118201  0.439893  0.395076  0.379579  1.154007  0.832754  0.245906   \n",
       "1      1.118201  0.439893  0.716695  0.499526  0.177462  0.649957  0.245906   \n",
       "2      0.894294  0.439893  0.716695  0.259631  0.177462  0.070449  0.567059   \n",
       "3      1.118201  0.439893  0.716695  0.739422  0.155405  2.368149  0.567059   \n",
       "4      0.894294  0.439893  0.716695  1.419637  0.843197  0.474054  0.567059   \n",
       "...         ...       ...       ...       ...       ...       ...       ...   \n",
       "31642  0.894294  0.439893  0.716695  0.460055  0.821140  0.552724  0.245906   \n",
       "31643  1.118201  2.273280  0.716695  1.299690  0.155405  0.699635  0.245906   \n",
       "31644  1.118201  0.439893  0.716695  1.059794  1.508931  0.859979  0.075247   \n",
       "31645  0.894294  0.439893  0.395076  0.100212  0.821140  0.918319  1.359859   \n",
       "31646  0.894294  0.439893  0.716695  0.580003  0.177462  6.669728  0.245906   \n",
       "\n",
       "          pdays  previous  poutcome  subscribed  \n",
       "0      0.408555  0.420657  0.441777    0.364694  \n",
       "1      0.408555  0.420657  0.441777    0.364694  \n",
       "2      0.408555  0.420657  0.441777    0.364694  \n",
       "3      0.447299  2.058940  0.576498    2.742026  \n",
       "4      0.408555  0.420657  0.441777    0.364694  \n",
       "...         ...       ...       ...         ...  \n",
       "31642  0.408555  0.420657  0.441777    0.364694  \n",
       "31643  0.408555  0.420657  0.441777    2.742026  \n",
       "31644  0.408555  0.420657  0.441777    0.364694  \n",
       "31645  2.994723  4.538536  2.613048    0.364694  \n",
       "31646  0.408555  0.420657  0.441777    2.742026  \n",
       "\n",
       "[31647 rows x 18 columns]"
      ]
     },
     "execution_count": 235,
     "metadata": {},
     "output_type": "execute_result"
    }
   ],
   "source": [
    "z"
   ]
  },
  {
   "cell_type": "code",
   "execution_count": 236,
   "id": "09ca4252",
   "metadata": {
    "scrolled": false
   },
   "outputs": [
    {
     "data": {
      "text/plain": [
       "(array([    0,     0,     0, ..., 31646, 31646, 31646], dtype=int64),\n",
       " array([ 0,  1,  2, ..., 15, 16, 17], dtype=int64))"
      ]
     },
     "execution_count": 236,
     "metadata": {},
     "output_type": "execute_result"
    }
   ],
   "source": [
    "np.where(z<3)"
   ]
  },
  {
   "cell_type": "code",
   "execution_count": 237,
   "id": "f6978d70",
   "metadata": {},
   "outputs": [
    {
     "data": {
      "text/html": [
       "<div>\n",
       "<style scoped>\n",
       "    .dataframe tbody tr th:only-of-type {\n",
       "        vertical-align: middle;\n",
       "    }\n",
       "\n",
       "    .dataframe tbody tr th {\n",
       "        vertical-align: top;\n",
       "    }\n",
       "\n",
       "    .dataframe thead th {\n",
       "        text-align: right;\n",
       "    }\n",
       "</style>\n",
       "<table border=\"1\" class=\"dataframe\">\n",
       "  <thead>\n",
       "    <tr style=\"text-align: right;\">\n",
       "      <th></th>\n",
       "      <th>ID</th>\n",
       "      <th>age</th>\n",
       "      <th>job</th>\n",
       "      <th>marital</th>\n",
       "      <th>education</th>\n",
       "      <th>default</th>\n",
       "      <th>balance</th>\n",
       "      <th>housing</th>\n",
       "      <th>loan</th>\n",
       "      <th>contact</th>\n",
       "      <th>day</th>\n",
       "      <th>month</th>\n",
       "      <th>duration</th>\n",
       "      <th>campaign</th>\n",
       "      <th>pdays</th>\n",
       "      <th>previous</th>\n",
       "      <th>poutcome</th>\n",
       "      <th>subscribed</th>\n",
       "    </tr>\n",
       "  </thead>\n",
       "  <tbody>\n",
       "    <tr>\n",
       "      <th>0</th>\n",
       "      <td>26110</td>\n",
       "      <td>56</td>\n",
       "      <td>0</td>\n",
       "      <td>1</td>\n",
       "      <td>3</td>\n",
       "      <td>0</td>\n",
       "      <td>1933</td>\n",
       "      <td>0</td>\n",
       "      <td>0</td>\n",
       "      <td>1</td>\n",
       "      <td>19</td>\n",
       "      <td>9</td>\n",
       "      <td>44</td>\n",
       "      <td>2</td>\n",
       "      <td>-1</td>\n",
       "      <td>0.000000</td>\n",
       "      <td>3</td>\n",
       "      <td>0</td>\n",
       "    </tr>\n",
       "    <tr>\n",
       "      <th>1</th>\n",
       "      <td>40576</td>\n",
       "      <td>31</td>\n",
       "      <td>11</td>\n",
       "      <td>1</td>\n",
       "      <td>1</td>\n",
       "      <td>0</td>\n",
       "      <td>3</td>\n",
       "      <td>0</td>\n",
       "      <td>0</td>\n",
       "      <td>0</td>\n",
       "      <td>20</td>\n",
       "      <td>5</td>\n",
       "      <td>91</td>\n",
       "      <td>2</td>\n",
       "      <td>-1</td>\n",
       "      <td>0.000000</td>\n",
       "      <td>3</td>\n",
       "      <td>0</td>\n",
       "    </tr>\n",
       "    <tr>\n",
       "      <th>2</th>\n",
       "      <td>15320</td>\n",
       "      <td>27</td>\n",
       "      <td>7</td>\n",
       "      <td>1</td>\n",
       "      <td>1</td>\n",
       "      <td>0</td>\n",
       "      <td>891</td>\n",
       "      <td>1</td>\n",
       "      <td>0</td>\n",
       "      <td>0</td>\n",
       "      <td>18</td>\n",
       "      <td>5</td>\n",
       "      <td>240</td>\n",
       "      <td>1</td>\n",
       "      <td>-1</td>\n",
       "      <td>0.000000</td>\n",
       "      <td>3</td>\n",
       "      <td>0</td>\n",
       "    </tr>\n",
       "    <tr>\n",
       "      <th>3</th>\n",
       "      <td>43962</td>\n",
       "      <td>57</td>\n",
       "      <td>4</td>\n",
       "      <td>0</td>\n",
       "      <td>2</td>\n",
       "      <td>0</td>\n",
       "      <td>3287</td>\n",
       "      <td>0</td>\n",
       "      <td>0</td>\n",
       "      <td>0</td>\n",
       "      <td>22</td>\n",
       "      <td>6</td>\n",
       "      <td>867</td>\n",
       "      <td>1</td>\n",
       "      <td>84</td>\n",
       "      <td>1.732051</td>\n",
       "      <td>2</td>\n",
       "      <td>1</td>\n",
       "    </tr>\n",
       "    <tr>\n",
       "      <th>4</th>\n",
       "      <td>29842</td>\n",
       "      <td>31</td>\n",
       "      <td>9</td>\n",
       "      <td>1</td>\n",
       "      <td>1</td>\n",
       "      <td>0</td>\n",
       "      <td>119</td>\n",
       "      <td>1</td>\n",
       "      <td>0</td>\n",
       "      <td>0</td>\n",
       "      <td>4</td>\n",
       "      <td>3</td>\n",
       "      <td>380</td>\n",
       "      <td>1</td>\n",
       "      <td>-1</td>\n",
       "      <td>0.000000</td>\n",
       "      <td>3</td>\n",
       "      <td>0</td>\n",
       "    </tr>\n",
       "    <tr>\n",
       "      <th>...</th>\n",
       "      <td>...</td>\n",
       "      <td>...</td>\n",
       "      <td>...</td>\n",
       "      <td>...</td>\n",
       "      <td>...</td>\n",
       "      <td>...</td>\n",
       "      <td>...</td>\n",
       "      <td>...</td>\n",
       "      <td>...</td>\n",
       "      <td>...</td>\n",
       "      <td>...</td>\n",
       "      <td>...</td>\n",
       "      <td>...</td>\n",
       "      <td>...</td>\n",
       "      <td>...</td>\n",
       "      <td>...</td>\n",
       "      <td>...</td>\n",
       "      <td>...</td>\n",
       "    </tr>\n",
       "    <tr>\n",
       "      <th>31642</th>\n",
       "      <td>36483</td>\n",
       "      <td>29</td>\n",
       "      <td>4</td>\n",
       "      <td>2</td>\n",
       "      <td>2</td>\n",
       "      <td>0</td>\n",
       "      <td>0</td>\n",
       "      <td>1</td>\n",
       "      <td>0</td>\n",
       "      <td>0</td>\n",
       "      <td>12</td>\n",
       "      <td>8</td>\n",
       "      <td>116</td>\n",
       "      <td>2</td>\n",
       "      <td>-1</td>\n",
       "      <td>0.000000</td>\n",
       "      <td>3</td>\n",
       "      <td>0</td>\n",
       "    </tr>\n",
       "    <tr>\n",
       "      <th>31643</th>\n",
       "      <td>40178</td>\n",
       "      <td>53</td>\n",
       "      <td>4</td>\n",
       "      <td>0</td>\n",
       "      <td>2</td>\n",
       "      <td>0</td>\n",
       "      <td>380</td>\n",
       "      <td>0</td>\n",
       "      <td>1</td>\n",
       "      <td>0</td>\n",
       "      <td>5</td>\n",
       "      <td>6</td>\n",
       "      <td>438</td>\n",
       "      <td>2</td>\n",
       "      <td>-1</td>\n",
       "      <td>0.000000</td>\n",
       "      <td>3</td>\n",
       "      <td>1</td>\n",
       "    </tr>\n",
       "    <tr>\n",
       "      <th>31644</th>\n",
       "      <td>19710</td>\n",
       "      <td>32</td>\n",
       "      <td>4</td>\n",
       "      <td>2</td>\n",
       "      <td>2</td>\n",
       "      <td>0</td>\n",
       "      <td>312</td>\n",
       "      <td>0</td>\n",
       "      <td>0</td>\n",
       "      <td>0</td>\n",
       "      <td>7</td>\n",
       "      <td>1</td>\n",
       "      <td>37</td>\n",
       "      <td>3</td>\n",
       "      <td>-1</td>\n",
       "      <td>0.000000</td>\n",
       "      <td>3</td>\n",
       "      <td>0</td>\n",
       "    </tr>\n",
       "    <tr>\n",
       "      <th>31645</th>\n",
       "      <td>38556</td>\n",
       "      <td>57</td>\n",
       "      <td>9</td>\n",
       "      <td>1</td>\n",
       "      <td>1</td>\n",
       "      <td>0</td>\n",
       "      <td>225</td>\n",
       "      <td>1</td>\n",
       "      <td>0</td>\n",
       "      <td>1</td>\n",
       "      <td>15</td>\n",
       "      <td>8</td>\n",
       "      <td>22</td>\n",
       "      <td>7</td>\n",
       "      <td>337</td>\n",
       "      <td>3.464102</td>\n",
       "      <td>0</td>\n",
       "      <td>0</td>\n",
       "    </tr>\n",
       "    <tr>\n",
       "      <th>31646</th>\n",
       "      <td>14156</td>\n",
       "      <td>55</td>\n",
       "      <td>4</td>\n",
       "      <td>0</td>\n",
       "      <td>1</td>\n",
       "      <td>0</td>\n",
       "      <td>204</td>\n",
       "      <td>1</td>\n",
       "      <td>0</td>\n",
       "      <td>0</td>\n",
       "      <td>11</td>\n",
       "      <td>5</td>\n",
       "      <td>1973</td>\n",
       "      <td>2</td>\n",
       "      <td>-1</td>\n",
       "      <td>0.000000</td>\n",
       "      <td>3</td>\n",
       "      <td>1</td>\n",
       "    </tr>\n",
       "  </tbody>\n",
       "</table>\n",
       "<p>31647 rows × 18 columns</p>\n",
       "</div>"
      ],
      "text/plain": [
       "          ID  age  job  marital  education  default  balance  housing  loan  \\\n",
       "0      26110   56    0        1          3        0     1933        0     0   \n",
       "1      40576   31   11        1          1        0        3        0     0   \n",
       "2      15320   27    7        1          1        0      891        1     0   \n",
       "3      43962   57    4        0          2        0     3287        0     0   \n",
       "4      29842   31    9        1          1        0      119        1     0   \n",
       "...      ...  ...  ...      ...        ...      ...      ...      ...   ...   \n",
       "31642  36483   29    4        2          2        0        0        1     0   \n",
       "31643  40178   53    4        0          2        0      380        0     1   \n",
       "31644  19710   32    4        2          2        0      312        0     0   \n",
       "31645  38556   57    9        1          1        0      225        1     0   \n",
       "31646  14156   55    4        0          1        0      204        1     0   \n",
       "\n",
       "       contact  day  month  duration  campaign  pdays  previous  poutcome  \\\n",
       "0            1   19      9        44         2     -1  0.000000         3   \n",
       "1            0   20      5        91         2     -1  0.000000         3   \n",
       "2            0   18      5       240         1     -1  0.000000         3   \n",
       "3            0   22      6       867         1     84  1.732051         2   \n",
       "4            0    4      3       380         1     -1  0.000000         3   \n",
       "...        ...  ...    ...       ...       ...    ...       ...       ...   \n",
       "31642        0   12      8       116         2     -1  0.000000         3   \n",
       "31643        0    5      6       438         2     -1  0.000000         3   \n",
       "31644        0    7      1        37         3     -1  0.000000         3   \n",
       "31645        1   15      8        22         7    337  3.464102         0   \n",
       "31646        0   11      5      1973         2     -1  0.000000         3   \n",
       "\n",
       "       subscribed  \n",
       "0               0  \n",
       "1               0  \n",
       "2               0  \n",
       "3               1  \n",
       "4               0  \n",
       "...           ...  \n",
       "31642           0  \n",
       "31643           1  \n",
       "31644           0  \n",
       "31645           0  \n",
       "31646           1  \n",
       "\n",
       "[31647 rows x 18 columns]"
      ]
     },
     "execution_count": 237,
     "metadata": {},
     "output_type": "execute_result"
    }
   ],
   "source": [
    "df"
   ]
  },
  {
   "cell_type": "code",
   "execution_count": 238,
   "id": "cc574ee6",
   "metadata": {},
   "outputs": [
    {
     "data": {
      "text/html": [
       "<div>\n",
       "<style scoped>\n",
       "    .dataframe tbody tr th:only-of-type {\n",
       "        vertical-align: middle;\n",
       "    }\n",
       "\n",
       "    .dataframe tbody tr th {\n",
       "        vertical-align: top;\n",
       "    }\n",
       "\n",
       "    .dataframe thead th {\n",
       "        text-align: right;\n",
       "    }\n",
       "</style>\n",
       "<table border=\"1\" class=\"dataframe\">\n",
       "  <thead>\n",
       "    <tr style=\"text-align: right;\">\n",
       "      <th></th>\n",
       "      <th>ID</th>\n",
       "      <th>age</th>\n",
       "      <th>job</th>\n",
       "      <th>marital</th>\n",
       "      <th>education</th>\n",
       "      <th>default</th>\n",
       "      <th>balance</th>\n",
       "      <th>housing</th>\n",
       "      <th>loan</th>\n",
       "      <th>contact</th>\n",
       "      <th>day</th>\n",
       "      <th>month</th>\n",
       "      <th>duration</th>\n",
       "      <th>campaign</th>\n",
       "      <th>pdays</th>\n",
       "      <th>previous</th>\n",
       "      <th>poutcome</th>\n",
       "      <th>subscribed</th>\n",
       "    </tr>\n",
       "  </thead>\n",
       "  <tbody>\n",
       "    <tr>\n",
       "      <th>0</th>\n",
       "      <td>26110</td>\n",
       "      <td>56</td>\n",
       "      <td>0</td>\n",
       "      <td>1</td>\n",
       "      <td>3</td>\n",
       "      <td>0</td>\n",
       "      <td>1933</td>\n",
       "      <td>0</td>\n",
       "      <td>0</td>\n",
       "      <td>1</td>\n",
       "      <td>19</td>\n",
       "      <td>9</td>\n",
       "      <td>44</td>\n",
       "      <td>2</td>\n",
       "      <td>-1</td>\n",
       "      <td>0.000000</td>\n",
       "      <td>3</td>\n",
       "      <td>0</td>\n",
       "    </tr>\n",
       "    <tr>\n",
       "      <th>1</th>\n",
       "      <td>40576</td>\n",
       "      <td>31</td>\n",
       "      <td>11</td>\n",
       "      <td>1</td>\n",
       "      <td>1</td>\n",
       "      <td>0</td>\n",
       "      <td>3</td>\n",
       "      <td>0</td>\n",
       "      <td>0</td>\n",
       "      <td>0</td>\n",
       "      <td>20</td>\n",
       "      <td>5</td>\n",
       "      <td>91</td>\n",
       "      <td>2</td>\n",
       "      <td>-1</td>\n",
       "      <td>0.000000</td>\n",
       "      <td>3</td>\n",
       "      <td>0</td>\n",
       "    </tr>\n",
       "    <tr>\n",
       "      <th>2</th>\n",
       "      <td>15320</td>\n",
       "      <td>27</td>\n",
       "      <td>7</td>\n",
       "      <td>1</td>\n",
       "      <td>1</td>\n",
       "      <td>0</td>\n",
       "      <td>891</td>\n",
       "      <td>1</td>\n",
       "      <td>0</td>\n",
       "      <td>0</td>\n",
       "      <td>18</td>\n",
       "      <td>5</td>\n",
       "      <td>240</td>\n",
       "      <td>1</td>\n",
       "      <td>-1</td>\n",
       "      <td>0.000000</td>\n",
       "      <td>3</td>\n",
       "      <td>0</td>\n",
       "    </tr>\n",
       "    <tr>\n",
       "      <th>3</th>\n",
       "      <td>43962</td>\n",
       "      <td>57</td>\n",
       "      <td>4</td>\n",
       "      <td>0</td>\n",
       "      <td>2</td>\n",
       "      <td>0</td>\n",
       "      <td>3287</td>\n",
       "      <td>0</td>\n",
       "      <td>0</td>\n",
       "      <td>0</td>\n",
       "      <td>22</td>\n",
       "      <td>6</td>\n",
       "      <td>867</td>\n",
       "      <td>1</td>\n",
       "      <td>84</td>\n",
       "      <td>1.732051</td>\n",
       "      <td>2</td>\n",
       "      <td>1</td>\n",
       "    </tr>\n",
       "    <tr>\n",
       "      <th>4</th>\n",
       "      <td>29842</td>\n",
       "      <td>31</td>\n",
       "      <td>9</td>\n",
       "      <td>1</td>\n",
       "      <td>1</td>\n",
       "      <td>0</td>\n",
       "      <td>119</td>\n",
       "      <td>1</td>\n",
       "      <td>0</td>\n",
       "      <td>0</td>\n",
       "      <td>4</td>\n",
       "      <td>3</td>\n",
       "      <td>380</td>\n",
       "      <td>1</td>\n",
       "      <td>-1</td>\n",
       "      <td>0.000000</td>\n",
       "      <td>3</td>\n",
       "      <td>0</td>\n",
       "    </tr>\n",
       "    <tr>\n",
       "      <th>...</th>\n",
       "      <td>...</td>\n",
       "      <td>...</td>\n",
       "      <td>...</td>\n",
       "      <td>...</td>\n",
       "      <td>...</td>\n",
       "      <td>...</td>\n",
       "      <td>...</td>\n",
       "      <td>...</td>\n",
       "      <td>...</td>\n",
       "      <td>...</td>\n",
       "      <td>...</td>\n",
       "      <td>...</td>\n",
       "      <td>...</td>\n",
       "      <td>...</td>\n",
       "      <td>...</td>\n",
       "      <td>...</td>\n",
       "      <td>...</td>\n",
       "      <td>...</td>\n",
       "    </tr>\n",
       "    <tr>\n",
       "      <th>31640</th>\n",
       "      <td>12109</td>\n",
       "      <td>43</td>\n",
       "      <td>4</td>\n",
       "      <td>2</td>\n",
       "      <td>1</td>\n",
       "      <td>0</td>\n",
       "      <td>2968</td>\n",
       "      <td>0</td>\n",
       "      <td>0</td>\n",
       "      <td>2</td>\n",
       "      <td>20</td>\n",
       "      <td>6</td>\n",
       "      <td>30</td>\n",
       "      <td>4</td>\n",
       "      <td>-1</td>\n",
       "      <td>0.000000</td>\n",
       "      <td>3</td>\n",
       "      <td>0</td>\n",
       "    </tr>\n",
       "    <tr>\n",
       "      <th>31641</th>\n",
       "      <td>9476</td>\n",
       "      <td>37</td>\n",
       "      <td>9</td>\n",
       "      <td>2</td>\n",
       "      <td>2</td>\n",
       "      <td>0</td>\n",
       "      <td>1309</td>\n",
       "      <td>0</td>\n",
       "      <td>0</td>\n",
       "      <td>2</td>\n",
       "      <td>6</td>\n",
       "      <td>6</td>\n",
       "      <td>442</td>\n",
       "      <td>2</td>\n",
       "      <td>-1</td>\n",
       "      <td>0.000000</td>\n",
       "      <td>3</td>\n",
       "      <td>0</td>\n",
       "    </tr>\n",
       "    <tr>\n",
       "      <th>31642</th>\n",
       "      <td>36483</td>\n",
       "      <td>29</td>\n",
       "      <td>4</td>\n",
       "      <td>2</td>\n",
       "      <td>2</td>\n",
       "      <td>0</td>\n",
       "      <td>0</td>\n",
       "      <td>1</td>\n",
       "      <td>0</td>\n",
       "      <td>0</td>\n",
       "      <td>12</td>\n",
       "      <td>8</td>\n",
       "      <td>116</td>\n",
       "      <td>2</td>\n",
       "      <td>-1</td>\n",
       "      <td>0.000000</td>\n",
       "      <td>3</td>\n",
       "      <td>0</td>\n",
       "    </tr>\n",
       "    <tr>\n",
       "      <th>31643</th>\n",
       "      <td>40178</td>\n",
       "      <td>53</td>\n",
       "      <td>4</td>\n",
       "      <td>0</td>\n",
       "      <td>2</td>\n",
       "      <td>0</td>\n",
       "      <td>380</td>\n",
       "      <td>0</td>\n",
       "      <td>1</td>\n",
       "      <td>0</td>\n",
       "      <td>5</td>\n",
       "      <td>6</td>\n",
       "      <td>438</td>\n",
       "      <td>2</td>\n",
       "      <td>-1</td>\n",
       "      <td>0.000000</td>\n",
       "      <td>3</td>\n",
       "      <td>1</td>\n",
       "    </tr>\n",
       "    <tr>\n",
       "      <th>31644</th>\n",
       "      <td>19710</td>\n",
       "      <td>32</td>\n",
       "      <td>4</td>\n",
       "      <td>2</td>\n",
       "      <td>2</td>\n",
       "      <td>0</td>\n",
       "      <td>312</td>\n",
       "      <td>0</td>\n",
       "      <td>0</td>\n",
       "      <td>0</td>\n",
       "      <td>7</td>\n",
       "      <td>1</td>\n",
       "      <td>37</td>\n",
       "      <td>3</td>\n",
       "      <td>-1</td>\n",
       "      <td>0.000000</td>\n",
       "      <td>3</td>\n",
       "      <td>0</td>\n",
       "    </tr>\n",
       "  </tbody>\n",
       "</table>\n",
       "<p>27321 rows × 18 columns</p>\n",
       "</div>"
      ],
      "text/plain": [
       "          ID  age  job  marital  education  default  balance  housing  loan  \\\n",
       "0      26110   56    0        1          3        0     1933        0     0   \n",
       "1      40576   31   11        1          1        0        3        0     0   \n",
       "2      15320   27    7        1          1        0      891        1     0   \n",
       "3      43962   57    4        0          2        0     3287        0     0   \n",
       "4      29842   31    9        1          1        0      119        1     0   \n",
       "...      ...  ...  ...      ...        ...      ...      ...      ...   ...   \n",
       "31640  12109   43    4        2          1        0     2968        0     0   \n",
       "31641   9476   37    9        2          2        0     1309        0     0   \n",
       "31642  36483   29    4        2          2        0        0        1     0   \n",
       "31643  40178   53    4        0          2        0      380        0     1   \n",
       "31644  19710   32    4        2          2        0      312        0     0   \n",
       "\n",
       "       contact  day  month  duration  campaign  pdays  previous  poutcome  \\\n",
       "0            1   19      9        44         2     -1  0.000000         3   \n",
       "1            0   20      5        91         2     -1  0.000000         3   \n",
       "2            0   18      5       240         1     -1  0.000000         3   \n",
       "3            0   22      6       867         1     84  1.732051         2   \n",
       "4            0    4      3       380         1     -1  0.000000         3   \n",
       "...        ...  ...    ...       ...       ...    ...       ...       ...   \n",
       "31640        2   20      6        30         4     -1  0.000000         3   \n",
       "31641        2    6      6       442         2     -1  0.000000         3   \n",
       "31642        0   12      8       116         2     -1  0.000000         3   \n",
       "31643        0    5      6       438         2     -1  0.000000         3   \n",
       "31644        0    7      1        37         3     -1  0.000000         3   \n",
       "\n",
       "       subscribed  \n",
       "0               0  \n",
       "1               0  \n",
       "2               0  \n",
       "3               1  \n",
       "4               0  \n",
       "...           ...  \n",
       "31640           0  \n",
       "31641           0  \n",
       "31642           0  \n",
       "31643           1  \n",
       "31644           0  \n",
       "\n",
       "[27321 rows x 18 columns]"
      ]
     },
     "execution_count": 238,
     "metadata": {},
     "output_type": "execute_result"
    }
   ],
   "source": [
    "newdf= df[(z < 3).all(axis=1)]\n",
    "newdf"
   ]
  },
  {
   "cell_type": "markdown",
   "id": "9fed09ed",
   "metadata": {},
   "source": [
    "## correlation test"
   ]
  },
  {
   "cell_type": "code",
   "execution_count": 239,
   "id": "cf86ec5e",
   "metadata": {},
   "outputs": [
    {
     "data": {
      "text/html": [
       "<div>\n",
       "<style scoped>\n",
       "    .dataframe tbody tr th:only-of-type {\n",
       "        vertical-align: middle;\n",
       "    }\n",
       "\n",
       "    .dataframe tbody tr th {\n",
       "        vertical-align: top;\n",
       "    }\n",
       "\n",
       "    .dataframe thead th {\n",
       "        text-align: right;\n",
       "    }\n",
       "</style>\n",
       "<table border=\"1\" class=\"dataframe\">\n",
       "  <thead>\n",
       "    <tr style=\"text-align: right;\">\n",
       "      <th></th>\n",
       "      <th>ID</th>\n",
       "      <th>age</th>\n",
       "      <th>job</th>\n",
       "      <th>marital</th>\n",
       "      <th>education</th>\n",
       "      <th>default</th>\n",
       "      <th>balance</th>\n",
       "      <th>housing</th>\n",
       "      <th>loan</th>\n",
       "      <th>contact</th>\n",
       "      <th>day</th>\n",
       "      <th>month</th>\n",
       "      <th>duration</th>\n",
       "      <th>campaign</th>\n",
       "      <th>pdays</th>\n",
       "      <th>previous</th>\n",
       "      <th>poutcome</th>\n",
       "      <th>subscribed</th>\n",
       "    </tr>\n",
       "  </thead>\n",
       "  <tbody>\n",
       "    <tr>\n",
       "      <th>ID</th>\n",
       "      <td>1.000000</td>\n",
       "      <td>-0.036005</td>\n",
       "      <td>0.069261</td>\n",
       "      <td>0.099854</td>\n",
       "      <td>0.117676</td>\n",
       "      <td>NaN</td>\n",
       "      <td>0.094730</td>\n",
       "      <td>-0.206315</td>\n",
       "      <td>-0.076539</td>\n",
       "      <td>-0.736177</td>\n",
       "      <td>-0.047004</td>\n",
       "      <td>-0.210677</td>\n",
       "      <td>0.011300</td>\n",
       "      <td>-0.087823</td>\n",
       "      <td>0.368370</td>\n",
       "      <td>0.410963</td>\n",
       "      <td>-0.372347</td>\n",
       "      <td>0.310059</td>\n",
       "    </tr>\n",
       "    <tr>\n",
       "      <th>age</th>\n",
       "      <td>-0.036005</td>\n",
       "      <td>1.000000</td>\n",
       "      <td>-0.029611</td>\n",
       "      <td>-0.411272</td>\n",
       "      <td>-0.100773</td>\n",
       "      <td>NaN</td>\n",
       "      <td>0.092077</td>\n",
       "      <td>-0.154912</td>\n",
       "      <td>0.005963</td>\n",
       "      <td>0.031477</td>\n",
       "      <td>-0.009208</td>\n",
       "      <td>-0.042651</td>\n",
       "      <td>-0.027426</td>\n",
       "      <td>0.035665</td>\n",
       "      <td>-0.011001</td>\n",
       "      <td>-0.000182</td>\n",
       "      <td>0.002450</td>\n",
       "      <td>-0.007979</td>\n",
       "    </tr>\n",
       "    <tr>\n",
       "      <th>job</th>\n",
       "      <td>0.069261</td>\n",
       "      <td>-0.029611</td>\n",
       "      <td>1.000000</td>\n",
       "      <td>0.067749</td>\n",
       "      <td>0.172906</td>\n",
       "      <td>NaN</td>\n",
       "      <td>0.023730</td>\n",
       "      <td>-0.123808</td>\n",
       "      <td>-0.036503</td>\n",
       "      <td>-0.084005</td>\n",
       "      <td>0.021998</td>\n",
       "      <td>-0.089377</td>\n",
       "      <td>-0.003114</td>\n",
       "      <td>0.005356</td>\n",
       "      <td>0.001532</td>\n",
       "      <td>0.012823</td>\n",
       "      <td>-0.011043</td>\n",
       "      <td>0.035298</td>\n",
       "    </tr>\n",
       "    <tr>\n",
       "      <th>marital</th>\n",
       "      <td>0.099854</td>\n",
       "      <td>-0.411272</td>\n",
       "      <td>0.067749</td>\n",
       "      <td>1.000000</td>\n",
       "      <td>0.112124</td>\n",
       "      <td>NaN</td>\n",
       "      <td>0.011859</td>\n",
       "      <td>-0.027636</td>\n",
       "      <td>-0.045514</td>\n",
       "      <td>-0.042099</td>\n",
       "      <td>-0.008378</td>\n",
       "      <td>-0.002251</td>\n",
       "      <td>0.015462</td>\n",
       "      <td>-0.022850</td>\n",
       "      <td>0.012204</td>\n",
       "      <td>0.019891</td>\n",
       "      <td>-0.014435</td>\n",
       "      <td>0.055495</td>\n",
       "    </tr>\n",
       "    <tr>\n",
       "      <th>education</th>\n",
       "      <td>0.117676</td>\n",
       "      <td>-0.100773</td>\n",
       "      <td>0.172906</td>\n",
       "      <td>0.112124</td>\n",
       "      <td>1.000000</td>\n",
       "      <td>NaN</td>\n",
       "      <td>0.053448</td>\n",
       "      <td>-0.098833</td>\n",
       "      <td>-0.048470</td>\n",
       "      <td>-0.123109</td>\n",
       "      <td>0.017892</td>\n",
       "      <td>-0.057486</td>\n",
       "      <td>0.001771</td>\n",
       "      <td>-0.007736</td>\n",
       "      <td>0.026508</td>\n",
       "      <td>0.052785</td>\n",
       "      <td>-0.041387</td>\n",
       "      <td>0.075769</td>\n",
       "    </tr>\n",
       "    <tr>\n",
       "      <th>default</th>\n",
       "      <td>NaN</td>\n",
       "      <td>NaN</td>\n",
       "      <td>NaN</td>\n",
       "      <td>NaN</td>\n",
       "      <td>NaN</td>\n",
       "      <td>NaN</td>\n",
       "      <td>NaN</td>\n",
       "      <td>NaN</td>\n",
       "      <td>NaN</td>\n",
       "      <td>NaN</td>\n",
       "      <td>NaN</td>\n",
       "      <td>NaN</td>\n",
       "      <td>NaN</td>\n",
       "      <td>NaN</td>\n",
       "      <td>NaN</td>\n",
       "      <td>NaN</td>\n",
       "      <td>NaN</td>\n",
       "      <td>NaN</td>\n",
       "    </tr>\n",
       "    <tr>\n",
       "      <th>balance</th>\n",
       "      <td>0.094730</td>\n",
       "      <td>0.092077</td>\n",
       "      <td>0.023730</td>\n",
       "      <td>0.011859</td>\n",
       "      <td>0.053448</td>\n",
       "      <td>NaN</td>\n",
       "      <td>1.000000</td>\n",
       "      <td>-0.057235</td>\n",
       "      <td>-0.094349</td>\n",
       "      <td>-0.036690</td>\n",
       "      <td>0.009119</td>\n",
       "      <td>0.031751</td>\n",
       "      <td>0.031080</td>\n",
       "      <td>-0.014179</td>\n",
       "      <td>0.039239</td>\n",
       "      <td>0.058027</td>\n",
       "      <td>-0.056666</td>\n",
       "      <td>0.069545</td>\n",
       "    </tr>\n",
       "    <tr>\n",
       "      <th>housing</th>\n",
       "      <td>-0.206315</td>\n",
       "      <td>-0.154912</td>\n",
       "      <td>-0.123808</td>\n",
       "      <td>-0.027636</td>\n",
       "      <td>-0.098833</td>\n",
       "      <td>NaN</td>\n",
       "      <td>-0.057235</td>\n",
       "      <td>1.000000</td>\n",
       "      <td>0.036613</td>\n",
       "      <td>0.216788</td>\n",
       "      <td>-0.013299</td>\n",
       "      <td>0.276672</td>\n",
       "      <td>0.011512</td>\n",
       "      <td>-0.041615</td>\n",
       "      <td>0.070685</td>\n",
       "      <td>0.010413</td>\n",
       "      <td>-0.048521</td>\n",
       "      <td>-0.148608</td>\n",
       "    </tr>\n",
       "    <tr>\n",
       "      <th>loan</th>\n",
       "      <td>-0.076539</td>\n",
       "      <td>0.005963</td>\n",
       "      <td>-0.036503</td>\n",
       "      <td>-0.045514</td>\n",
       "      <td>-0.048470</td>\n",
       "      <td>NaN</td>\n",
       "      <td>-0.094349</td>\n",
       "      <td>0.036613</td>\n",
       "      <td>1.000000</td>\n",
       "      <td>-0.011908</td>\n",
       "      <td>0.011776</td>\n",
       "      <td>0.027945</td>\n",
       "      <td>-0.010025</td>\n",
       "      <td>-0.001448</td>\n",
       "      <td>-0.006669</td>\n",
       "      <td>-0.015793</td>\n",
       "      <td>-0.000131</td>\n",
       "      <td>-0.074070</td>\n",
       "    </tr>\n",
       "    <tr>\n",
       "      <th>contact</th>\n",
       "      <td>-0.736177</td>\n",
       "      <td>0.031477</td>\n",
       "      <td>-0.084005</td>\n",
       "      <td>-0.042099</td>\n",
       "      <td>-0.123109</td>\n",
       "      <td>NaN</td>\n",
       "      <td>-0.036690</td>\n",
       "      <td>0.216788</td>\n",
       "      <td>-0.011908</td>\n",
       "      <td>1.000000</td>\n",
       "      <td>-0.029013</td>\n",
       "      <td>0.396241</td>\n",
       "      <td>-0.022873</td>\n",
       "      <td>0.003135</td>\n",
       "      <td>-0.235208</td>\n",
       "      <td>-0.248194</td>\n",
       "      <td>0.244047</td>\n",
       "      <td>-0.156810</td>\n",
       "    </tr>\n",
       "    <tr>\n",
       "      <th>day</th>\n",
       "      <td>-0.047004</td>\n",
       "      <td>-0.009208</td>\n",
       "      <td>0.021998</td>\n",
       "      <td>-0.008378</td>\n",
       "      <td>0.017892</td>\n",
       "      <td>NaN</td>\n",
       "      <td>0.009119</td>\n",
       "      <td>-0.013299</td>\n",
       "      <td>0.011776</td>\n",
       "      <td>-0.029013</td>\n",
       "      <td>1.000000</td>\n",
       "      <td>0.018161</td>\n",
       "      <td>-0.025619</td>\n",
       "      <td>0.132366</td>\n",
       "      <td>-0.053035</td>\n",
       "      <td>-0.047191</td>\n",
       "      <td>0.043085</td>\n",
       "      <td>-0.028062</td>\n",
       "    </tr>\n",
       "    <tr>\n",
       "      <th>month</th>\n",
       "      <td>-0.210677</td>\n",
       "      <td>-0.042651</td>\n",
       "      <td>-0.089377</td>\n",
       "      <td>-0.002251</td>\n",
       "      <td>-0.057486</td>\n",
       "      <td>NaN</td>\n",
       "      <td>0.031751</td>\n",
       "      <td>0.276672</td>\n",
       "      <td>0.027945</td>\n",
       "      <td>0.396241</td>\n",
       "      <td>0.018161</td>\n",
       "      <td>1.000000</td>\n",
       "      <td>0.009521</td>\n",
       "      <td>-0.120767</td>\n",
       "      <td>-0.056530</td>\n",
       "      <td>-0.014642</td>\n",
       "      <td>0.022900</td>\n",
       "      <td>-0.022496</td>\n",
       "    </tr>\n",
       "    <tr>\n",
       "      <th>duration</th>\n",
       "      <td>0.011300</td>\n",
       "      <td>-0.027426</td>\n",
       "      <td>-0.003114</td>\n",
       "      <td>0.015462</td>\n",
       "      <td>0.001771</td>\n",
       "      <td>NaN</td>\n",
       "      <td>0.031080</td>\n",
       "      <td>0.011512</td>\n",
       "      <td>-0.010025</td>\n",
       "      <td>-0.022873</td>\n",
       "      <td>-0.025619</td>\n",
       "      <td>0.009521</td>\n",
       "      <td>1.000000</td>\n",
       "      <td>-0.071517</td>\n",
       "      <td>0.008227</td>\n",
       "      <td>0.010110</td>\n",
       "      <td>0.006530</td>\n",
       "      <td>0.351755</td>\n",
       "    </tr>\n",
       "    <tr>\n",
       "      <th>campaign</th>\n",
       "      <td>-0.087823</td>\n",
       "      <td>0.035665</td>\n",
       "      <td>0.005356</td>\n",
       "      <td>-0.022850</td>\n",
       "      <td>-0.007736</td>\n",
       "      <td>NaN</td>\n",
       "      <td>-0.014179</td>\n",
       "      <td>-0.041615</td>\n",
       "      <td>-0.001448</td>\n",
       "      <td>0.003135</td>\n",
       "      <td>0.132366</td>\n",
       "      <td>-0.120767</td>\n",
       "      <td>-0.071517</td>\n",
       "      <td>1.000000</td>\n",
       "      <td>-0.088927</td>\n",
       "      <td>-0.092971</td>\n",
       "      <td>0.099300</td>\n",
       "      <td>-0.075407</td>\n",
       "    </tr>\n",
       "    <tr>\n",
       "      <th>pdays</th>\n",
       "      <td>0.368370</td>\n",
       "      <td>-0.011001</td>\n",
       "      <td>0.001532</td>\n",
       "      <td>0.012204</td>\n",
       "      <td>0.026508</td>\n",
       "      <td>NaN</td>\n",
       "      <td>0.039239</td>\n",
       "      <td>0.070685</td>\n",
       "      <td>-0.006669</td>\n",
       "      <td>-0.235208</td>\n",
       "      <td>-0.053035</td>\n",
       "      <td>-0.056530</td>\n",
       "      <td>0.008227</td>\n",
       "      <td>-0.088927</td>\n",
       "      <td>1.000000</td>\n",
       "      <td>0.853638</td>\n",
       "      <td>-0.883021</td>\n",
       "      <td>0.110235</td>\n",
       "    </tr>\n",
       "    <tr>\n",
       "      <th>previous</th>\n",
       "      <td>0.410963</td>\n",
       "      <td>-0.000182</td>\n",
       "      <td>0.012823</td>\n",
       "      <td>0.019891</td>\n",
       "      <td>0.052785</td>\n",
       "      <td>NaN</td>\n",
       "      <td>0.058027</td>\n",
       "      <td>0.010413</td>\n",
       "      <td>-0.015793</td>\n",
       "      <td>-0.248194</td>\n",
       "      <td>-0.047191</td>\n",
       "      <td>-0.014642</td>\n",
       "      <td>0.010110</td>\n",
       "      <td>-0.092971</td>\n",
       "      <td>0.853638</td>\n",
       "      <td>1.000000</td>\n",
       "      <td>-0.893175</td>\n",
       "      <td>0.177149</td>\n",
       "    </tr>\n",
       "    <tr>\n",
       "      <th>poutcome</th>\n",
       "      <td>-0.372347</td>\n",
       "      <td>0.002450</td>\n",
       "      <td>-0.011043</td>\n",
       "      <td>-0.014435</td>\n",
       "      <td>-0.041387</td>\n",
       "      <td>NaN</td>\n",
       "      <td>-0.056666</td>\n",
       "      <td>-0.048521</td>\n",
       "      <td>-0.000131</td>\n",
       "      <td>0.244047</td>\n",
       "      <td>0.043085</td>\n",
       "      <td>0.022900</td>\n",
       "      <td>0.006530</td>\n",
       "      <td>0.099300</td>\n",
       "      <td>-0.883021</td>\n",
       "      <td>-0.893175</td>\n",
       "      <td>1.000000</td>\n",
       "      <td>-0.084695</td>\n",
       "    </tr>\n",
       "    <tr>\n",
       "      <th>subscribed</th>\n",
       "      <td>0.310059</td>\n",
       "      <td>-0.007979</td>\n",
       "      <td>0.035298</td>\n",
       "      <td>0.055495</td>\n",
       "      <td>0.075769</td>\n",
       "      <td>NaN</td>\n",
       "      <td>0.069545</td>\n",
       "      <td>-0.148608</td>\n",
       "      <td>-0.074070</td>\n",
       "      <td>-0.156810</td>\n",
       "      <td>-0.028062</td>\n",
       "      <td>-0.022496</td>\n",
       "      <td>0.351755</td>\n",
       "      <td>-0.075407</td>\n",
       "      <td>0.110235</td>\n",
       "      <td>0.177149</td>\n",
       "      <td>-0.084695</td>\n",
       "      <td>1.000000</td>\n",
       "    </tr>\n",
       "  </tbody>\n",
       "</table>\n",
       "</div>"
      ],
      "text/plain": [
       "                  ID       age       job   marital  education  default  \\\n",
       "ID          1.000000 -0.036005  0.069261  0.099854   0.117676      NaN   \n",
       "age        -0.036005  1.000000 -0.029611 -0.411272  -0.100773      NaN   \n",
       "job         0.069261 -0.029611  1.000000  0.067749   0.172906      NaN   \n",
       "marital     0.099854 -0.411272  0.067749  1.000000   0.112124      NaN   \n",
       "education   0.117676 -0.100773  0.172906  0.112124   1.000000      NaN   \n",
       "default          NaN       NaN       NaN       NaN        NaN      NaN   \n",
       "balance     0.094730  0.092077  0.023730  0.011859   0.053448      NaN   \n",
       "housing    -0.206315 -0.154912 -0.123808 -0.027636  -0.098833      NaN   \n",
       "loan       -0.076539  0.005963 -0.036503 -0.045514  -0.048470      NaN   \n",
       "contact    -0.736177  0.031477 -0.084005 -0.042099  -0.123109      NaN   \n",
       "day        -0.047004 -0.009208  0.021998 -0.008378   0.017892      NaN   \n",
       "month      -0.210677 -0.042651 -0.089377 -0.002251  -0.057486      NaN   \n",
       "duration    0.011300 -0.027426 -0.003114  0.015462   0.001771      NaN   \n",
       "campaign   -0.087823  0.035665  0.005356 -0.022850  -0.007736      NaN   \n",
       "pdays       0.368370 -0.011001  0.001532  0.012204   0.026508      NaN   \n",
       "previous    0.410963 -0.000182  0.012823  0.019891   0.052785      NaN   \n",
       "poutcome   -0.372347  0.002450 -0.011043 -0.014435  -0.041387      NaN   \n",
       "subscribed  0.310059 -0.007979  0.035298  0.055495   0.075769      NaN   \n",
       "\n",
       "             balance   housing      loan   contact       day     month  \\\n",
       "ID          0.094730 -0.206315 -0.076539 -0.736177 -0.047004 -0.210677   \n",
       "age         0.092077 -0.154912  0.005963  0.031477 -0.009208 -0.042651   \n",
       "job         0.023730 -0.123808 -0.036503 -0.084005  0.021998 -0.089377   \n",
       "marital     0.011859 -0.027636 -0.045514 -0.042099 -0.008378 -0.002251   \n",
       "education   0.053448 -0.098833 -0.048470 -0.123109  0.017892 -0.057486   \n",
       "default          NaN       NaN       NaN       NaN       NaN       NaN   \n",
       "balance     1.000000 -0.057235 -0.094349 -0.036690  0.009119  0.031751   \n",
       "housing    -0.057235  1.000000  0.036613  0.216788 -0.013299  0.276672   \n",
       "loan       -0.094349  0.036613  1.000000 -0.011908  0.011776  0.027945   \n",
       "contact    -0.036690  0.216788 -0.011908  1.000000 -0.029013  0.396241   \n",
       "day         0.009119 -0.013299  0.011776 -0.029013  1.000000  0.018161   \n",
       "month       0.031751  0.276672  0.027945  0.396241  0.018161  1.000000   \n",
       "duration    0.031080  0.011512 -0.010025 -0.022873 -0.025619  0.009521   \n",
       "campaign   -0.014179 -0.041615 -0.001448  0.003135  0.132366 -0.120767   \n",
       "pdays       0.039239  0.070685 -0.006669 -0.235208 -0.053035 -0.056530   \n",
       "previous    0.058027  0.010413 -0.015793 -0.248194 -0.047191 -0.014642   \n",
       "poutcome   -0.056666 -0.048521 -0.000131  0.244047  0.043085  0.022900   \n",
       "subscribed  0.069545 -0.148608 -0.074070 -0.156810 -0.028062 -0.022496   \n",
       "\n",
       "            duration  campaign     pdays  previous  poutcome  subscribed  \n",
       "ID          0.011300 -0.087823  0.368370  0.410963 -0.372347    0.310059  \n",
       "age        -0.027426  0.035665 -0.011001 -0.000182  0.002450   -0.007979  \n",
       "job        -0.003114  0.005356  0.001532  0.012823 -0.011043    0.035298  \n",
       "marital     0.015462 -0.022850  0.012204  0.019891 -0.014435    0.055495  \n",
       "education   0.001771 -0.007736  0.026508  0.052785 -0.041387    0.075769  \n",
       "default          NaN       NaN       NaN       NaN       NaN         NaN  \n",
       "balance     0.031080 -0.014179  0.039239  0.058027 -0.056666    0.069545  \n",
       "housing     0.011512 -0.041615  0.070685  0.010413 -0.048521   -0.148608  \n",
       "loan       -0.010025 -0.001448 -0.006669 -0.015793 -0.000131   -0.074070  \n",
       "contact    -0.022873  0.003135 -0.235208 -0.248194  0.244047   -0.156810  \n",
       "day        -0.025619  0.132366 -0.053035 -0.047191  0.043085   -0.028062  \n",
       "month       0.009521 -0.120767 -0.056530 -0.014642  0.022900   -0.022496  \n",
       "duration    1.000000 -0.071517  0.008227  0.010110  0.006530    0.351755  \n",
       "campaign   -0.071517  1.000000 -0.088927 -0.092971  0.099300   -0.075407  \n",
       "pdays       0.008227 -0.088927  1.000000  0.853638 -0.883021    0.110235  \n",
       "previous    0.010110 -0.092971  0.853638  1.000000 -0.893175    0.177149  \n",
       "poutcome    0.006530  0.099300 -0.883021 -0.893175  1.000000   -0.084695  \n",
       "subscribed  0.351755 -0.075407  0.110235  0.177149 -0.084695    1.000000  "
      ]
     },
     "execution_count": 239,
     "metadata": {},
     "output_type": "execute_result"
    }
   ],
   "source": [
    "newdf.corr()"
   ]
  },
  {
   "cell_type": "code",
   "execution_count": 240,
   "id": "d8350024",
   "metadata": {
    "scrolled": true
   },
   "outputs": [
    {
     "data": {
      "text/plain": [
       "<AxesSubplot:>"
      ]
     },
     "execution_count": 240,
     "metadata": {},
     "output_type": "execute_result"
    },
    {
     "data": {
      "image/png": "[encoded data removed]",
      "text/plain": [
       "<Figure size 1440x1440 with 2 Axes>"
      ]
     },
     "metadata": {
      "needs_background": "light"
     },
     "output_type": "display_data"
    }
   ],
   "source": [
    "plt.figure(figsize=(20,20))\n",
    "sns.heatmap(newdf.corr(),cmap='Blues',annot=True)"
   ]
  },
  {
   "cell_type": "code",
   "execution_count": 241,
   "id": "9d57d040",
   "metadata": {},
   "outputs": [],
   "source": [
    "newdf=newdf.drop('default',axis=1)"
   ]
  },
  {
   "cell_type": "code",
   "execution_count": 242,
   "id": "c5b404b2",
   "metadata": {},
   "outputs": [
    {
     "data": {
      "text/html": [
       "<div>\n",
       "<style scoped>\n",
       "    .dataframe tbody tr th:only-of-type {\n",
       "        vertical-align: middle;\n",
       "    }\n",
       "\n",
       "    .dataframe tbody tr th {\n",
       "        vertical-align: top;\n",
       "    }\n",
       "\n",
       "    .dataframe thead th {\n",
       "        text-align: right;\n",
       "    }\n",
       "</style>\n",
       "<table border=\"1\" class=\"dataframe\">\n",
       "  <thead>\n",
       "    <tr style=\"text-align: right;\">\n",
       "      <th></th>\n",
       "      <th>ID</th>\n",
       "      <th>age</th>\n",
       "      <th>job</th>\n",
       "      <th>marital</th>\n",
       "      <th>education</th>\n",
       "      <th>balance</th>\n",
       "      <th>housing</th>\n",
       "      <th>loan</th>\n",
       "      <th>contact</th>\n",
       "      <th>day</th>\n",
       "      <th>month</th>\n",
       "      <th>duration</th>\n",
       "      <th>campaign</th>\n",
       "      <th>pdays</th>\n",
       "      <th>previous</th>\n",
       "      <th>poutcome</th>\n",
       "      <th>subscribed</th>\n",
       "    </tr>\n",
       "  </thead>\n",
       "  <tbody>\n",
       "    <tr>\n",
       "      <th>0</th>\n",
       "      <td>26110</td>\n",
       "      <td>56</td>\n",
       "      <td>0</td>\n",
       "      <td>1</td>\n",
       "      <td>3</td>\n",
       "      <td>1933</td>\n",
       "      <td>0</td>\n",
       "      <td>0</td>\n",
       "      <td>1</td>\n",
       "      <td>19</td>\n",
       "      <td>9</td>\n",
       "      <td>44</td>\n",
       "      <td>2</td>\n",
       "      <td>-1</td>\n",
       "      <td>0.000000</td>\n",
       "      <td>3</td>\n",
       "      <td>0</td>\n",
       "    </tr>\n",
       "    <tr>\n",
       "      <th>1</th>\n",
       "      <td>40576</td>\n",
       "      <td>31</td>\n",
       "      <td>11</td>\n",
       "      <td>1</td>\n",
       "      <td>1</td>\n",
       "      <td>3</td>\n",
       "      <td>0</td>\n",
       "      <td>0</td>\n",
       "      <td>0</td>\n",
       "      <td>20</td>\n",
       "      <td>5</td>\n",
       "      <td>91</td>\n",
       "      <td>2</td>\n",
       "      <td>-1</td>\n",
       "      <td>0.000000</td>\n",
       "      <td>3</td>\n",
       "      <td>0</td>\n",
       "    </tr>\n",
       "    <tr>\n",
       "      <th>2</th>\n",
       "      <td>15320</td>\n",
       "      <td>27</td>\n",
       "      <td>7</td>\n",
       "      <td>1</td>\n",
       "      <td>1</td>\n",
       "      <td>891</td>\n",
       "      <td>1</td>\n",
       "      <td>0</td>\n",
       "      <td>0</td>\n",
       "      <td>18</td>\n",
       "      <td>5</td>\n",
       "      <td>240</td>\n",
       "      <td>1</td>\n",
       "      <td>-1</td>\n",
       "      <td>0.000000</td>\n",
       "      <td>3</td>\n",
       "      <td>0</td>\n",
       "    </tr>\n",
       "    <tr>\n",
       "      <th>3</th>\n",
       "      <td>43962</td>\n",
       "      <td>57</td>\n",
       "      <td>4</td>\n",
       "      <td>0</td>\n",
       "      <td>2</td>\n",
       "      <td>3287</td>\n",
       "      <td>0</td>\n",
       "      <td>0</td>\n",
       "      <td>0</td>\n",
       "      <td>22</td>\n",
       "      <td>6</td>\n",
       "      <td>867</td>\n",
       "      <td>1</td>\n",
       "      <td>84</td>\n",
       "      <td>1.732051</td>\n",
       "      <td>2</td>\n",
       "      <td>1</td>\n",
       "    </tr>\n",
       "    <tr>\n",
       "      <th>4</th>\n",
       "      <td>29842</td>\n",
       "      <td>31</td>\n",
       "      <td>9</td>\n",
       "      <td>1</td>\n",
       "      <td>1</td>\n",
       "      <td>119</td>\n",
       "      <td>1</td>\n",
       "      <td>0</td>\n",
       "      <td>0</td>\n",
       "      <td>4</td>\n",
       "      <td>3</td>\n",
       "      <td>380</td>\n",
       "      <td>1</td>\n",
       "      <td>-1</td>\n",
       "      <td>0.000000</td>\n",
       "      <td>3</td>\n",
       "      <td>0</td>\n",
       "    </tr>\n",
       "    <tr>\n",
       "      <th>...</th>\n",
       "      <td>...</td>\n",
       "      <td>...</td>\n",
       "      <td>...</td>\n",
       "      <td>...</td>\n",
       "      <td>...</td>\n",
       "      <td>...</td>\n",
       "      <td>...</td>\n",
       "      <td>...</td>\n",
       "      <td>...</td>\n",
       "      <td>...</td>\n",
       "      <td>...</td>\n",
       "      <td>...</td>\n",
       "      <td>...</td>\n",
       "      <td>...</td>\n",
       "      <td>...</td>\n",
       "      <td>...</td>\n",
       "      <td>...</td>\n",
       "    </tr>\n",
       "    <tr>\n",
       "      <th>31640</th>\n",
       "      <td>12109</td>\n",
       "      <td>43</td>\n",
       "      <td>4</td>\n",
       "      <td>2</td>\n",
       "      <td>1</td>\n",
       "      <td>2968</td>\n",
       "      <td>0</td>\n",
       "      <td>0</td>\n",
       "      <td>2</td>\n",
       "      <td>20</td>\n",
       "      <td>6</td>\n",
       "      <td>30</td>\n",
       "      <td>4</td>\n",
       "      <td>-1</td>\n",
       "      <td>0.000000</td>\n",
       "      <td>3</td>\n",
       "      <td>0</td>\n",
       "    </tr>\n",
       "    <tr>\n",
       "      <th>31641</th>\n",
       "      <td>9476</td>\n",
       "      <td>37</td>\n",
       "      <td>9</td>\n",
       "      <td>2</td>\n",
       "      <td>2</td>\n",
       "      <td>1309</td>\n",
       "      <td>0</td>\n",
       "      <td>0</td>\n",
       "      <td>2</td>\n",
       "      <td>6</td>\n",
       "      <td>6</td>\n",
       "      <td>442</td>\n",
       "      <td>2</td>\n",
       "      <td>-1</td>\n",
       "      <td>0.000000</td>\n",
       "      <td>3</td>\n",
       "      <td>0</td>\n",
       "    </tr>\n",
       "    <tr>\n",
       "      <th>31642</th>\n",
       "      <td>36483</td>\n",
       "      <td>29</td>\n",
       "      <td>4</td>\n",
       "      <td>2</td>\n",
       "      <td>2</td>\n",
       "      <td>0</td>\n",
       "      <td>1</td>\n",
       "      <td>0</td>\n",
       "      <td>0</td>\n",
       "      <td>12</td>\n",
       "      <td>8</td>\n",
       "      <td>116</td>\n",
       "      <td>2</td>\n",
       "      <td>-1</td>\n",
       "      <td>0.000000</td>\n",
       "      <td>3</td>\n",
       "      <td>0</td>\n",
       "    </tr>\n",
       "    <tr>\n",
       "      <th>31643</th>\n",
       "      <td>40178</td>\n",
       "      <td>53</td>\n",
       "      <td>4</td>\n",
       "      <td>0</td>\n",
       "      <td>2</td>\n",
       "      <td>380</td>\n",
       "      <td>0</td>\n",
       "      <td>1</td>\n",
       "      <td>0</td>\n",
       "      <td>5</td>\n",
       "      <td>6</td>\n",
       "      <td>438</td>\n",
       "      <td>2</td>\n",
       "      <td>-1</td>\n",
       "      <td>0.000000</td>\n",
       "      <td>3</td>\n",
       "      <td>1</td>\n",
       "    </tr>\n",
       "    <tr>\n",
       "      <th>31644</th>\n",
       "      <td>19710</td>\n",
       "      <td>32</td>\n",
       "      <td>4</td>\n",
       "      <td>2</td>\n",
       "      <td>2</td>\n",
       "      <td>312</td>\n",
       "      <td>0</td>\n",
       "      <td>0</td>\n",
       "      <td>0</td>\n",
       "      <td>7</td>\n",
       "      <td>1</td>\n",
       "      <td>37</td>\n",
       "      <td>3</td>\n",
       "      <td>-1</td>\n",
       "      <td>0.000000</td>\n",
       "      <td>3</td>\n",
       "      <td>0</td>\n",
       "    </tr>\n",
       "  </tbody>\n",
       "</table>\n",
       "<p>27321 rows × 17 columns</p>\n",
       "</div>"
      ],
      "text/plain": [
       "          ID  age  job  marital  education  balance  housing  loan  contact  \\\n",
       "0      26110   56    0        1          3     1933        0     0        1   \n",
       "1      40576   31   11        1          1        3        0     0        0   \n",
       "2      15320   27    7        1          1      891        1     0        0   \n",
       "3      43962   57    4        0          2     3287        0     0        0   \n",
       "4      29842   31    9        1          1      119        1     0        0   \n",
       "...      ...  ...  ...      ...        ...      ...      ...   ...      ...   \n",
       "31640  12109   43    4        2          1     2968        0     0        2   \n",
       "31641   9476   37    9        2          2     1309        0     0        2   \n",
       "31642  36483   29    4        2          2        0        1     0        0   \n",
       "31643  40178   53    4        0          2      380        0     1        0   \n",
       "31644  19710   32    4        2          2      312        0     0        0   \n",
       "\n",
       "       day  month  duration  campaign  pdays  previous  poutcome  subscribed  \n",
       "0       19      9        44         2     -1  0.000000         3           0  \n",
       "1       20      5        91         2     -1  0.000000         3           0  \n",
       "2       18      5       240         1     -1  0.000000         3           0  \n",
       "3       22      6       867         1     84  1.732051         2           1  \n",
       "4        4      3       380         1     -1  0.000000         3           0  \n",
       "...    ...    ...       ...       ...    ...       ...       ...         ...  \n",
       "31640   20      6        30         4     -1  0.000000         3           0  \n",
       "31641    6      6       442         2     -1  0.000000         3           0  \n",
       "31642   12      8       116         2     -1  0.000000         3           0  \n",
       "31643    5      6       438         2     -1  0.000000         3           1  \n",
       "31644    7      1        37         3     -1  0.000000         3           0  \n",
       "\n",
       "[27321 rows x 17 columns]"
      ]
     },
     "execution_count": 242,
     "metadata": {},
     "output_type": "execute_result"
    }
   ],
   "source": [
    "newdf"
   ]
  },
  {
   "cell_type": "markdown",
   "id": "de430680",
   "metadata": {},
   "source": [
    "## Variance inflation test"
   ]
  },
  {
   "cell_type": "code",
   "execution_count": 243,
   "id": "afa40839",
   "metadata": {},
   "outputs": [],
   "source": [
    "x=newdf.iloc[:,:-1]"
   ]
  },
  {
   "cell_type": "code",
   "execution_count": 244,
   "id": "4e124b0b",
   "metadata": {},
   "outputs": [],
   "source": [
    "y=newdf.iloc[:,-1]"
   ]
  },
  {
   "cell_type": "code",
   "execution_count": 245,
   "id": "01f1382c",
   "metadata": {},
   "outputs": [
    {
     "data": {
      "text/html": [
       "<div>\n",
       "<style scoped>\n",
       "    .dataframe tbody tr th:only-of-type {\n",
       "        vertical-align: middle;\n",
       "    }\n",
       "\n",
       "    .dataframe tbody tr th {\n",
       "        vertical-align: top;\n",
       "    }\n",
       "\n",
       "    .dataframe thead th {\n",
       "        text-align: right;\n",
       "    }\n",
       "</style>\n",
       "<table border=\"1\" class=\"dataframe\">\n",
       "  <thead>\n",
       "    <tr style=\"text-align: right;\">\n",
       "      <th></th>\n",
       "      <th>ID</th>\n",
       "      <th>age</th>\n",
       "      <th>job</th>\n",
       "      <th>marital</th>\n",
       "      <th>education</th>\n",
       "      <th>balance</th>\n",
       "      <th>housing</th>\n",
       "      <th>loan</th>\n",
       "      <th>contact</th>\n",
       "      <th>day</th>\n",
       "      <th>month</th>\n",
       "      <th>duration</th>\n",
       "      <th>campaign</th>\n",
       "      <th>pdays</th>\n",
       "      <th>previous</th>\n",
       "      <th>poutcome</th>\n",
       "      <th>subscribed</th>\n",
       "    </tr>\n",
       "  </thead>\n",
       "  <tbody>\n",
       "    <tr>\n",
       "      <th>0</th>\n",
       "      <td>26110</td>\n",
       "      <td>56</td>\n",
       "      <td>0</td>\n",
       "      <td>1</td>\n",
       "      <td>3</td>\n",
       "      <td>1933</td>\n",
       "      <td>0</td>\n",
       "      <td>0</td>\n",
       "      <td>1</td>\n",
       "      <td>19</td>\n",
       "      <td>9</td>\n",
       "      <td>44</td>\n",
       "      <td>2</td>\n",
       "      <td>-1</td>\n",
       "      <td>0.000000</td>\n",
       "      <td>3</td>\n",
       "      <td>0</td>\n",
       "    </tr>\n",
       "    <tr>\n",
       "      <th>1</th>\n",
       "      <td>40576</td>\n",
       "      <td>31</td>\n",
       "      <td>11</td>\n",
       "      <td>1</td>\n",
       "      <td>1</td>\n",
       "      <td>3</td>\n",
       "      <td>0</td>\n",
       "      <td>0</td>\n",
       "      <td>0</td>\n",
       "      <td>20</td>\n",
       "      <td>5</td>\n",
       "      <td>91</td>\n",
       "      <td>2</td>\n",
       "      <td>-1</td>\n",
       "      <td>0.000000</td>\n",
       "      <td>3</td>\n",
       "      <td>0</td>\n",
       "    </tr>\n",
       "    <tr>\n",
       "      <th>2</th>\n",
       "      <td>15320</td>\n",
       "      <td>27</td>\n",
       "      <td>7</td>\n",
       "      <td>1</td>\n",
       "      <td>1</td>\n",
       "      <td>891</td>\n",
       "      <td>1</td>\n",
       "      <td>0</td>\n",
       "      <td>0</td>\n",
       "      <td>18</td>\n",
       "      <td>5</td>\n",
       "      <td>240</td>\n",
       "      <td>1</td>\n",
       "      <td>-1</td>\n",
       "      <td>0.000000</td>\n",
       "      <td>3</td>\n",
       "      <td>0</td>\n",
       "    </tr>\n",
       "    <tr>\n",
       "      <th>3</th>\n",
       "      <td>43962</td>\n",
       "      <td>57</td>\n",
       "      <td>4</td>\n",
       "      <td>0</td>\n",
       "      <td>2</td>\n",
       "      <td>3287</td>\n",
       "      <td>0</td>\n",
       "      <td>0</td>\n",
       "      <td>0</td>\n",
       "      <td>22</td>\n",
       "      <td>6</td>\n",
       "      <td>867</td>\n",
       "      <td>1</td>\n",
       "      <td>84</td>\n",
       "      <td>1.732051</td>\n",
       "      <td>2</td>\n",
       "      <td>1</td>\n",
       "    </tr>\n",
       "    <tr>\n",
       "      <th>4</th>\n",
       "      <td>29842</td>\n",
       "      <td>31</td>\n",
       "      <td>9</td>\n",
       "      <td>1</td>\n",
       "      <td>1</td>\n",
       "      <td>119</td>\n",
       "      <td>1</td>\n",
       "      <td>0</td>\n",
       "      <td>0</td>\n",
       "      <td>4</td>\n",
       "      <td>3</td>\n",
       "      <td>380</td>\n",
       "      <td>1</td>\n",
       "      <td>-1</td>\n",
       "      <td>0.000000</td>\n",
       "      <td>3</td>\n",
       "      <td>0</td>\n",
       "    </tr>\n",
       "    <tr>\n",
       "      <th>...</th>\n",
       "      <td>...</td>\n",
       "      <td>...</td>\n",
       "      <td>...</td>\n",
       "      <td>...</td>\n",
       "      <td>...</td>\n",
       "      <td>...</td>\n",
       "      <td>...</td>\n",
       "      <td>...</td>\n",
       "      <td>...</td>\n",
       "      <td>...</td>\n",
       "      <td>...</td>\n",
       "      <td>...</td>\n",
       "      <td>...</td>\n",
       "      <td>...</td>\n",
       "      <td>...</td>\n",
       "      <td>...</td>\n",
       "      <td>...</td>\n",
       "    </tr>\n",
       "    <tr>\n",
       "      <th>31640</th>\n",
       "      <td>12109</td>\n",
       "      <td>43</td>\n",
       "      <td>4</td>\n",
       "      <td>2</td>\n",
       "      <td>1</td>\n",
       "      <td>2968</td>\n",
       "      <td>0</td>\n",
       "      <td>0</td>\n",
       "      <td>2</td>\n",
       "      <td>20</td>\n",
       "      <td>6</td>\n",
       "      <td>30</td>\n",
       "      <td>4</td>\n",
       "      <td>-1</td>\n",
       "      <td>0.000000</td>\n",
       "      <td>3</td>\n",
       "      <td>0</td>\n",
       "    </tr>\n",
       "    <tr>\n",
       "      <th>31641</th>\n",
       "      <td>9476</td>\n",
       "      <td>37</td>\n",
       "      <td>9</td>\n",
       "      <td>2</td>\n",
       "      <td>2</td>\n",
       "      <td>1309</td>\n",
       "      <td>0</td>\n",
       "      <td>0</td>\n",
       "      <td>2</td>\n",
       "      <td>6</td>\n",
       "      <td>6</td>\n",
       "      <td>442</td>\n",
       "      <td>2</td>\n",
       "      <td>-1</td>\n",
       "      <td>0.000000</td>\n",
       "      <td>3</td>\n",
       "      <td>0</td>\n",
       "    </tr>\n",
       "    <tr>\n",
       "      <th>31642</th>\n",
       "      <td>36483</td>\n",
       "      <td>29</td>\n",
       "      <td>4</td>\n",
       "      <td>2</td>\n",
       "      <td>2</td>\n",
       "      <td>0</td>\n",
       "      <td>1</td>\n",
       "      <td>0</td>\n",
       "      <td>0</td>\n",
       "      <td>12</td>\n",
       "      <td>8</td>\n",
       "      <td>116</td>\n",
       "      <td>2</td>\n",
       "      <td>-1</td>\n",
       "      <td>0.000000</td>\n",
       "      <td>3</td>\n",
       "      <td>0</td>\n",
       "    </tr>\n",
       "    <tr>\n",
       "      <th>31643</th>\n",
       "      <td>40178</td>\n",
       "      <td>53</td>\n",
       "      <td>4</td>\n",
       "      <td>0</td>\n",
       "      <td>2</td>\n",
       "      <td>380</td>\n",
       "      <td>0</td>\n",
       "      <td>1</td>\n",
       "      <td>0</td>\n",
       "      <td>5</td>\n",
       "      <td>6</td>\n",
       "      <td>438</td>\n",
       "      <td>2</td>\n",
       "      <td>-1</td>\n",
       "      <td>0.000000</td>\n",
       "      <td>3</td>\n",
       "      <td>1</td>\n",
       "    </tr>\n",
       "    <tr>\n",
       "      <th>31644</th>\n",
       "      <td>19710</td>\n",
       "      <td>32</td>\n",
       "      <td>4</td>\n",
       "      <td>2</td>\n",
       "      <td>2</td>\n",
       "      <td>312</td>\n",
       "      <td>0</td>\n",
       "      <td>0</td>\n",
       "      <td>0</td>\n",
       "      <td>7</td>\n",
       "      <td>1</td>\n",
       "      <td>37</td>\n",
       "      <td>3</td>\n",
       "      <td>-1</td>\n",
       "      <td>0.000000</td>\n",
       "      <td>3</td>\n",
       "      <td>0</td>\n",
       "    </tr>\n",
       "  </tbody>\n",
       "</table>\n",
       "<p>27321 rows × 17 columns</p>\n",
       "</div>"
      ],
      "text/plain": [
       "          ID  age  job  marital  education  balance  housing  loan  contact  \\\n",
       "0      26110   56    0        1          3     1933        0     0        1   \n",
       "1      40576   31   11        1          1        3        0     0        0   \n",
       "2      15320   27    7        1          1      891        1     0        0   \n",
       "3      43962   57    4        0          2     3287        0     0        0   \n",
       "4      29842   31    9        1          1      119        1     0        0   \n",
       "...      ...  ...  ...      ...        ...      ...      ...   ...      ...   \n",
       "31640  12109   43    4        2          1     2968        0     0        2   \n",
       "31641   9476   37    9        2          2     1309        0     0        2   \n",
       "31642  36483   29    4        2          2        0        1     0        0   \n",
       "31643  40178   53    4        0          2      380        0     1        0   \n",
       "31644  19710   32    4        2          2      312        0     0        0   \n",
       "\n",
       "       day  month  duration  campaign  pdays  previous  poutcome  subscribed  \n",
       "0       19      9        44         2     -1  0.000000         3           0  \n",
       "1       20      5        91         2     -1  0.000000         3           0  \n",
       "2       18      5       240         1     -1  0.000000         3           0  \n",
       "3       22      6       867         1     84  1.732051         2           1  \n",
       "4        4      3       380         1     -1  0.000000         3           0  \n",
       "...    ...    ...       ...       ...    ...       ...       ...         ...  \n",
       "31640   20      6        30         4     -1  0.000000         3           0  \n",
       "31641    6      6       442         2     -1  0.000000         3           0  \n",
       "31642   12      8       116         2     -1  0.000000         3           0  \n",
       "31643    5      6       438         2     -1  0.000000         3           1  \n",
       "31644    7      1        37         3     -1  0.000000         3           0  \n",
       "\n",
       "[27321 rows x 17 columns]"
      ]
     },
     "execution_count": 245,
     "metadata": {},
     "output_type": "execute_result"
    }
   ],
   "source": [
    "newdf"
   ]
  },
  {
   "cell_type": "code",
   "execution_count": 246,
   "id": "ee5d9b3c",
   "metadata": {},
   "outputs": [
    {
     "data": {
      "text/plain": [
       "0        0\n",
       "1        0\n",
       "2        0\n",
       "3        1\n",
       "4        0\n",
       "        ..\n",
       "31640    0\n",
       "31641    0\n",
       "31642    0\n",
       "31643    1\n",
       "31644    0\n",
       "Name: subscribed, Length: 27321, dtype: int32"
      ]
     },
     "execution_count": 246,
     "metadata": {},
     "output_type": "execute_result"
    }
   ],
   "source": [
    "y"
   ]
  },
  {
   "cell_type": "code",
   "execution_count": 247,
   "id": "1936a62c",
   "metadata": {},
   "outputs": [],
   "source": [
    "def vif_calculator():\n",
    "    vif=pd.DataFrame()\n",
    "    vif['vif']=[variance_inflation_factor(x.values,i) for i in range(x.shape[1])]\n",
    "    vif['columns']=x.columns\n",
    "    print(vif)"
   ]
  },
  {
   "cell_type": "code",
   "execution_count": 248,
   "id": "c6304c88",
   "metadata": {},
   "outputs": [
    {
     "name": "stdout",
     "output_type": "stream",
     "text": [
      "          vif    columns\n",
      "0    9.594448         ID\n",
      "1   16.820267        age\n",
      "2    2.846316        job\n",
      "3    5.293540    marital\n",
      "4    3.849084  education\n",
      "5    1.464659    balance\n",
      "6    2.565281    housing\n",
      "7    1.219691       loan\n",
      "8    3.959435    contact\n",
      "9    4.583519        day\n",
      "10   5.678842      month\n",
      "11   2.540694   duration\n",
      "12   2.727469   campaign\n",
      "13   4.862091      pdays\n",
      "14   5.604024   previous\n",
      "15  32.757468   poutcome\n"
     ]
    }
   ],
   "source": [
    "vif_calculator()"
   ]
  },
  {
   "cell_type": "code",
   "execution_count": 249,
   "id": "06c4f64f",
   "metadata": {},
   "outputs": [],
   "source": [
    "#df.drop(['poutcome'],axis=1,inplace=True)"
   ]
  },
  {
   "cell_type": "code",
   "execution_count": 250,
   "id": "362e321e",
   "metadata": {
    "scrolled": true
   },
   "outputs": [
    {
     "data": {
      "text/plain": [
       "Index(['ID', 'age', 'job', 'marital', 'education', 'default', 'balance',\n",
       "       'housing', 'loan', 'contact', 'day', 'month', 'duration', 'campaign',\n",
       "       'pdays', 'previous', 'poutcome', 'subscribed'],\n",
       "      dtype='object')"
      ]
     },
     "execution_count": 250,
     "metadata": {},
     "output_type": "execute_result"
    }
   ],
   "source": [
    "df.columns"
   ]
  },
  {
   "cell_type": "markdown",
   "id": "d5774b23",
   "metadata": {},
   "source": [
    "# Data cleansing and feature engineering"
   ]
  },
  {
   "cell_type": "markdown",
   "id": "87a42533",
   "metadata": {},
   "source": [
    "## standard scaling (normal distribution)"
   ]
  },
  {
   "cell_type": "code",
   "execution_count": 251,
   "id": "8a1c67af",
   "metadata": {},
   "outputs": [],
   "source": [
    "ss = StandardScaler()"
   ]
  },
  {
   "cell_type": "code",
   "execution_count": 252,
   "id": "98d750d4",
   "metadata": {},
   "outputs": [],
   "source": [
    "x=ss.fit_transform(x)"
   ]
  },
  {
   "cell_type": "code",
   "execution_count": 253,
   "id": "570d3eac",
   "metadata": {},
   "outputs": [
    {
     "data": {
      "text/plain": [
       "(27321, 16)"
      ]
     },
     "execution_count": 253,
     "metadata": {},
     "output_type": "execute_result"
    }
   ],
   "source": [
    "x.shape"
   ]
  },
  {
   "cell_type": "code",
   "execution_count": 254,
   "id": "e271712e",
   "metadata": {},
   "outputs": [
    {
     "data": {
      "text/html": [
       "<div>\n",
       "<style scoped>\n",
       "    .dataframe tbody tr th:only-of-type {\n",
       "        vertical-align: middle;\n",
       "    }\n",
       "\n",
       "    .dataframe tbody tr th {\n",
       "        vertical-align: top;\n",
       "    }\n",
       "\n",
       "    .dataframe thead th {\n",
       "        text-align: right;\n",
       "    }\n",
       "</style>\n",
       "<table border=\"1\" class=\"dataframe\">\n",
       "  <thead>\n",
       "    <tr style=\"text-align: right;\">\n",
       "      <th></th>\n",
       "      <th>ID</th>\n",
       "      <th>age</th>\n",
       "      <th>job</th>\n",
       "      <th>marital</th>\n",
       "      <th>education</th>\n",
       "      <th>balance</th>\n",
       "      <th>housing</th>\n",
       "      <th>loan</th>\n",
       "      <th>contact</th>\n",
       "      <th>day</th>\n",
       "      <th>month</th>\n",
       "      <th>duration</th>\n",
       "      <th>campaign</th>\n",
       "      <th>pdays</th>\n",
       "      <th>previous</th>\n",
       "      <th>poutcome</th>\n",
       "      <th>subscribed</th>\n",
       "    </tr>\n",
       "  </thead>\n",
       "  <tbody>\n",
       "    <tr>\n",
       "      <th>0</th>\n",
       "      <td>26110</td>\n",
       "      <td>56</td>\n",
       "      <td>0</td>\n",
       "      <td>1</td>\n",
       "      <td>3</td>\n",
       "      <td>1933</td>\n",
       "      <td>0</td>\n",
       "      <td>0</td>\n",
       "      <td>1</td>\n",
       "      <td>19</td>\n",
       "      <td>9</td>\n",
       "      <td>44</td>\n",
       "      <td>2</td>\n",
       "      <td>-1</td>\n",
       "      <td>0.000000</td>\n",
       "      <td>3</td>\n",
       "      <td>0</td>\n",
       "    </tr>\n",
       "    <tr>\n",
       "      <th>1</th>\n",
       "      <td>40576</td>\n",
       "      <td>31</td>\n",
       "      <td>11</td>\n",
       "      <td>1</td>\n",
       "      <td>1</td>\n",
       "      <td>3</td>\n",
       "      <td>0</td>\n",
       "      <td>0</td>\n",
       "      <td>0</td>\n",
       "      <td>20</td>\n",
       "      <td>5</td>\n",
       "      <td>91</td>\n",
       "      <td>2</td>\n",
       "      <td>-1</td>\n",
       "      <td>0.000000</td>\n",
       "      <td>3</td>\n",
       "      <td>0</td>\n",
       "    </tr>\n",
       "    <tr>\n",
       "      <th>2</th>\n",
       "      <td>15320</td>\n",
       "      <td>27</td>\n",
       "      <td>7</td>\n",
       "      <td>1</td>\n",
       "      <td>1</td>\n",
       "      <td>891</td>\n",
       "      <td>1</td>\n",
       "      <td>0</td>\n",
       "      <td>0</td>\n",
       "      <td>18</td>\n",
       "      <td>5</td>\n",
       "      <td>240</td>\n",
       "      <td>1</td>\n",
       "      <td>-1</td>\n",
       "      <td>0.000000</td>\n",
       "      <td>3</td>\n",
       "      <td>0</td>\n",
       "    </tr>\n",
       "    <tr>\n",
       "      <th>3</th>\n",
       "      <td>43962</td>\n",
       "      <td>57</td>\n",
       "      <td>4</td>\n",
       "      <td>0</td>\n",
       "      <td>2</td>\n",
       "      <td>3287</td>\n",
       "      <td>0</td>\n",
       "      <td>0</td>\n",
       "      <td>0</td>\n",
       "      <td>22</td>\n",
       "      <td>6</td>\n",
       "      <td>867</td>\n",
       "      <td>1</td>\n",
       "      <td>84</td>\n",
       "      <td>1.732051</td>\n",
       "      <td>2</td>\n",
       "      <td>1</td>\n",
       "    </tr>\n",
       "    <tr>\n",
       "      <th>4</th>\n",
       "      <td>29842</td>\n",
       "      <td>31</td>\n",
       "      <td>9</td>\n",
       "      <td>1</td>\n",
       "      <td>1</td>\n",
       "      <td>119</td>\n",
       "      <td>1</td>\n",
       "      <td>0</td>\n",
       "      <td>0</td>\n",
       "      <td>4</td>\n",
       "      <td>3</td>\n",
       "      <td>380</td>\n",
       "      <td>1</td>\n",
       "      <td>-1</td>\n",
       "      <td>0.000000</td>\n",
       "      <td>3</td>\n",
       "      <td>0</td>\n",
       "    </tr>\n",
       "  </tbody>\n",
       "</table>\n",
       "</div>"
      ],
      "text/plain": [
       "      ID  age  job  marital  education  balance  housing  loan  contact  day  \\\n",
       "0  26110   56    0        1          3     1933        0     0        1   19   \n",
       "1  40576   31   11        1          1        3        0     0        0   20   \n",
       "2  15320   27    7        1          1      891        1     0        0   18   \n",
       "3  43962   57    4        0          2     3287        0     0        0   22   \n",
       "4  29842   31    9        1          1      119        1     0        0    4   \n",
       "\n",
       "   month  duration  campaign  pdays  previous  poutcome  subscribed  \n",
       "0      9        44         2     -1  0.000000         3           0  \n",
       "1      5        91         2     -1  0.000000         3           0  \n",
       "2      5       240         1     -1  0.000000         3           0  \n",
       "3      6       867         1     84  1.732051         2           1  \n",
       "4      3       380         1     -1  0.000000         3           0  "
      ]
     },
     "execution_count": 254,
     "metadata": {},
     "output_type": "execute_result"
    }
   ],
   "source": [
    "newdf.head()"
   ]
  },
  {
   "cell_type": "markdown",
   "id": "622782a8",
   "metadata": {},
   "source": [
    "## smote (balancing data)"
   ]
  },
  {
   "cell_type": "code",
   "execution_count": 255,
   "id": "c4f43ff6",
   "metadata": {},
   "outputs": [],
   "source": [
    "SMT = SMOTE()"
   ]
  },
  {
   "cell_type": "code",
   "execution_count": 256,
   "id": "5b090622",
   "metadata": {},
   "outputs": [
    {
     "data": {
      "text/plain": [
       "(27321, 16)"
      ]
     },
     "execution_count": 256,
     "metadata": {},
     "output_type": "execute_result"
    }
   ],
   "source": [
    "x.shape"
   ]
  },
  {
   "cell_type": "code",
   "execution_count": 257,
   "id": "36ca7088",
   "metadata": {
    "scrolled": true
   },
   "outputs": [
    {
     "data": {
      "text/plain": [
       "(27321,)"
      ]
     },
     "execution_count": 257,
     "metadata": {},
     "output_type": "execute_result"
    }
   ],
   "source": [
    "y.shape"
   ]
  },
  {
   "cell_type": "code",
   "execution_count": 258,
   "id": "1bf3cdb0",
   "metadata": {},
   "outputs": [
    {
     "data": {
      "text/plain": [
       "0        0\n",
       "1        0\n",
       "2        0\n",
       "3        1\n",
       "4        0\n",
       "        ..\n",
       "31640    0\n",
       "31641    0\n",
       "31642    0\n",
       "31643    1\n",
       "31644    0\n",
       "Name: subscribed, Length: 27321, dtype: int32"
      ]
     },
     "execution_count": 258,
     "metadata": {},
     "output_type": "execute_result"
    }
   ],
   "source": [
    "y"
   ]
  },
  {
   "cell_type": "code",
   "execution_count": 259,
   "id": "f569bd51",
   "metadata": {
    "scrolled": false
   },
   "outputs": [],
   "source": [
    "new_x,new_y=SMT.fit_resample(x,y)"
   ]
  },
  {
   "cell_type": "code",
   "execution_count": 260,
   "id": "61347519",
   "metadata": {},
   "outputs": [
    {
     "data": {
      "text/plain": [
       "0    24585\n",
       "1    24585\n",
       "Name: subscribed, dtype: int64"
      ]
     },
     "execution_count": 260,
     "metadata": {},
     "output_type": "execute_result"
    }
   ],
   "source": [
    "new_y.value_counts()"
   ]
  },
  {
   "cell_type": "markdown",
   "id": "70378e93",
   "metadata": {},
   "source": [
    "## Training testing"
   ]
  },
  {
   "cell_type": "code",
   "execution_count": 281,
   "id": "37320f76",
   "metadata": {},
   "outputs": [],
   "source": [
    "x_train,x_test,y_train,y_test=train_test_split(x,y,test_size=.20,random_state=80)"
   ]
  },
  {
   "cell_type": "code",
   "execution_count": 262,
   "id": "2ffc5e14",
   "metadata": {},
   "outputs": [],
   "source": [
    "knn= KNeighborsClassifier()\n",
    "dtc= DecisionTreeClassifier()\n",
    "svc = SVC()\n",
    "RFC=RandomForestClassifier()\n",
    "GBC=GradientBoostingClassifier()\n",
    "ABC=AdaBoostClassifier()"
   ]
  },
  {
   "cell_type": "code",
   "execution_count": 263,
   "id": "ec242f06",
   "metadata": {},
   "outputs": [
    {
     "data": {
      "text/html": [
       "<style>#sk-container-id-1 {color: black;background-color: white;}#sk-container-id-1 pre{padding: 0;}#sk-container-id-1 div.sk-toggleable {background-color: white;}#sk-container-id-1 label.sk-toggleable__label {cursor: pointer;display: block;width: 100%;margin-bottom: 0;padding: 0.3em;box-sizing: border-box;text-align: center;}#sk-container-id-1 label.sk-toggleable__label-arrow:before {content: \"▸\";float: left;margin-right: 0.25em;color: #696969;}#sk-container-id-1 label.sk-toggleable__label-arrow:hover:before {color: black;}#sk-container-id-1 div.sk-estimator:hover label.sk-toggleable__label-arrow:before {color: black;}#sk-container-id-1 div.sk-toggleable__content {max-height: 0;max-width: 0;overflow: hidden;text-align: left;background-color: #f0f8ff;}#sk-container-id-1 div.sk-toggleable__content pre {margin: 0.2em;color: black;border-radius: 0.25em;background-color: #f0f8ff;}#sk-container-id-1 input.sk-toggleable__control:checked~div.sk-toggleable__content {max-height: 200px;max-width: 100%;overflow: auto;}#sk-container-id-1 input.sk-toggleable__control:checked~label.sk-toggleable__label-arrow:before {content: \"▾\";}#sk-container-id-1 div.sk-estimator input.sk-toggleable__control:checked~label.sk-toggleable__label {background-color: #d4ebff;}#sk-container-id-1 div.sk-label input.sk-toggleable__control:checked~label.sk-toggleable__label {background-color: #d4ebff;}#sk-container-id-1 input.sk-hidden--visually {border: 0;clip: rect(1px 1px 1px 1px);clip: rect(1px, 1px, 1px, 1px);height: 1px;margin: -1px;overflow: hidden;padding: 0;position: absolute;width: 1px;}#sk-container-id-1 div.sk-estimator {font-family: monospace;background-color: #f0f8ff;border: 1px dotted black;border-radius: 0.25em;box-sizing: border-box;margin-bottom: 0.5em;}#sk-container-id-1 div.sk-estimator:hover {background-color: #d4ebff;}#sk-container-id-1 div.sk-parallel-item::after {content: \"\";width: 100%;border-bottom: 1px solid gray;flex-grow: 1;}#sk-container-id-1 div.sk-label:hover label.sk-toggleable__label {background-color: #d4ebff;}#sk-container-id-1 div.sk-serial::before {content: \"\";position: absolute;border-left: 1px solid gray;box-sizing: border-box;top: 0;bottom: 0;left: 50%;z-index: 0;}#sk-container-id-1 div.sk-serial {display: flex;flex-direction: column;align-items: center;background-color: white;padding-right: 0.2em;padding-left: 0.2em;position: relative;}#sk-container-id-1 div.sk-item {position: relative;z-index: 1;}#sk-container-id-1 div.sk-parallel {display: flex;align-items: stretch;justify-content: center;background-color: white;position: relative;}#sk-container-id-1 div.sk-item::before, #sk-container-id-1 div.sk-parallel-item::before {content: \"\";position: absolute;border-left: 1px solid gray;box-sizing: border-box;top: 0;bottom: 0;left: 50%;z-index: -1;}#sk-container-id-1 div.sk-parallel-item {display: flex;flex-direction: column;z-index: 1;position: relative;background-color: white;}#sk-container-id-1 div.sk-parallel-item:first-child::after {align-self: flex-end;width: 50%;}#sk-container-id-1 div.sk-parallel-item:last-child::after {align-self: flex-start;width: 50%;}#sk-container-id-1 div.sk-parallel-item:only-child::after {width: 0;}#sk-container-id-1 div.sk-dashed-wrapped {border: 1px dashed gray;margin: 0 0.4em 0.5em 0.4em;box-sizing: border-box;padding-bottom: 0.4em;background-color: white;}#sk-container-id-1 div.sk-label label {font-family: monospace;font-weight: bold;display: inline-block;line-height: 1.2em;}#sk-container-id-1 div.sk-label-container {text-align: center;}#sk-container-id-1 div.sk-container {/* jupyter's `normalize.less` sets `[hidden] { display: none; }` but bootstrap.min.css set `[hidden] { display: none !important; }` so we also need the `!important` here to be able to override the default hidden behavior on the sphinx rendered scikit-learn.org. See: https://github.com/scikit-learn/scikit-learn/issues/21755 */display: inline-block !important;position: relative;}#sk-container-id-1 div.sk-text-repr-fallback {display: none;}</style><div id=\"sk-container-id-1\" class=\"sk-top-container\"><div class=\"sk-text-repr-fallback\"><pre>VotingClassifier(estimators=[KNeighborsClassifier(), DecisionTreeClassifier(),\n",
       "                             SVC(), RandomForestClassifier(),\n",
       "                             GradientBoostingClassifier(),\n",
       "                             AdaBoostClassifier()])</pre><b>In a Jupyter environment, please rerun this cell to show the HTML representation or trust the notebook. <br />On GitHub, the HTML representation is unable to render, please try loading this page with nbviewer.org.</b></div><div class=\"sk-container\" hidden><div class=\"sk-item\"><div class=\"sk-estimator sk-toggleable\"><input class=\"sk-toggleable__control sk-hidden--visually\" id=\"sk-estimator-id-1\" type=\"checkbox\" checked><label for=\"sk-estimator-id-1\" class=\"sk-toggleable__label sk-toggleable__label-arrow\">VotingClassifier</label><div class=\"sk-toggleable__content\"><pre>VotingClassifier(estimators=[KNeighborsClassifier(), DecisionTreeClassifier(),\n",
       "                             SVC(), RandomForestClassifier(),\n",
       "                             GradientBoostingClassifier(),\n",
       "                             AdaBoostClassifier()])</pre></div></div></div></div></div>"
      ],
      "text/plain": [
       "VotingClassifier(estimators=[KNeighborsClassifier(), DecisionTreeClassifier(),\n",
       "                             SVC(), RandomForestClassifier(),\n",
       "                             GradientBoostingClassifier(),\n",
       "                             AdaBoostClassifier()])"
      ]
     },
     "execution_count": 263,
     "metadata": {},
     "output_type": "execute_result"
    }
   ],
   "source": [
    "estimators=[knn,dtc,svc,RFC,GBC,ABC]\n",
    "VotingClassifier(estimators=estimators)"
   ]
  },
  {
   "cell_type": "code",
   "execution_count": 264,
   "id": "cb41d7c9",
   "metadata": {},
   "outputs": [],
   "source": [
    "models = [dtc,svc,knn,RFC,GBC,ABC]"
   ]
  },
  {
   "cell_type": "code",
   "execution_count": 265,
   "id": "61d56f1f",
   "metadata": {
    "scrolled": true
   },
   "outputs": [
    {
     "name": "stdout",
     "output_type": "stream",
     "text": [
      "cross_val_score of  DecisionTreeClassifier() [0.89031621 0.89624506 0.89920949 0.89920949 0.90744401 0.8955863\n",
      " 0.89555189 0.89950577 0.89028007]\n",
      "mean cross_val_score DecisionTreeClassifier() 0.8976609805526071\n",
      "\n",
      "\n",
      "cross_val_score of  SVC() [0.91798419 0.91699605 0.914361   0.91106719 0.91831357 0.90974967\n",
      " 0.91334432 0.91894563 0.91466227]\n",
      "mean cross_val_score SVC() 0.9150470997007779\n",
      "\n",
      "\n",
      "cross_val_score of  KNeighborsClassifier() [0.90184453 0.90876153 0.90645586 0.90250329 0.90909091 0.90349144\n",
      " 0.90807249 0.90741351 0.9107084 ]\n",
      "mean cross_val_score KNeighborsClassifier() 0.9064824401404875\n",
      "\n",
      "\n",
      "cross_val_score of  RandomForestClassifier() [0.91732543 0.92555995 0.92094862 0.92424242 0.92918314 0.914361\n",
      " 0.92355848 0.9199341  0.92224053]\n",
      "mean cross_val_score RandomForestClassifier() 0.9226235687341625\n",
      "\n",
      "\n",
      "cross_val_score of  GradientBoostingClassifier() [0.92160738 0.92226614 0.92391304 0.91963109 0.93017128 0.91600791\n",
      " 0.923229   0.91828666 0.92158155]\n",
      "mean cross_val_score GradientBoostingClassifier() 0.921818295169058\n",
      "\n",
      "\n",
      "cross_val_score of  AdaBoostClassifier() [0.91732543 0.90612648 0.91205534 0.90876153 0.91864295 0.90777339\n",
      " 0.91532125 0.91894563 0.91499176]\n",
      "mean cross_val_score AdaBoostClassifier() 0.9133270845648183\n",
      "\n",
      "\n"
     ]
    }
   ],
   "source": [
    "for i in models:\n",
    "    i.fit(x_train,y_train)\n",
    "    models_pred=i.predict(x_test)\n",
    "    print('cross_val_score of ',i,cross_val_score(i, x, y, cv=9))\n",
    "    print('mean cross_val_score',i,cross_val_score(i, x, y, cv=9).mean())\n",
    "    print('\\n')"
   ]
  },
  {
   "cell_type": "code",
   "execution_count": 272,
   "id": "b81e299c",
   "metadata": {},
   "outputs": [],
   "source": [
    "lg= LogisticRegression()"
   ]
  },
  {
   "cell_type": "code",
   "execution_count": 274,
   "id": "31c8cffb",
   "metadata": {},
   "outputs": [
    {
     "data": {
      "text/html": [
       "<style>#sk-container-id-2 {color: black;background-color: white;}#sk-container-id-2 pre{padding: 0;}#sk-container-id-2 div.sk-toggleable {background-color: white;}#sk-container-id-2 label.sk-toggleable__label {cursor: pointer;display: block;width: 100%;margin-bottom: 0;padding: 0.3em;box-sizing: border-box;text-align: center;}#sk-container-id-2 label.sk-toggleable__label-arrow:before {content: \"▸\";float: left;margin-right: 0.25em;color: #696969;}#sk-container-id-2 label.sk-toggleable__label-arrow:hover:before {color: black;}#sk-container-id-2 div.sk-estimator:hover label.sk-toggleable__label-arrow:before {color: black;}#sk-container-id-2 div.sk-toggleable__content {max-height: 0;max-width: 0;overflow: hidden;text-align: left;background-color: #f0f8ff;}#sk-container-id-2 div.sk-toggleable__content pre {margin: 0.2em;color: black;border-radius: 0.25em;background-color: #f0f8ff;}#sk-container-id-2 input.sk-toggleable__control:checked~div.sk-toggleable__content {max-height: 200px;max-width: 100%;overflow: auto;}#sk-container-id-2 input.sk-toggleable__control:checked~label.sk-toggleable__label-arrow:before {content: \"▾\";}#sk-container-id-2 div.sk-estimator input.sk-toggleable__control:checked~label.sk-toggleable__label {background-color: #d4ebff;}#sk-container-id-2 div.sk-label input.sk-toggleable__control:checked~label.sk-toggleable__label {background-color: #d4ebff;}#sk-container-id-2 input.sk-hidden--visually {border: 0;clip: rect(1px 1px 1px 1px);clip: rect(1px, 1px, 1px, 1px);height: 1px;margin: -1px;overflow: hidden;padding: 0;position: absolute;width: 1px;}#sk-container-id-2 div.sk-estimator {font-family: monospace;background-color: #f0f8ff;border: 1px dotted black;border-radius: 0.25em;box-sizing: border-box;margin-bottom: 0.5em;}#sk-container-id-2 div.sk-estimator:hover {background-color: #d4ebff;}#sk-container-id-2 div.sk-parallel-item::after {content: \"\";width: 100%;border-bottom: 1px solid gray;flex-grow: 1;}#sk-container-id-2 div.sk-label:hover label.sk-toggleable__label {background-color: #d4ebff;}#sk-container-id-2 div.sk-serial::before {content: \"\";position: absolute;border-left: 1px solid gray;box-sizing: border-box;top: 0;bottom: 0;left: 50%;z-index: 0;}#sk-container-id-2 div.sk-serial {display: flex;flex-direction: column;align-items: center;background-color: white;padding-right: 0.2em;padding-left: 0.2em;position: relative;}#sk-container-id-2 div.sk-item {position: relative;z-index: 1;}#sk-container-id-2 div.sk-parallel {display: flex;align-items: stretch;justify-content: center;background-color: white;position: relative;}#sk-container-id-2 div.sk-item::before, #sk-container-id-2 div.sk-parallel-item::before {content: \"\";position: absolute;border-left: 1px solid gray;box-sizing: border-box;top: 0;bottom: 0;left: 50%;z-index: -1;}#sk-container-id-2 div.sk-parallel-item {display: flex;flex-direction: column;z-index: 1;position: relative;background-color: white;}#sk-container-id-2 div.sk-parallel-item:first-child::after {align-self: flex-end;width: 50%;}#sk-container-id-2 div.sk-parallel-item:last-child::after {align-self: flex-start;width: 50%;}#sk-container-id-2 div.sk-parallel-item:only-child::after {width: 0;}#sk-container-id-2 div.sk-dashed-wrapped {border: 1px dashed gray;margin: 0 0.4em 0.5em 0.4em;box-sizing: border-box;padding-bottom: 0.4em;background-color: white;}#sk-container-id-2 div.sk-label label {font-family: monospace;font-weight: bold;display: inline-block;line-height: 1.2em;}#sk-container-id-2 div.sk-label-container {text-align: center;}#sk-container-id-2 div.sk-container {/* jupyter's `normalize.less` sets `[hidden] { display: none; }` but bootstrap.min.css set `[hidden] { display: none !important; }` so we also need the `!important` here to be able to override the default hidden behavior on the sphinx rendered scikit-learn.org. See: https://github.com/scikit-learn/scikit-learn/issues/21755 */display: inline-block !important;position: relative;}#sk-container-id-2 div.sk-text-repr-fallback {display: none;}</style><div id=\"sk-container-id-2\" class=\"sk-top-container\"><div class=\"sk-text-repr-fallback\"><pre>LogisticRegression()</pre><b>In a Jupyter environment, please rerun this cell to show the HTML representation or trust the notebook. <br />On GitHub, the HTML representation is unable to render, please try loading this page with nbviewer.org.</b></div><div class=\"sk-container\" hidden><div class=\"sk-item\"><div class=\"sk-estimator sk-toggleable\"><input class=\"sk-toggleable__control sk-hidden--visually\" id=\"sk-estimator-id-2\" type=\"checkbox\" checked><label for=\"sk-estimator-id-2\" class=\"sk-toggleable__label sk-toggleable__label-arrow\">LogisticRegression</label><div class=\"sk-toggleable__content\"><pre>LogisticRegression()</pre></div></div></div></div></div>"
      ],
      "text/plain": [
       "LogisticRegression()"
      ]
     },
     "execution_count": 274,
     "metadata": {},
     "output_type": "execute_result"
    }
   ],
   "source": [
    "lg.fit(x_train,y_train)"
   ]
  },
  {
   "cell_type": "code",
   "execution_count": 282,
   "id": "cbc7842c",
   "metadata": {},
   "outputs": [],
   "source": [
    "y_pred = lg.predict(x_test)"
   ]
  },
  {
   "cell_type": "code",
   "execution_count": 283,
   "id": "18ed98cd",
   "metadata": {
    "scrolled": true
   },
   "outputs": [],
   "source": [
    "accuracy = accuracy_score(y_test, y_pred)"
   ]
  },
  {
   "cell_type": "code",
   "execution_count": 284,
   "id": "b9470f83",
   "metadata": {},
   "outputs": [
    {
     "data": {
      "text/plain": [
       "0.9189387008234218"
      ]
     },
     "execution_count": 284,
     "metadata": {},
     "output_type": "execute_result"
    }
   ],
   "source": [
    "accuracy"
   ]
  },
  {
   "cell_type": "code",
   "execution_count": 268,
   "id": "620a5214",
   "metadata": {},
   "outputs": [],
   "source": [
    "vc = VotingClassifier(estimators)"
   ]
  },
  {
   "cell_type": "code",
   "execution_count": 286,
   "id": "0b72e33e",
   "metadata": {
    "scrolled": true
   },
   "outputs": [],
   "source": [
    "estimators = [('log_reg', lg), ('dt', dtc), ('rf', RFC), ('svm', svc)]"
   ]
  },
  {
   "cell_type": "code",
   "execution_count": 289,
   "id": "36fa62a1",
   "metadata": {},
   "outputs": [],
   "source": [
    "vc = VotingClassifier(estimators, voting='soft')"
   ]
  },
  {
   "cell_type": "code",
   "execution_count": 290,
   "id": "949a67f3",
   "metadata": {},
   "outputs": [
    {
     "data": {
      "text/html": [
       "<style>#sk-container-id-3 {color: black;background-color: white;}#sk-container-id-3 pre{padding: 0;}#sk-container-id-3 div.sk-toggleable {background-color: white;}#sk-container-id-3 label.sk-toggleable__label {cursor: pointer;display: block;width: 100%;margin-bottom: 0;padding: 0.3em;box-sizing: border-box;text-align: center;}#sk-container-id-3 label.sk-toggleable__label-arrow:before {content: \"▸\";float: left;margin-right: 0.25em;color: #696969;}#sk-container-id-3 label.sk-toggleable__label-arrow:hover:before {color: black;}#sk-container-id-3 div.sk-estimator:hover label.sk-toggleable__label-arrow:before {color: black;}#sk-container-id-3 div.sk-toggleable__content {max-height: 0;max-width: 0;overflow: hidden;text-align: left;background-color: #f0f8ff;}#sk-container-id-3 div.sk-toggleable__content pre {margin: 0.2em;color: black;border-radius: 0.25em;background-color: #f0f8ff;}#sk-container-id-3 input.sk-toggleable__control:checked~div.sk-toggleable__content {max-height: 200px;max-width: 100%;overflow: auto;}#sk-container-id-3 input.sk-toggleable__control:checked~label.sk-toggleable__label-arrow:before {content: \"▾\";}#sk-container-id-3 div.sk-estimator input.sk-toggleable__control:checked~label.sk-toggleable__label {background-color: #d4ebff;}#sk-container-id-3 div.sk-label input.sk-toggleable__control:checked~label.sk-toggleable__label {background-color: #d4ebff;}#sk-container-id-3 input.sk-hidden--visually {border: 0;clip: rect(1px 1px 1px 1px);clip: rect(1px, 1px, 1px, 1px);height: 1px;margin: -1px;overflow: hidden;padding: 0;position: absolute;width: 1px;}#sk-container-id-3 div.sk-estimator {font-family: monospace;background-color: #f0f8ff;border: 1px dotted black;border-radius: 0.25em;box-sizing: border-box;margin-bottom: 0.5em;}#sk-container-id-3 div.sk-estimator:hover {background-color: #d4ebff;}#sk-container-id-3 div.sk-parallel-item::after {content: \"\";width: 100%;border-bottom: 1px solid gray;flex-grow: 1;}#sk-container-id-3 div.sk-label:hover label.sk-toggleable__label {background-color: #d4ebff;}#sk-container-id-3 div.sk-serial::before {content: \"\";position: absolute;border-left: 1px solid gray;box-sizing: border-box;top: 0;bottom: 0;left: 50%;z-index: 0;}#sk-container-id-3 div.sk-serial {display: flex;flex-direction: column;align-items: center;background-color: white;padding-right: 0.2em;padding-left: 0.2em;position: relative;}#sk-container-id-3 div.sk-item {position: relative;z-index: 1;}#sk-container-id-3 div.sk-parallel {display: flex;align-items: stretch;justify-content: center;background-color: white;position: relative;}#sk-container-id-3 div.sk-item::before, #sk-container-id-3 div.sk-parallel-item::before {content: \"\";position: absolute;border-left: 1px solid gray;box-sizing: border-box;top: 0;bottom: 0;left: 50%;z-index: -1;}#sk-container-id-3 div.sk-parallel-item {display: flex;flex-direction: column;z-index: 1;position: relative;background-color: white;}#sk-container-id-3 div.sk-parallel-item:first-child::after {align-self: flex-end;width: 50%;}#sk-container-id-3 div.sk-parallel-item:last-child::after {align-self: flex-start;width: 50%;}#sk-container-id-3 div.sk-parallel-item:only-child::after {width: 0;}#sk-container-id-3 div.sk-dashed-wrapped {border: 1px dashed gray;margin: 0 0.4em 0.5em 0.4em;box-sizing: border-box;padding-bottom: 0.4em;background-color: white;}#sk-container-id-3 div.sk-label label {font-family: monospace;font-weight: bold;display: inline-block;line-height: 1.2em;}#sk-container-id-3 div.sk-label-container {text-align: center;}#sk-container-id-3 div.sk-container {/* jupyter's `normalize.less` sets `[hidden] { display: none; }` but bootstrap.min.css set `[hidden] { display: none !important; }` so we also need the `!important` here to be able to override the default hidden behavior on the sphinx rendered scikit-learn.org. See: https://github.com/scikit-learn/scikit-learn/issues/21755 */display: inline-block !important;position: relative;}#sk-container-id-3 div.sk-text-repr-fallback {display: none;}</style><div id=\"sk-container-id-3\" class=\"sk-top-container\"><div class=\"sk-text-repr-fallback\"><pre>VotingClassifier(estimators=[(&#x27;log_reg&#x27;, LogisticRegression()),\n",
       "                             (&#x27;dt&#x27;, DecisionTreeClassifier()),\n",
       "                             (&#x27;rf&#x27;, RandomForestClassifier()), (&#x27;svm&#x27;, SVC())],\n",
       "                 voting=&#x27;soft&#x27;)</pre><b>In a Jupyter environment, please rerun this cell to show the HTML representation or trust the notebook. <br />On GitHub, the HTML representation is unable to render, please try loading this page with nbviewer.org.</b></div><div class=\"sk-container\" hidden><div class=\"sk-item sk-dashed-wrapped\"><div class=\"sk-label-container\"><div class=\"sk-label sk-toggleable\"><input class=\"sk-toggleable__control sk-hidden--visually\" id=\"sk-estimator-id-3\" type=\"checkbox\" ><label for=\"sk-estimator-id-3\" class=\"sk-toggleable__label sk-toggleable__label-arrow\">VotingClassifier</label><div class=\"sk-toggleable__content\"><pre>VotingClassifier(estimators=[(&#x27;log_reg&#x27;, LogisticRegression()),\n",
       "                             (&#x27;dt&#x27;, DecisionTreeClassifier()),\n",
       "                             (&#x27;rf&#x27;, RandomForestClassifier()), (&#x27;svm&#x27;, SVC())],\n",
       "                 voting=&#x27;soft&#x27;)</pre></div></div></div><div class=\"sk-parallel\"><div class=\"sk-parallel-item\"><div class=\"sk-item\"><div class=\"sk-label-container\"><div class=\"sk-label sk-toggleable\"><label>log_reg</label></div></div><div class=\"sk-serial\"><div class=\"sk-item\"><div class=\"sk-estimator sk-toggleable\"><input class=\"sk-toggleable__control sk-hidden--visually\" id=\"sk-estimator-id-4\" type=\"checkbox\" ><label for=\"sk-estimator-id-4\" class=\"sk-toggleable__label sk-toggleable__label-arrow\">LogisticRegression</label><div class=\"sk-toggleable__content\"><pre>LogisticRegression()</pre></div></div></div></div></div></div><div class=\"sk-parallel-item\"><div class=\"sk-item\"><div class=\"sk-label-container\"><div class=\"sk-label sk-toggleable\"><label>dt</label></div></div><div class=\"sk-serial\"><div class=\"sk-item\"><div class=\"sk-estimator sk-toggleable\"><input class=\"sk-toggleable__control sk-hidden--visually\" id=\"sk-estimator-id-5\" type=\"checkbox\" ><label for=\"sk-estimator-id-5\" class=\"sk-toggleable__label sk-toggleable__label-arrow\">DecisionTreeClassifier</label><div class=\"sk-toggleable__content\"><pre>DecisionTreeClassifier()</pre></div></div></div></div></div></div><div class=\"sk-parallel-item\"><div class=\"sk-item\"><div class=\"sk-label-container\"><div class=\"sk-label sk-toggleable\"><label>rf</label></div></div><div class=\"sk-serial\"><div class=\"sk-item\"><div class=\"sk-estimator sk-toggleable\"><input class=\"sk-toggleable__control sk-hidden--visually\" id=\"sk-estimator-id-6\" type=\"checkbox\" ><label for=\"sk-estimator-id-6\" class=\"sk-toggleable__label sk-toggleable__label-arrow\">RandomForestClassifier</label><div class=\"sk-toggleable__content\"><pre>RandomForestClassifier()</pre></div></div></div></div></div></div><div class=\"sk-parallel-item\"><div class=\"sk-item\"><div class=\"sk-label-container\"><div class=\"sk-label sk-toggleable\"><label>svm</label></div></div><div class=\"sk-serial\"><div class=\"sk-item\"><div class=\"sk-estimator sk-toggleable\"><input class=\"sk-toggleable__control sk-hidden--visually\" id=\"sk-estimator-id-7\" type=\"checkbox\" ><label for=\"sk-estimator-id-7\" class=\"sk-toggleable__label sk-toggleable__label-arrow\">SVC</label><div class=\"sk-toggleable__content\"><pre>SVC()</pre></div></div></div></div></div></div></div></div></div></div>"
      ],
      "text/plain": [
       "VotingClassifier(estimators=[('log_reg', LogisticRegression()),\n",
       "                             ('dt', DecisionTreeClassifier()),\n",
       "                             ('rf', RandomForestClassifier()), ('svm', SVC())],\n",
       "                 voting='soft')"
      ]
     },
     "execution_count": 290,
     "metadata": {},
     "output_type": "execute_result"
    }
   ],
   "source": [
    "vc.fit(x_train,y_train)"
   ]
  },
  {
   "cell_type": "code",
   "execution_count": 291,
   "id": "409aff61",
   "metadata": {},
   "outputs": [
    {
     "data": {
      "text/plain": [
       "0.9189387008234218"
      ]
     },
     "execution_count": 291,
     "metadata": {},
     "output_type": "execute_result"
    }
   ],
   "source": [
    "accuracy_score(y_test, y_pred)"
   ]
  },
  {
   "cell_type": "markdown",
   "id": "f9b3b688",
   "metadata": {},
   "source": [
    "## Hyperparameter tuning"
   ]
  },
  {
   "cell_type": "code",
   "execution_count": 292,
   "id": "75601551",
   "metadata": {},
   "outputs": [],
   "source": [
    "svc_parameters= {'kernel': ['linear','rbf']}"
   ]
  },
  {
   "cell_type": "code",
   "execution_count": 293,
   "id": "76f295df",
   "metadata": {},
   "outputs": [],
   "source": [
    "gscv = GridSearchCV(svc,svc_parameters)"
   ]
  },
  {
   "cell_type": "code",
   "execution_count": 294,
   "id": "4c1f7be0",
   "metadata": {},
   "outputs": [
    {
     "data": {
      "text/html": [
       "<style>#sk-container-id-4 {color: black;background-color: white;}#sk-container-id-4 pre{padding: 0;}#sk-container-id-4 div.sk-toggleable {background-color: white;}#sk-container-id-4 label.sk-toggleable__label {cursor: pointer;display: block;width: 100%;margin-bottom: 0;padding: 0.3em;box-sizing: border-box;text-align: center;}#sk-container-id-4 label.sk-toggleable__label-arrow:before {content: \"▸\";float: left;margin-right: 0.25em;color: #696969;}#sk-container-id-4 label.sk-toggleable__label-arrow:hover:before {color: black;}#sk-container-id-4 div.sk-estimator:hover label.sk-toggleable__label-arrow:before {color: black;}#sk-container-id-4 div.sk-toggleable__content {max-height: 0;max-width: 0;overflow: hidden;text-align: left;background-color: #f0f8ff;}#sk-container-id-4 div.sk-toggleable__content pre {margin: 0.2em;color: black;border-radius: 0.25em;background-color: #f0f8ff;}#sk-container-id-4 input.sk-toggleable__control:checked~div.sk-toggleable__content {max-height: 200px;max-width: 100%;overflow: auto;}#sk-container-id-4 input.sk-toggleable__control:checked~label.sk-toggleable__label-arrow:before {content: \"▾\";}#sk-container-id-4 div.sk-estimator input.sk-toggleable__control:checked~label.sk-toggleable__label {background-color: #d4ebff;}#sk-container-id-4 div.sk-label input.sk-toggleable__control:checked~label.sk-toggleable__label {background-color: #d4ebff;}#sk-container-id-4 input.sk-hidden--visually {border: 0;clip: rect(1px 1px 1px 1px);clip: rect(1px, 1px, 1px, 1px);height: 1px;margin: -1px;overflow: hidden;padding: 0;position: absolute;width: 1px;}#sk-container-id-4 div.sk-estimator {font-family: monospace;background-color: #f0f8ff;border: 1px dotted black;border-radius: 0.25em;box-sizing: border-box;margin-bottom: 0.5em;}#sk-container-id-4 div.sk-estimator:hover {background-color: #d4ebff;}#sk-container-id-4 div.sk-parallel-item::after {content: \"\";width: 100%;border-bottom: 1px solid gray;flex-grow: 1;}#sk-container-id-4 div.sk-label:hover label.sk-toggleable__label {background-color: #d4ebff;}#sk-container-id-4 div.sk-serial::before {content: \"\";position: absolute;border-left: 1px solid gray;box-sizing: border-box;top: 0;bottom: 0;left: 50%;z-index: 0;}#sk-container-id-4 div.sk-serial {display: flex;flex-direction: column;align-items: center;background-color: white;padding-right: 0.2em;padding-left: 0.2em;position: relative;}#sk-container-id-4 div.sk-item {position: relative;z-index: 1;}#sk-container-id-4 div.sk-parallel {display: flex;align-items: stretch;justify-content: center;background-color: white;position: relative;}#sk-container-id-4 div.sk-item::before, #sk-container-id-4 div.sk-parallel-item::before {content: \"\";position: absolute;border-left: 1px solid gray;box-sizing: border-box;top: 0;bottom: 0;left: 50%;z-index: -1;}#sk-container-id-4 div.sk-parallel-item {display: flex;flex-direction: column;z-index: 1;position: relative;background-color: white;}#sk-container-id-4 div.sk-parallel-item:first-child::after {align-self: flex-end;width: 50%;}#sk-container-id-4 div.sk-parallel-item:last-child::after {align-self: flex-start;width: 50%;}#sk-container-id-4 div.sk-parallel-item:only-child::after {width: 0;}#sk-container-id-4 div.sk-dashed-wrapped {border: 1px dashed gray;margin: 0 0.4em 0.5em 0.4em;box-sizing: border-box;padding-bottom: 0.4em;background-color: white;}#sk-container-id-4 div.sk-label label {font-family: monospace;font-weight: bold;display: inline-block;line-height: 1.2em;}#sk-container-id-4 div.sk-label-container {text-align: center;}#sk-container-id-4 div.sk-container {/* jupyter's `normalize.less` sets `[hidden] { display: none; }` but bootstrap.min.css set `[hidden] { display: none !important; }` so we also need the `!important` here to be able to override the default hidden behavior on the sphinx rendered scikit-learn.org. See: https://github.com/scikit-learn/scikit-learn/issues/21755 */display: inline-block !important;position: relative;}#sk-container-id-4 div.sk-text-repr-fallback {display: none;}</style><div id=\"sk-container-id-4\" class=\"sk-top-container\"><div class=\"sk-text-repr-fallback\"><pre>GridSearchCV(estimator=SVC(), param_grid={&#x27;kernel&#x27;: [&#x27;linear&#x27;, &#x27;rbf&#x27;]})</pre><b>In a Jupyter environment, please rerun this cell to show the HTML representation or trust the notebook. <br />On GitHub, the HTML representation is unable to render, please try loading this page with nbviewer.org.</b></div><div class=\"sk-container\" hidden><div class=\"sk-item sk-dashed-wrapped\"><div class=\"sk-label-container\"><div class=\"sk-label sk-toggleable\"><input class=\"sk-toggleable__control sk-hidden--visually\" id=\"sk-estimator-id-8\" type=\"checkbox\" ><label for=\"sk-estimator-id-8\" class=\"sk-toggleable__label sk-toggleable__label-arrow\">GridSearchCV</label><div class=\"sk-toggleable__content\"><pre>GridSearchCV(estimator=SVC(), param_grid={&#x27;kernel&#x27;: [&#x27;linear&#x27;, &#x27;rbf&#x27;]})</pre></div></div></div><div class=\"sk-parallel\"><div class=\"sk-parallel-item\"><div class=\"sk-item\"><div class=\"sk-label-container\"><div class=\"sk-label sk-toggleable\"><input class=\"sk-toggleable__control sk-hidden--visually\" id=\"sk-estimator-id-9\" type=\"checkbox\" ><label for=\"sk-estimator-id-9\" class=\"sk-toggleable__label sk-toggleable__label-arrow\">estimator: SVC</label><div class=\"sk-toggleable__content\"><pre>SVC()</pre></div></div></div><div class=\"sk-serial\"><div class=\"sk-item\"><div class=\"sk-estimator sk-toggleable\"><input class=\"sk-toggleable__control sk-hidden--visually\" id=\"sk-estimator-id-10\" type=\"checkbox\" ><label for=\"sk-estimator-id-10\" class=\"sk-toggleable__label sk-toggleable__label-arrow\">SVC</label><div class=\"sk-toggleable__content\"><pre>SVC()</pre></div></div></div></div></div></div></div></div></div></div>"
      ],
      "text/plain": [
       "GridSearchCV(estimator=SVC(), param_grid={'kernel': ['linear', 'rbf']})"
      ]
     },
     "execution_count": 294,
     "metadata": {},
     "output_type": "execute_result"
    }
   ],
   "source": [
    "gscv.fit(x_train,y_train)"
   ]
  },
  {
   "cell_type": "code",
   "execution_count": 295,
   "id": "b047494b",
   "metadata": {
    "scrolled": true
   },
   "outputs": [
    {
     "name": "stdout",
     "output_type": "stream",
     "text": [
      "best score is: 0.913708060465896 \n",
      " best estimator_s kernal: rbf best parameter : {'kernel': 'rbf'}\n"
     ]
    }
   ],
   "source": [
    "print('best score is:',gscv.best_score_,'\\n','best estimator_s kernal:',gscv.best_estimator_.kernel,'best parameter :',gscv.best_params_)"
   ]
  },
  {
   "cell_type": "code",
   "execution_count": 296,
   "id": "5c8b0d16",
   "metadata": {},
   "outputs": [],
   "source": [
    "#svc = SVC( kernel='rbf')"
   ]
  },
  {
   "cell_type": "markdown",
   "id": "9257a9d3",
   "metadata": {},
   "source": [
    "## Prediction"
   ]
  },
  {
   "cell_type": "code",
   "execution_count": 297,
   "id": "a811b723",
   "metadata": {},
   "outputs": [],
   "source": [
    "data_for_pred = pd.read_csv('https://raw.githubusercontent.com/dsrscientist/dataset5/main/termdeposit_test.csv')"
   ]
  },
  {
   "cell_type": "code",
   "execution_count": 298,
   "id": "4741a521",
   "metadata": {
    "scrolled": true
   },
   "outputs": [
    {
     "data": {
      "text/html": [
       "<div>\n",
       "<style scoped>\n",
       "    .dataframe tbody tr th:only-of-type {\n",
       "        vertical-align: middle;\n",
       "    }\n",
       "\n",
       "    .dataframe tbody tr th {\n",
       "        vertical-align: top;\n",
       "    }\n",
       "\n",
       "    .dataframe thead th {\n",
       "        text-align: right;\n",
       "    }\n",
       "</style>\n",
       "<table border=\"1\" class=\"dataframe\">\n",
       "  <thead>\n",
       "    <tr style=\"text-align: right;\">\n",
       "      <th></th>\n",
       "      <th>ID</th>\n",
       "      <th>age</th>\n",
       "      <th>job</th>\n",
       "      <th>marital</th>\n",
       "      <th>education</th>\n",
       "      <th>default</th>\n",
       "      <th>balance</th>\n",
       "      <th>housing</th>\n",
       "      <th>loan</th>\n",
       "      <th>contact</th>\n",
       "      <th>day</th>\n",
       "      <th>month</th>\n",
       "      <th>duration</th>\n",
       "      <th>campaign</th>\n",
       "      <th>pdays</th>\n",
       "      <th>previous</th>\n",
       "      <th>poutcome</th>\n",
       "    </tr>\n",
       "  </thead>\n",
       "  <tbody>\n",
       "    <tr>\n",
       "      <th>0</th>\n",
       "      <td>38441</td>\n",
       "      <td>32</td>\n",
       "      <td>services</td>\n",
       "      <td>married</td>\n",
       "      <td>secondary</td>\n",
       "      <td>no</td>\n",
       "      <td>118</td>\n",
       "      <td>yes</td>\n",
       "      <td>no</td>\n",
       "      <td>cellular</td>\n",
       "      <td>15</td>\n",
       "      <td>may</td>\n",
       "      <td>20</td>\n",
       "      <td>6</td>\n",
       "      <td>-1</td>\n",
       "      <td>0</td>\n",
       "      <td>unknown</td>\n",
       "    </tr>\n",
       "    <tr>\n",
       "      <th>1</th>\n",
       "      <td>40403</td>\n",
       "      <td>78</td>\n",
       "      <td>retired</td>\n",
       "      <td>divorced</td>\n",
       "      <td>primary</td>\n",
       "      <td>no</td>\n",
       "      <td>2787</td>\n",
       "      <td>no</td>\n",
       "      <td>no</td>\n",
       "      <td>telephone</td>\n",
       "      <td>1</td>\n",
       "      <td>jul</td>\n",
       "      <td>372</td>\n",
       "      <td>1</td>\n",
       "      <td>-1</td>\n",
       "      <td>0</td>\n",
       "      <td>unknown</td>\n",
       "    </tr>\n",
       "    <tr>\n",
       "      <th>2</th>\n",
       "      <td>3709</td>\n",
       "      <td>31</td>\n",
       "      <td>self-employed</td>\n",
       "      <td>single</td>\n",
       "      <td>tertiary</td>\n",
       "      <td>no</td>\n",
       "      <td>144</td>\n",
       "      <td>yes</td>\n",
       "      <td>no</td>\n",
       "      <td>unknown</td>\n",
       "      <td>16</td>\n",
       "      <td>may</td>\n",
       "      <td>676</td>\n",
       "      <td>1</td>\n",
       "      <td>-1</td>\n",
       "      <td>0</td>\n",
       "      <td>unknown</td>\n",
       "    </tr>\n",
       "    <tr>\n",
       "      <th>3</th>\n",
       "      <td>37422</td>\n",
       "      <td>57</td>\n",
       "      <td>services</td>\n",
       "      <td>single</td>\n",
       "      <td>primary</td>\n",
       "      <td>no</td>\n",
       "      <td>3777</td>\n",
       "      <td>yes</td>\n",
       "      <td>no</td>\n",
       "      <td>telephone</td>\n",
       "      <td>13</td>\n",
       "      <td>may</td>\n",
       "      <td>65</td>\n",
       "      <td>2</td>\n",
       "      <td>-1</td>\n",
       "      <td>0</td>\n",
       "      <td>unknown</td>\n",
       "    </tr>\n",
       "    <tr>\n",
       "      <th>4</th>\n",
       "      <td>12527</td>\n",
       "      <td>45</td>\n",
       "      <td>blue-collar</td>\n",
       "      <td>divorced</td>\n",
       "      <td>secondary</td>\n",
       "      <td>no</td>\n",
       "      <td>-705</td>\n",
       "      <td>no</td>\n",
       "      <td>yes</td>\n",
       "      <td>unknown</td>\n",
       "      <td>3</td>\n",
       "      <td>jul</td>\n",
       "      <td>111</td>\n",
       "      <td>1</td>\n",
       "      <td>-1</td>\n",
       "      <td>0</td>\n",
       "      <td>unknown</td>\n",
       "    </tr>\n",
       "    <tr>\n",
       "      <th>...</th>\n",
       "      <td>...</td>\n",
       "      <td>...</td>\n",
       "      <td>...</td>\n",
       "      <td>...</td>\n",
       "      <td>...</td>\n",
       "      <td>...</td>\n",
       "      <td>...</td>\n",
       "      <td>...</td>\n",
       "      <td>...</td>\n",
       "      <td>...</td>\n",
       "      <td>...</td>\n",
       "      <td>...</td>\n",
       "      <td>...</td>\n",
       "      <td>...</td>\n",
       "      <td>...</td>\n",
       "      <td>...</td>\n",
       "      <td>...</td>\n",
       "    </tr>\n",
       "    <tr>\n",
       "      <th>13559</th>\n",
       "      <td>23465</td>\n",
       "      <td>39</td>\n",
       "      <td>management</td>\n",
       "      <td>married</td>\n",
       "      <td>tertiary</td>\n",
       "      <td>no</td>\n",
       "      <td>45</td>\n",
       "      <td>no</td>\n",
       "      <td>no</td>\n",
       "      <td>cellular</td>\n",
       "      <td>28</td>\n",
       "      <td>aug</td>\n",
       "      <td>148</td>\n",
       "      <td>4</td>\n",
       "      <td>-1</td>\n",
       "      <td>0</td>\n",
       "      <td>unknown</td>\n",
       "    </tr>\n",
       "    <tr>\n",
       "      <th>13560</th>\n",
       "      <td>11743</td>\n",
       "      <td>54</td>\n",
       "      <td>blue-collar</td>\n",
       "      <td>married</td>\n",
       "      <td>primary</td>\n",
       "      <td>no</td>\n",
       "      <td>2281</td>\n",
       "      <td>yes</td>\n",
       "      <td>no</td>\n",
       "      <td>unknown</td>\n",
       "      <td>20</td>\n",
       "      <td>jun</td>\n",
       "      <td>158</td>\n",
       "      <td>1</td>\n",
       "      <td>-1</td>\n",
       "      <td>0</td>\n",
       "      <td>unknown</td>\n",
       "    </tr>\n",
       "    <tr>\n",
       "      <th>13561</th>\n",
       "      <td>28292</td>\n",
       "      <td>35</td>\n",
       "      <td>retired</td>\n",
       "      <td>married</td>\n",
       "      <td>primary</td>\n",
       "      <td>no</td>\n",
       "      <td>285</td>\n",
       "      <td>yes</td>\n",
       "      <td>no</td>\n",
       "      <td>cellular</td>\n",
       "      <td>29</td>\n",
       "      <td>jan</td>\n",
       "      <td>136</td>\n",
       "      <td>1</td>\n",
       "      <td>-1</td>\n",
       "      <td>0</td>\n",
       "      <td>unknown</td>\n",
       "    </tr>\n",
       "    <tr>\n",
       "      <th>13562</th>\n",
       "      <td>45163</td>\n",
       "      <td>29</td>\n",
       "      <td>admin.</td>\n",
       "      <td>single</td>\n",
       "      <td>secondary</td>\n",
       "      <td>no</td>\n",
       "      <td>464</td>\n",
       "      <td>no</td>\n",
       "      <td>no</td>\n",
       "      <td>cellular</td>\n",
       "      <td>9</td>\n",
       "      <td>nov</td>\n",
       "      <td>208</td>\n",
       "      <td>2</td>\n",
       "      <td>91</td>\n",
       "      <td>3</td>\n",
       "      <td>success</td>\n",
       "    </tr>\n",
       "    <tr>\n",
       "      <th>13563</th>\n",
       "      <td>34839</td>\n",
       "      <td>29</td>\n",
       "      <td>admin.</td>\n",
       "      <td>married</td>\n",
       "      <td>secondary</td>\n",
       "      <td>no</td>\n",
       "      <td>2</td>\n",
       "      <td>yes</td>\n",
       "      <td>no</td>\n",
       "      <td>cellular</td>\n",
       "      <td>6</td>\n",
       "      <td>may</td>\n",
       "      <td>339</td>\n",
       "      <td>1</td>\n",
       "      <td>362</td>\n",
       "      <td>1</td>\n",
       "      <td>failure</td>\n",
       "    </tr>\n",
       "  </tbody>\n",
       "</table>\n",
       "<p>13564 rows × 17 columns</p>\n",
       "</div>"
      ],
      "text/plain": [
       "          ID  age            job   marital  education default  balance  \\\n",
       "0      38441   32       services   married  secondary      no      118   \n",
       "1      40403   78        retired  divorced    primary      no     2787   \n",
       "2       3709   31  self-employed    single   tertiary      no      144   \n",
       "3      37422   57       services    single    primary      no     3777   \n",
       "4      12527   45    blue-collar  divorced  secondary      no     -705   \n",
       "...      ...  ...            ...       ...        ...     ...      ...   \n",
       "13559  23465   39     management   married   tertiary      no       45   \n",
       "13560  11743   54    blue-collar   married    primary      no     2281   \n",
       "13561  28292   35        retired   married    primary      no      285   \n",
       "13562  45163   29         admin.    single  secondary      no      464   \n",
       "13563  34839   29         admin.   married  secondary      no        2   \n",
       "\n",
       "      housing loan    contact  day month  duration  campaign  pdays  previous  \\\n",
       "0         yes   no   cellular   15   may        20         6     -1         0   \n",
       "1          no   no  telephone    1   jul       372         1     -1         0   \n",
       "2         yes   no    unknown   16   may       676         1     -1         0   \n",
       "3         yes   no  telephone   13   may        65         2     -1         0   \n",
       "4          no  yes    unknown    3   jul       111         1     -1         0   \n",
       "...       ...  ...        ...  ...   ...       ...       ...    ...       ...   \n",
       "13559      no   no   cellular   28   aug       148         4     -1         0   \n",
       "13560     yes   no    unknown   20   jun       158         1     -1         0   \n",
       "13561     yes   no   cellular   29   jan       136         1     -1         0   \n",
       "13562      no   no   cellular    9   nov       208         2     91         3   \n",
       "13563     yes   no   cellular    6   may       339         1    362         1   \n",
       "\n",
       "      poutcome  \n",
       "0      unknown  \n",
       "1      unknown  \n",
       "2      unknown  \n",
       "3      unknown  \n",
       "4      unknown  \n",
       "...        ...  \n",
       "13559  unknown  \n",
       "13560  unknown  \n",
       "13561  unknown  \n",
       "13562  success  \n",
       "13563  failure  \n",
       "\n",
       "[13564 rows x 17 columns]"
      ]
     },
     "execution_count": 298,
     "metadata": {},
     "output_type": "execute_result"
    }
   ],
   "source": [
    "data_for_pred"
   ]
  },
  {
   "cell_type": "code",
   "execution_count": 306,
   "id": "60b41fc8",
   "metadata": {},
   "outputs": [
    {
     "name": "stdout",
     "output_type": "stream",
     "text": [
      "Value counts before label encoding for column :  job\n",
      "blue-collar      2890\n",
      "management       2819\n",
      "technician       2290\n",
      "admin.           1540\n",
      "services         1251\n",
      "retired           690\n",
      "entrepreneur      479\n",
      "self-employed     456\n",
      "unemployed        398\n",
      "housemaid         366\n",
      "student           303\n",
      "unknown            82\n",
      "Name: job, dtype: int64\n",
      "Value counts after label encoding for column :  job\n",
      "1     2890\n",
      "4     2819\n",
      "9     2290\n",
      "0     1540\n",
      "7     1251\n",
      "5      690\n",
      "2      479\n",
      "6      456\n",
      "10     398\n",
      "3      366\n",
      "8      303\n",
      "11      82\n",
      "Name: job, dtype: int64\n",
      "Value counts before label encoding for column :  marital\n",
      "married     8119\n",
      "single      3868\n",
      "divorced    1577\n",
      "Name: marital, dtype: int64\n",
      "Value counts after label encoding for column :  marital\n",
      "1    8119\n",
      "2    3868\n",
      "0    1577\n",
      "Name: marital, dtype: int64\n",
      "Value counts before label encoding for column :  education\n",
      "secondary    6978\n",
      "tertiary     4000\n",
      "primary      2043\n",
      "unknown       543\n",
      "Name: education, dtype: int64\n",
      "Value counts after label encoding for column :  education\n",
      "1    6978\n",
      "2    4000\n",
      "0    2043\n",
      "3     543\n",
      "Name: education, dtype: int64\n",
      "Value counts before label encoding for column :  default\n",
      "no     13334\n",
      "yes      230\n",
      "Name: default, dtype: int64\n",
      "Value counts after label encoding for column :  default\n",
      "0    13334\n",
      "1      230\n",
      "Name: default, dtype: int64\n",
      "Value counts before label encoding for column :  housing\n",
      "yes    7546\n",
      "no     6018\n",
      "Name: housing, dtype: int64\n",
      "Value counts after label encoding for column :  housing\n",
      "1    7546\n",
      "0    6018\n",
      "Name: housing, dtype: int64\n",
      "Value counts before label encoding for column :  loan\n",
      "no     11451\n",
      "yes     2113\n",
      "Name: loan, dtype: int64\n",
      "Value counts after label encoding for column :  loan\n",
      "0    11451\n",
      "1     2113\n",
      "Name: loan, dtype: int64\n",
      "Value counts before label encoding for column :  contact\n",
      "cellular     8862\n",
      "unknown      3843\n",
      "telephone     859\n",
      "Name: contact, dtype: int64\n",
      "Value counts after label encoding for column :  contact\n",
      "0    8862\n",
      "2    3843\n",
      "1     859\n",
      "Name: contact, dtype: int64\n",
      "Value counts before label encoding for column :  month\n",
      "may    4097\n",
      "jul    2051\n",
      "aug    1914\n",
      "jun    1603\n",
      "nov    1187\n",
      "apr     877\n",
      "feb     822\n",
      "jan     426\n",
      "oct     226\n",
      "sep     169\n",
      "mar     135\n",
      "dec      57\n",
      "Name: month, dtype: int64\n",
      "Value counts after label encoding for column :  month\n",
      "8     4097\n",
      "5     2051\n",
      "1     1914\n",
      "6     1603\n",
      "9     1187\n",
      "0      877\n",
      "3      822\n",
      "4      426\n",
      "10     226\n",
      "11     169\n",
      "7      135\n",
      "2       57\n",
      "Name: month, dtype: int64\n",
      "Value counts before label encoding for column :  poutcome\n",
      "unknown    11030\n",
      "failure     1539\n",
      "other        552\n",
      "success      443\n",
      "Name: poutcome, dtype: int64\n",
      "Value counts after label encoding for column :  poutcome\n",
      "3    11030\n",
      "0     1539\n",
      "1      552\n",
      "2      443\n",
      "Name: poutcome, dtype: int64\n"
     ]
    }
   ],
   "source": [
    "for col in data_for_pred.select_dtypes(include='object'):\n",
    "    print(\"Value counts before label encoding for column : \",col)\n",
    "    print(data_for_pred[col].value_counts())\n",
    "    # Perform label encoding\n",
    "    le = LabelEncoder()\n",
    "    data_for_pred[col] = le.fit_transform(data_for_pred[col])\n",
    "\n",
    "    # Print the value counts after label encoding\n",
    "    print(\"Value counts after label encoding for column : \",col)\n",
    "    print(data_for_pred[col].value_counts())"
   ]
  },
  {
   "cell_type": "code",
   "execution_count": 316,
   "id": "f546cc53",
   "metadata": {},
   "outputs": [],
   "source": [
    "def prediction(data_for_pred):\n",
    "    #data1= np.array(data1)\n",
    "    #data1= data1.reshape(1,-1)\n",
    "    pred_x = data_for_pred.iloc[:,:-1]\n",
    "    pred= RFC.predict(pred_x)\n",
    "    print(pred)"
   ]
  },
  {
   "cell_type": "code",
   "execution_count": 317,
   "id": "d7160e29",
   "metadata": {},
   "outputs": [
    {
     "name": "stdout",
     "output_type": "stream",
     "text": [
      "[0 0 0 ... 1 1 1]\n"
     ]
    },
    {
     "name": "stderr",
     "output_type": "stream",
     "text": [
      "C:\\Users\\dell\\AppData\\Roaming\\Python\\Python39\\site-packages\\sklearn\\base.py:443: UserWarning: X has feature names, but RandomForestClassifier was fitted without feature names\n",
      "  warnings.warn(\n"
     ]
    }
   ],
   "source": [
    "prediction(data_for_pred)"
   ]
  },
  {
   "cell_type": "markdown",
   "id": "d8dd68f9",
   "metadata": {},
   "source": [
    "## Saving Data"
   ]
  },
  {
   "cell_type": "code",
   "execution_count": 319,
   "id": "36a7fcbf",
   "metadata": {},
   "outputs": [],
   "source": [
    "import joblib"
   ]
  },
  {
   "cell_type": "code",
   "execution_count": 318,
   "id": "5b1010fb",
   "metadata": {},
   "outputs": [
    {
     "data": {
      "text/plain": [
       "['FD-Prediction']"
      ]
     },
     "execution_count": 318,
     "metadata": {},
     "output_type": "execute_result"
    }
   ],
   "source": [
    "joblib.dump(RFC,'FD-Prediction')"
   ]
  },
  {
   "cell_type": "code",
   "execution_count": null,
   "id": "05d3ed34",
   "metadata": {},
   "outputs": [],
   "source": []
  },
  {
   "cell_type": "code",
   "execution_count": null,
   "id": "3c743c8a",
   "metadata": {},
   "outputs": [],
   "source": []
  }
 ],
 "metadata": {
  "kernelspec": {
   "display_name": "Python 3 (ipykernel)",
   "language": "python",
   "name": "python3"
  },
  "language_info": {
   "codemirror_mode": {
    "name": "ipython",
    "version": 3
   },
   "file_extension": ".py",
   "mimetype": "text/x-python",
   "name": "python",
   "nbconvert_exporter": "python",
   "pygments_lexer": "ipython3",
   "version": "3.9.12"
  }
 },
 "nbformat": 4,
 "nbformat_minor": 5
}
